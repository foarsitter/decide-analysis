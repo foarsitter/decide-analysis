{
 "cells": [
  {
   "cell_type": "code",
   "execution_count": 3,
   "metadata": {
    "pycharm": {
     "is_executing": false
    }
   },
   "outputs": [],
   "source": [
    "import numpy as np\n",
    "import pandas as pd\n",
    "import matplotlib.pyplot as plt\n",
    "import sqlite3\n",
    "import ipywidgets as widget\n",
    "%matplotlib inline\n",
    "\n",
    "conn = sqlite3.connect('/home/jelmert/PycharmProjects/decide-exchange-model/data/output/decide-data_1.db')\n"
   ]
  },
  {
   "cell_type": "code",
   "execution_count": 4,
   "metadata": {
    "pycharm": {
     "is_executing": false
    }
   },
   "outputs": [],
   "source": [
    "df = pd.read_sql(\"\"\"\n",
    "SELECT i2.name as issue, a.name as actor, ai.position, ai.salience, ai.power FROM actorissue ai\n",
    "  JOIN iteration i on ai.iteration_id = i.id\n",
    "  JOIN repetition r on i.repetition_id = r.id\n",
    "  JOIN modelrun m on r.model_run_id = m.id\n",
    "  JOIN actor a on ai.actor_id = a.id\n",
    "  JOIN issue i2 on ai.issue_id = i2.id\n",
    "WHERE r.id = 1 and ai.type = 'before' and i.pointer = 0\n",
    "GROUP BY ai.issue_id, ai.actor_id\n",
    "ORDER BY i2.name, ai.position;\n",
    "\"\"\", conn)"
   ]
  },
  {
   "cell_type": "code",
   "execution_count": 5,
   "metadata": {
    "pycharm": {
     "is_executing": false
    }
   },
   "outputs": [
    {
     "data": {
      "text/html": "<div>\n<style scoped>\n    .dataframe tbody tr th:only-of-type {\n        vertical-align: middle;\n    }\n\n    .dataframe tbody tr th {\n        vertical-align: top;\n    }\n\n    .dataframe thead th {\n        text-align: right;\n    }\n</style>\n<table border=\"1\" class=\"dataframe\">\n  <thead>\n    <tr style=\"text-align: right;\">\n      <th></th>\n      <th>issue</th>\n      <th>actor</th>\n      <th>position</th>\n      <th>salience</th>\n      <th>power</th>\n    </tr>\n  </thead>\n  <tbody>\n  </tbody>\n</table>\n</div>",
      "text/plain": "Empty DataFrame\nColumns: [issue, actor, position, salience, power]\nIndex: []"
     },
     "metadata": {},
     "output_type": "execute_result",
     "execution_count": 5
    }
   ],
   "source": [
    "df"
   ]
  }
 ],
 "metadata": {
  "kernelspec": {
   "display_name": "Python 3",
   "language": "python",
   "name": "python3"
  },
  "language_info": {
   "codemirror_mode": {
    "name": "ipython",
    "version": 3
   },
   "file_extension": ".py",
   "mimetype": "text/x-python",
   "name": "python",
   "nbconvert_exporter": "python",
   "pygments_lexer": "ipython3",
   "version": "3.5.2"
  },
  "pycharm": {
   "stem_cell": {
    "cell_type": "raw",
    "source": [],
    "metadata": {
     "collapsed": false
    }
   }
  }
 },
 "nbformat": 4,
 "nbformat_minor": 1
}