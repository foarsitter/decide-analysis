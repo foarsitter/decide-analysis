{
 "cells": [
  {
   "cell_type": "markdown",
   "metadata": {},
   "source": [
    "# Sheet\n",
    "Vergelijk de verschillen in de NBS per issue en per waarde van p"
   ]
  },
  {
   "cell_type": "code",
   "execution_count": 94,
   "metadata": {
    "pycharm": {
     "is_executing": false
    }
   },
   "outputs": [],
   "source": [
    "import numpy as np\n",
    "import pandas as pd\n",
    "import matplotlib.pyplot as plt\n",
    "import sqlite3\n",
    "import ipywidgets as widget\n",
    "%matplotlib inline"
   ]
  },
  {
   "cell_type": "code",
   "execution_count": 95,
   "metadata": {
    "pycharm": {
     "is_executing": false
    }
   },
   "outputs": [],
   "source": [
    "conn = sqlite3.connect('C:\\\\Users\\\\jelme\\\\PycharmProjects\\\\decide-exchange-model\\\\data\\\\output\\\\decide-data_1.db')\n",
    "data_set_id = 1"
   ]
  },
  {
   "cell_type": "code",
   "execution_count": 96,
   "metadata": {
    "pycharm": {
     "is_executing": false
    }
   },
   "outputs": [],
   "source": [
    "df = pd.read_sql(\"\"\"\n",
    "SELECT\n",
    "  a.p as p,\n",
    "  a.issue as issue,\n",
    "  a.iteration as iteration,\n",
    "  a.repetion as repetion,\n",
    "  a.numerator / a.denominator AS nbs\n",
    "FROM (SELECT\n",
    "        sum(ai.position * ai.power * ai.salience) AS numerator,\n",
    "        sum(ai.salience * ai.power)               AS denominator,\n",
    "        r.pointer                                 AS repetion,\n",
    "        i2.pointer                                AS iteration,\n",
    "        m.p,\n",
    "  i.name as issue\n",
    "      FROM actorissue ai\n",
    "        LEFT JOIN issue i ON ai.issue_id = i.id\n",
    "        LEFT JOIN actor a ON ai.actor_id = a.id\n",
    "        LEFT JOIN iteration i2 ON ai.iteration_id = i2.id\n",
    "        LEFT JOIN repetition r ON i2.repetition_id = r.id\n",
    "        LEFT JOIN modelrun m ON r.model_run_id = m.id        \n",
    "      WHERE  ai.type = 'before' AND m.id IN (%s)\n",
    "     GROUP BY m.id,r.id, i2.id, i.id) a\n",
    "\"\"\" % ','.join(['13', '14']), \n",
    "                 conn, \n",
    "                 # params=((13, 14), ),\n",
    "                 index_col='p',                  \n",
    "                 columns=['nbs']\n",
    "                )\n",
    "\n",
    "def avg_std(series):\n",
    "    avg = np.average(series)\n",
    "    std = np.var(series, ddof=1)\n",
    "    \n",
    "    return '{0} ({1})'.format(round(avg, 5), round(std, 5)) \n",
    "\n",
    "table_avg = pd.pivot_table(df, index=['issue','p'], columns=['iteration'],values=['nbs'],aggfunc=np.average)\n",
    "table_var = pd.pivot_table(df, index=['issue','p'], columns=['iteration'],values=['nbs'],aggfunc=np.var)\n"
   ]
  },
  {
   "cell_type": "markdown",
   "metadata": {},
   "source": [
    "# Verloop NBS\n",
    "In onderstaande tabel wordt het gemiddelde verloop van de NBS scores getoond per issue. Tussen haakjes achter de NBS score staat de standaarddeviatie.\n",
    "\n",
    "Onder de tabel staat het verloop van het gemiddelde afgebeeld in een grafiek per issue"
   ]
  },
  {
   "cell_type": "code",
   "execution_count": 97,
   "metadata": {
    "scrolled": false,
    "pycharm": {
     "is_executing": false
    }
   },
   "outputs": [
    {
     "data": {
      "text/plain": "                       nbs                                              \\\niteration                0          1          2          3          4   \nissue       p                                                            \nCommitments 0.0  51.949891  46.903922  40.014723  35.957876  31.093661   \n            0.8  51.949891  46.903922  40.014723  35.998601  31.169453   \nControl     0.0  57.621448  61.277734  64.601846  68.377021  69.537549   \n            0.8  57.621448  61.278994  64.602530  68.462475  69.548125   \nDevlopC2020 0.0  58.144654  60.170779  61.897256  63.594463  66.366451   \n            0.8  58.144654  59.334944  60.935066  62.981908  66.235325   \nDomestred   0.0  30.707395  32.362114  33.403237  34.731543  35.348225   \n            0.8  30.707395  34.108808  35.830509  37.224530  34.686722   \nExtra       0.0  64.620690  73.409655  79.837446  84.017912  86.012261   \n            0.8  64.620690  73.409655  79.837446  84.019262  86.377613   \nMRVdecrease 0.0  52.235915  50.569595  47.280761  50.351033  47.498035   \n            0.8  52.235915  50.902355  47.590566  50.522347  47.701101   \nNewtreaty   0.0  61.576271  61.040023  57.540597  58.292395  55.807797   \n            0.8  61.576271  60.840267  57.292655  57.845659  54.378177   \n\n                                                                        \niteration                5          6          7          8          9  \nissue       p                                                           \nCommitments 0.0  27.661977  25.322563  22.578786  20.304041  19.838221  \n            0.8  28.007059  25.883338  24.109032  23.482495  23.133625  \nControl     0.0  72.075387  71.850111  72.645977  72.847660  73.847869  \n            0.8  71.890353  72.477236  71.922070  72.759578  73.467242  \nDevlopC2020 0.0  67.847209  69.672412  71.637316  71.889880  72.005476  \n            0.8  68.673716  70.422913  70.963263  72.155949  72.950570  \nDomestred   0.0  33.472802  33.005982  33.067912  32.225171  31.574803  \n            0.8  33.031229  33.989558  32.454837  32.744845  32.208970  \nExtra       0.0  88.427420  90.063250  90.613543  92.359755  93.603150  \n            0.8  88.838974  90.424037  91.767241  92.986852  93.691924  \nMRVdecrease 0.0  49.272715  46.990001  48.516096  47.993194  47.311256  \n            0.8  49.782348  47.365547  49.061291  48.159496  48.401969  \nNewtreaty   0.0  56.650153  56.512465  57.720145  57.494058  57.700881  \n            0.8  54.893468  54.582080  55.561715  55.627136  55.651666  ",
      "text/html": "<div>\n<style scoped>\n    .dataframe tbody tr th:only-of-type {\n        vertical-align: middle;\n    }\n\n    .dataframe tbody tr th {\n        vertical-align: top;\n    }\n\n    .dataframe thead tr th {\n        text-align: left;\n    }\n\n    .dataframe thead tr:last-of-type th {\n        text-align: right;\n    }\n</style>\n<table border=\"1\" class=\"dataframe\">\n  <thead>\n    <tr>\n      <th></th>\n      <th></th>\n      <th colspan=\"10\" halign=\"left\">nbs</th>\n    </tr>\n    <tr>\n      <th></th>\n      <th>iteration</th>\n      <th>0</th>\n      <th>1</th>\n      <th>2</th>\n      <th>3</th>\n      <th>4</th>\n      <th>5</th>\n      <th>6</th>\n      <th>7</th>\n      <th>8</th>\n      <th>9</th>\n    </tr>\n    <tr>\n      <th>issue</th>\n      <th>p</th>\n      <th></th>\n      <th></th>\n      <th></th>\n      <th></th>\n      <th></th>\n      <th></th>\n      <th></th>\n      <th></th>\n      <th></th>\n      <th></th>\n    </tr>\n  </thead>\n  <tbody>\n    <tr>\n      <th rowspan=\"2\" valign=\"top\">Commitments</th>\n      <th>0.0</th>\n      <td>51.949891</td>\n      <td>46.903922</td>\n      <td>40.014723</td>\n      <td>35.957876</td>\n      <td>31.093661</td>\n      <td>27.661977</td>\n      <td>25.322563</td>\n      <td>22.578786</td>\n      <td>20.304041</td>\n      <td>19.838221</td>\n    </tr>\n    <tr>\n      <th>0.8</th>\n      <td>51.949891</td>\n      <td>46.903922</td>\n      <td>40.014723</td>\n      <td>35.998601</td>\n      <td>31.169453</td>\n      <td>28.007059</td>\n      <td>25.883338</td>\n      <td>24.109032</td>\n      <td>23.482495</td>\n      <td>23.133625</td>\n    </tr>\n    <tr>\n      <th rowspan=\"2\" valign=\"top\">Control</th>\n      <th>0.0</th>\n      <td>57.621448</td>\n      <td>61.277734</td>\n      <td>64.601846</td>\n      <td>68.377021</td>\n      <td>69.537549</td>\n      <td>72.075387</td>\n      <td>71.850111</td>\n      <td>72.645977</td>\n      <td>72.847660</td>\n      <td>73.847869</td>\n    </tr>\n    <tr>\n      <th>0.8</th>\n      <td>57.621448</td>\n      <td>61.278994</td>\n      <td>64.602530</td>\n      <td>68.462475</td>\n      <td>69.548125</td>\n      <td>71.890353</td>\n      <td>72.477236</td>\n      <td>71.922070</td>\n      <td>72.759578</td>\n      <td>73.467242</td>\n    </tr>\n    <tr>\n      <th rowspan=\"2\" valign=\"top\">DevlopC2020</th>\n      <th>0.0</th>\n      <td>58.144654</td>\n      <td>60.170779</td>\n      <td>61.897256</td>\n      <td>63.594463</td>\n      <td>66.366451</td>\n      <td>67.847209</td>\n      <td>69.672412</td>\n      <td>71.637316</td>\n      <td>71.889880</td>\n      <td>72.005476</td>\n    </tr>\n    <tr>\n      <th>0.8</th>\n      <td>58.144654</td>\n      <td>59.334944</td>\n      <td>60.935066</td>\n      <td>62.981908</td>\n      <td>66.235325</td>\n      <td>68.673716</td>\n      <td>70.422913</td>\n      <td>70.963263</td>\n      <td>72.155949</td>\n      <td>72.950570</td>\n    </tr>\n    <tr>\n      <th rowspan=\"2\" valign=\"top\">Domestred</th>\n      <th>0.0</th>\n      <td>30.707395</td>\n      <td>32.362114</td>\n      <td>33.403237</td>\n      <td>34.731543</td>\n      <td>35.348225</td>\n      <td>33.472802</td>\n      <td>33.005982</td>\n      <td>33.067912</td>\n      <td>32.225171</td>\n      <td>31.574803</td>\n    </tr>\n    <tr>\n      <th>0.8</th>\n      <td>30.707395</td>\n      <td>34.108808</td>\n      <td>35.830509</td>\n      <td>37.224530</td>\n      <td>34.686722</td>\n      <td>33.031229</td>\n      <td>33.989558</td>\n      <td>32.454837</td>\n      <td>32.744845</td>\n      <td>32.208970</td>\n    </tr>\n    <tr>\n      <th rowspan=\"2\" valign=\"top\">Extra</th>\n      <th>0.0</th>\n      <td>64.620690</td>\n      <td>73.409655</td>\n      <td>79.837446</td>\n      <td>84.017912</td>\n      <td>86.012261</td>\n      <td>88.427420</td>\n      <td>90.063250</td>\n      <td>90.613543</td>\n      <td>92.359755</td>\n      <td>93.603150</td>\n    </tr>\n    <tr>\n      <th>0.8</th>\n      <td>64.620690</td>\n      <td>73.409655</td>\n      <td>79.837446</td>\n      <td>84.019262</td>\n      <td>86.377613</td>\n      <td>88.838974</td>\n      <td>90.424037</td>\n      <td>91.767241</td>\n      <td>92.986852</td>\n      <td>93.691924</td>\n    </tr>\n    <tr>\n      <th rowspan=\"2\" valign=\"top\">MRVdecrease</th>\n      <th>0.0</th>\n      <td>52.235915</td>\n      <td>50.569595</td>\n      <td>47.280761</td>\n      <td>50.351033</td>\n      <td>47.498035</td>\n      <td>49.272715</td>\n      <td>46.990001</td>\n      <td>48.516096</td>\n      <td>47.993194</td>\n      <td>47.311256</td>\n    </tr>\n    <tr>\n      <th>0.8</th>\n      <td>52.235915</td>\n      <td>50.902355</td>\n      <td>47.590566</td>\n      <td>50.522347</td>\n      <td>47.701101</td>\n      <td>49.782348</td>\n      <td>47.365547</td>\n      <td>49.061291</td>\n      <td>48.159496</td>\n      <td>48.401969</td>\n    </tr>\n    <tr>\n      <th rowspan=\"2\" valign=\"top\">Newtreaty</th>\n      <th>0.0</th>\n      <td>61.576271</td>\n      <td>61.040023</td>\n      <td>57.540597</td>\n      <td>58.292395</td>\n      <td>55.807797</td>\n      <td>56.650153</td>\n      <td>56.512465</td>\n      <td>57.720145</td>\n      <td>57.494058</td>\n      <td>57.700881</td>\n    </tr>\n    <tr>\n      <th>0.8</th>\n      <td>61.576271</td>\n      <td>60.840267</td>\n      <td>57.292655</td>\n      <td>57.845659</td>\n      <td>54.378177</td>\n      <td>54.893468</td>\n      <td>54.582080</td>\n      <td>55.561715</td>\n      <td>55.627136</td>\n      <td>55.651666</td>\n    </tr>\n  </tbody>\n</table>\n</div>"
     },
     "metadata": {},
     "output_type": "execute_result",
     "execution_count": 97
    }
   ],
   "source": [
    "pd.set_option('display.max_rows', 500)\n",
    "pd.set_option('display.max_columns', 500)\n",
    "\n",
    "table_avg"
   ]
  },
  {
   "cell_type": "code",
   "execution_count": 98,
   "metadata": {
    "pycharm": {
     "is_executing": false
    }
   },
   "outputs": [
    {
     "data": {
      "text/plain": "                 nbs                                                        \\\niteration          0             1         2         3         4         5   \nissue       p                                                                \nCommitments 0.0  0.0  0.000000e+00  0.000000  0.000028  0.000054  0.078218   \n            0.8  0.0  0.000000e+00  0.000000  0.005506  0.016912  0.073767   \nControl     0.0  0.0  0.000000e+00  0.000000  0.000000  0.001215  0.000605   \n            0.8  0.0  2.755447e-04  0.000097  0.001461  0.002291  0.089179   \nDevlopC2020 0.0  0.0  0.000000e+00  0.000081  0.000930  0.001609  0.214159   \n            0.8  0.0  3.281962e-02  0.006432  0.001452  0.004416  0.072160   \nDomestred   0.0  0.0  0.000000e+00  0.001305  0.001047  0.003141  0.002760   \n            0.8  0.0  5.931735e-02  0.139509  0.078946  0.133825  0.063064   \nExtra       0.0  0.0  0.000000e+00  0.000000  0.000006  0.000003  0.032812   \n            0.8  0.0  0.000000e+00  0.000000  0.004770  0.004030  0.010694   \nMRVdecrease 0.0  0.0  3.340425e-02  0.159544  0.232584  0.000994  0.016336   \n            0.8  0.0  3.132709e-03  0.078951  0.013553  0.011005  0.104003   \nNewtreaty   0.0  0.0  8.083003e-02  0.455040  0.519557  0.000255  0.003002   \n            0.8  0.0  1.154686e-07  0.106053  0.011591  0.011736  0.014849   \n\n                                                         \niteration               6         7         8         9  \nissue       p                                            \nCommitments 0.0  0.054543  0.038960  0.010215  0.037910  \n            0.8  0.059988  0.468240  1.023983  2.806580  \nControl     0.0  0.000399  0.000180  0.008653  0.018530  \n            0.8  1.017938  0.222013  0.155624  0.058127  \nDevlopC2020 0.0  0.088530  0.001449  0.000487  0.004820  \n            0.8  0.325595  0.157429  0.238920  0.055161  \nDomestred   0.0  0.012727  0.053681  0.075207  0.057910  \n            0.8  0.147551  0.193090  0.365098  0.557408  \nExtra       0.0  0.000144  0.011683  0.000586  0.004905  \n            0.8  0.001566  0.023154  0.010992  0.029638  \nMRVdecrease 0.0  0.016243  0.082836  0.060895  0.431277  \n            0.8  0.570473  0.011568  1.443060  0.613245  \nNewtreaty   0.0  0.025573  0.022046  0.046459  0.001559  \n            0.8  0.222345  0.434998  0.146198  1.162251  ",
      "text/html": "<div>\n<style scoped>\n    .dataframe tbody tr th:only-of-type {\n        vertical-align: middle;\n    }\n\n    .dataframe tbody tr th {\n        vertical-align: top;\n    }\n\n    .dataframe thead tr th {\n        text-align: left;\n    }\n\n    .dataframe thead tr:last-of-type th {\n        text-align: right;\n    }\n</style>\n<table border=\"1\" class=\"dataframe\">\n  <thead>\n    <tr>\n      <th></th>\n      <th></th>\n      <th colspan=\"10\" halign=\"left\">nbs</th>\n    </tr>\n    <tr>\n      <th></th>\n      <th>iteration</th>\n      <th>0</th>\n      <th>1</th>\n      <th>2</th>\n      <th>3</th>\n      <th>4</th>\n      <th>5</th>\n      <th>6</th>\n      <th>7</th>\n      <th>8</th>\n      <th>9</th>\n    </tr>\n    <tr>\n      <th>issue</th>\n      <th>p</th>\n      <th></th>\n      <th></th>\n      <th></th>\n      <th></th>\n      <th></th>\n      <th></th>\n      <th></th>\n      <th></th>\n      <th></th>\n      <th></th>\n    </tr>\n  </thead>\n  <tbody>\n    <tr>\n      <th rowspan=\"2\" valign=\"top\">Commitments</th>\n      <th>0.0</th>\n      <td>0.0</td>\n      <td>0.000000e+00</td>\n      <td>0.000000</td>\n      <td>0.000028</td>\n      <td>0.000054</td>\n      <td>0.078218</td>\n      <td>0.054543</td>\n      <td>0.038960</td>\n      <td>0.010215</td>\n      <td>0.037910</td>\n    </tr>\n    <tr>\n      <th>0.8</th>\n      <td>0.0</td>\n      <td>0.000000e+00</td>\n      <td>0.000000</td>\n      <td>0.005506</td>\n      <td>0.016912</td>\n      <td>0.073767</td>\n      <td>0.059988</td>\n      <td>0.468240</td>\n      <td>1.023983</td>\n      <td>2.806580</td>\n    </tr>\n    <tr>\n      <th rowspan=\"2\" valign=\"top\">Control</th>\n      <th>0.0</th>\n      <td>0.0</td>\n      <td>0.000000e+00</td>\n      <td>0.000000</td>\n      <td>0.000000</td>\n      <td>0.001215</td>\n      <td>0.000605</td>\n      <td>0.000399</td>\n      <td>0.000180</td>\n      <td>0.008653</td>\n      <td>0.018530</td>\n    </tr>\n    <tr>\n      <th>0.8</th>\n      <td>0.0</td>\n      <td>2.755447e-04</td>\n      <td>0.000097</td>\n      <td>0.001461</td>\n      <td>0.002291</td>\n      <td>0.089179</td>\n      <td>1.017938</td>\n      <td>0.222013</td>\n      <td>0.155624</td>\n      <td>0.058127</td>\n    </tr>\n    <tr>\n      <th rowspan=\"2\" valign=\"top\">DevlopC2020</th>\n      <th>0.0</th>\n      <td>0.0</td>\n      <td>0.000000e+00</td>\n      <td>0.000081</td>\n      <td>0.000930</td>\n      <td>0.001609</td>\n      <td>0.214159</td>\n      <td>0.088530</td>\n      <td>0.001449</td>\n      <td>0.000487</td>\n      <td>0.004820</td>\n    </tr>\n    <tr>\n      <th>0.8</th>\n      <td>0.0</td>\n      <td>3.281962e-02</td>\n      <td>0.006432</td>\n      <td>0.001452</td>\n      <td>0.004416</td>\n      <td>0.072160</td>\n      <td>0.325595</td>\n      <td>0.157429</td>\n      <td>0.238920</td>\n      <td>0.055161</td>\n    </tr>\n    <tr>\n      <th rowspan=\"2\" valign=\"top\">Domestred</th>\n      <th>0.0</th>\n      <td>0.0</td>\n      <td>0.000000e+00</td>\n      <td>0.001305</td>\n      <td>0.001047</td>\n      <td>0.003141</td>\n      <td>0.002760</td>\n      <td>0.012727</td>\n      <td>0.053681</td>\n      <td>0.075207</td>\n      <td>0.057910</td>\n    </tr>\n    <tr>\n      <th>0.8</th>\n      <td>0.0</td>\n      <td>5.931735e-02</td>\n      <td>0.139509</td>\n      <td>0.078946</td>\n      <td>0.133825</td>\n      <td>0.063064</td>\n      <td>0.147551</td>\n      <td>0.193090</td>\n      <td>0.365098</td>\n      <td>0.557408</td>\n    </tr>\n    <tr>\n      <th rowspan=\"2\" valign=\"top\">Extra</th>\n      <th>0.0</th>\n      <td>0.0</td>\n      <td>0.000000e+00</td>\n      <td>0.000000</td>\n      <td>0.000006</td>\n      <td>0.000003</td>\n      <td>0.032812</td>\n      <td>0.000144</td>\n      <td>0.011683</td>\n      <td>0.000586</td>\n      <td>0.004905</td>\n    </tr>\n    <tr>\n      <th>0.8</th>\n      <td>0.0</td>\n      <td>0.000000e+00</td>\n      <td>0.000000</td>\n      <td>0.004770</td>\n      <td>0.004030</td>\n      <td>0.010694</td>\n      <td>0.001566</td>\n      <td>0.023154</td>\n      <td>0.010992</td>\n      <td>0.029638</td>\n    </tr>\n    <tr>\n      <th rowspan=\"2\" valign=\"top\">MRVdecrease</th>\n      <th>0.0</th>\n      <td>0.0</td>\n      <td>3.340425e-02</td>\n      <td>0.159544</td>\n      <td>0.232584</td>\n      <td>0.000994</td>\n      <td>0.016336</td>\n      <td>0.016243</td>\n      <td>0.082836</td>\n      <td>0.060895</td>\n      <td>0.431277</td>\n    </tr>\n    <tr>\n      <th>0.8</th>\n      <td>0.0</td>\n      <td>3.132709e-03</td>\n      <td>0.078951</td>\n      <td>0.013553</td>\n      <td>0.011005</td>\n      <td>0.104003</td>\n      <td>0.570473</td>\n      <td>0.011568</td>\n      <td>1.443060</td>\n      <td>0.613245</td>\n    </tr>\n    <tr>\n      <th rowspan=\"2\" valign=\"top\">Newtreaty</th>\n      <th>0.0</th>\n      <td>0.0</td>\n      <td>8.083003e-02</td>\n      <td>0.455040</td>\n      <td>0.519557</td>\n      <td>0.000255</td>\n      <td>0.003002</td>\n      <td>0.025573</td>\n      <td>0.022046</td>\n      <td>0.046459</td>\n      <td>0.001559</td>\n    </tr>\n    <tr>\n      <th>0.8</th>\n      <td>0.0</td>\n      <td>1.154686e-07</td>\n      <td>0.106053</td>\n      <td>0.011591</td>\n      <td>0.011736</td>\n      <td>0.014849</td>\n      <td>0.222345</td>\n      <td>0.434998</td>\n      <td>0.146198</td>\n      <td>1.162251</td>\n    </tr>\n  </tbody>\n</table>\n</div>"
     },
     "metadata": {},
     "output_type": "execute_result",
     "execution_count": 98
    }
   ],
   "source": [
    "table_var"
   ]
  },
  {
   "cell_type": "code",
   "execution_count": 99,
   "outputs": [],
   "source": [
    "cursor = conn.execute('SELECT issue.name, issue.id FROM issue WHERE issue.data_set_id = ? ORDER BY issue.name', [data_set_id])\n",
    "issues = cursor.fetchall()"
   ],
   "metadata": {
    "collapsed": false,
    "pycharm": {
     "name": "#%%\n",
     "is_executing": false
    }
   }
  },
  {
   "cell_type": "code",
   "execution_count": 100,
   "metadata": {
    "pycharm": {
     "is_executing": false
    }
   },
   "outputs": [
    {
     "data": {
      "text/plain": "<Figure size 432x288 with 1 Axes>",
      "image/png": "[encoded data removed]"
     },
     "metadata": {
      "needs_background": "light"
     },
     "output_type": "display_data"
    },
    {
     "data": {
      "text/plain": "<Figure size 432x288 with 1 Axes>",
      "image/png": "[encoded data removed]"
     },
     "metadata": {
      "needs_background": "light"
     },
     "output_type": "display_data"
    },
    {
     "data": {
      "text/plain": "<Figure size 432x288 with 1 Axes>",
      "image/png": "[encoded data removed]"
     },
     "metadata": {
      "needs_background": "light"
     },
     "output_type": "display_data"
    },
    {
     "data": {
      "text/plain": "<Figure size 432x288 with 1 Axes>",
      "image/png": "[encoded data removed]"
     },
     "metadata": {
      "needs_background": "light"
     },
     "output_type": "display_data"
    },
    {
     "data": {
      "text/plain": "<Figure size 432x288 with 1 Axes>",
      "image/png": "[encoded data removed]"
     },
     "metadata": {
      "needs_background": "light"
     },
     "output_type": "display_data"
    },
    {
     "data": {
      "text/plain": "<Figure size 432x288 with 1 Axes>",
      "image/png": "[encoded data removed]"
     },
     "metadata": {
      "needs_background": "light"
     },
     "output_type": "display_data"
    },
    {
     "data": {
      "text/plain": "<Figure size 432x288 with 1 Axes>",
      "image/png": "[encoded data removed]"
     },
     "metadata": {
      "needs_background": "light"
     },
     "output_type": "display_data"
    }
   ],
   "source": [
    "for name, issue_id in issues:\n",
    "    df = pd.read_sql(\"\"\"\n",
    "    SELECT\n",
    "    a.p as p,\n",
    "    a.issue as issue,\n",
    "    a.iteration as iteration,\n",
    "    a.repetion as repetion,\n",
    "    a.numerator / a.denominator AS nbs\n",
    "    FROM (SELECT\n",
    "    sum(ai.position * ai.power * ai.salience) AS numerator,\n",
    "    sum(ai.salience * ai.power)\n",
    "    AS denominator,\n",
    "    r.pointer\n",
    "    AS repetion,\n",
    "    i2.pointer\n",
    "    AS iteration,\n",
    "    m.p,\n",
    "    i.name as issue\n",
    "    FROM actorissue ai\n",
    "    LEFT JOIN issue i ON ai.issue_id = i.id\n",
    "    LEFT JOIN actor a ON ai.actor_id = a.id\n",
    "    LEFT JOIN iteration i2 ON ai.iteration_id = i2.id\n",
    "    LEFT JOIN repetition r ON i2.repetition_id = r.id\n",
    "    LEFT JOIN modelrun m ON r.model_run_id = m.id\n",
    "    LEFT JOIN dataset d ON a.data_set_id = d.id\n",
    "    WHERE ai.type = 'before' AND d.id = ? AND i.id = ?\n",
    "    GROUP BY m.id,r.id, i2.id, i.id) a\n",
    "    \"\"\",\n",
    "    conn,\n",
    "    params=(1,issue_id),\n",
    "    index_col='p',\n",
    "    columns=['nbs']\n",
    "    )\n",
    "    table = pd.pivot_table(df, index=['iteration'], columns=['p'], values=['nbs'])\n",
    "    plot = table.plot()\n",
    "    plt.legend(bbox_to_anchor=(1.05, 1), loc=2, borderaxespad=0.)\n",
    "    plt.title(name)\n",
    "    plt.ylim(0, 110)\n",
    "    plt.show()"
   ]
  },
  {
   "cell_type": "markdown",
   "metadata": {
    "pycharm": {
     "name": "#%% md"
    }
   },
   "source": []
  }
 ],
 "metadata": {
  "kernelspec": {
   "display_name": "Python 3",
   "language": "python",
   "name": "python3"
  },
  "language_info": {
   "codemirror_mode": {
    "name": "ipython",
    "version": 3
   },
   "file_extension": ".py",
   "mimetype": "text/x-python",
   "name": "python",
   "nbconvert_exporter": "python",
   "pygments_lexer": "ipython3",
   "version": "3.5.2"
  },
  "widgets": {
   "application/vnd.jupyter.widget-state+json": {
    "state": {
     "0106c8e19d714070add39ce8c6d73b83": {
      "model_module": "@jupyter-widgets/controls",
      "model_module_version": "1.0.0",
      "model_name": "DescriptionStyleModel",
      "state": {
       "_model_module_version": "1.0.0",
       "description_width": ""
      }
     },
     "05ffd955194744c0931e197349bda24f": {
      "model_module": "@jupyter-widgets/controls",
      "model_module_version": "1.0.0",
      "model_name": "DropdownModel",
      "state": {
       "_model_module_version": "1.0.0",
       "_options_labels": [
        "sample_data"
       ],
       "_view_module_version": "1.0.0",
       "description": "Select issue to analyze:",
       "index": 0,
       "layout": "IPY_MODEL_da298dc1df5e4f37b66ee3ccc5207925",
       "style": "IPY_MODEL_55e5ac3ffc044f14ba3b84c02cc8871b"
      }
     },
     "0690aa319f674bcebabbe7fd26745c8c": {
      "model_module": "@jupyter-widgets/controls",
      "model_module_version": "1.0.0",
      "model_name": "DropdownModel",
      "state": {
       "_model_module_version": "1.0.0",
       "_options_labels": [
        "sample_data"
       ],
       "_view_module_version": "1.0.0",
       "description": "Select issue to analyze:",
       "index": 0,
       "layout": "IPY_MODEL_124abcde0a444e8a9f518d82f8273c79",
       "style": "IPY_MODEL_7ab7143893ed413ca5d3f8c49749a7aa"
      }
     },
     "078b1bc0862e440ebee776e7cc6f2ca1": {
      "model_module": "@jupyter-widgets/controls",
      "model_module_version": "1.0.0",
      "model_name": "DropdownModel",
      "state": {
       "_model_module_version": "1.0.0",
       "_view_module_version": "1.0.0",
       "description": "Select issue to analyze:",
       "index": null,
       "layout": "IPY_MODEL_aaa070ab3e4b43e3bb8ad5c819cac38c",
       "style": "IPY_MODEL_3d50bc3e39fc434db6c260e86da08c41"
      }
     },
     "0a2cc3cab12d48db8c1c17e93e60995c": {
      "model_module": "@jupyter-widgets/base",
      "model_module_version": "1.0.0",
      "model_name": "LayoutModel",
      "state": {}
     },
     "0ab57299fd0f43ada8a7a252e70a5edf": {
      "model_module": "@jupyter-widgets/controls",
      "model_module_version": "1.0.0",
      "model_name": "DescriptionStyleModel",
      "state": {
       "_model_module_version": "1.0.0",
       "description_width": ""
      }
     },
     "0ca6d24c7b6a4b6ea0edf957368b0663": {
      "model_module": "@jupyter-widgets/base",
      "model_module_version": "1.0.0",
      "model_name": "LayoutModel",
      "state": {}
     },
     "0d987e90ff7c49898248c93fe4517bad": {
      "model_module": "@jupyter-widgets/controls",
      "model_module_version": "1.0.0",
      "model_name": "DropdownModel",
      "state": {
       "_model_module_version": "1.0.0",
       "_options_labels": [
        "0.1",
        "0.2",
        "0.3"
       ],
       "_view_module_version": "1.0.0",
       "description": "Select run:",
       "index": 2,
       "layout": "IPY_MODEL_4f4a8afc467a4ae6afc610c8f48e3306",
       "style": "IPY_MODEL_4c8bbaa2e79a4121833bbb0f29517d6c"
      }
     },
     "0f4d1c3da1d44cafab21de52277ce867": {
      "model_module": "@jupyter-widgets/controls",
      "model_module_version": "1.0.0",
      "model_name": "DescriptionStyleModel",
      "state": {
       "_model_module_version": "1.0.0",
       "description_width": ""
      }
     },
     "107743c285324bbdb88ddede4d318a02": {
      "model_module": "@jupyter-widgets/controls",
      "model_module_version": "1.0.0",
      "model_name": "DropdownModel",
      "state": {
       "_model_module_version": "1.0.0",
       "_options_labels": [
        "sample_data"
       ],
       "_view_module_version": "1.0.0",
       "description": "Select issue to analyze:",
       "index": 0,
       "layout": "IPY_MODEL_977b546ae6b74f9ab297675c203b0194",
       "style": "IPY_MODEL_0ab57299fd0f43ada8a7a252e70a5edf"
      }
     },
     "124abcde0a444e8a9f518d82f8273c79": {
      "model_module": "@jupyter-widgets/base",
      "model_module_version": "1.0.0",
      "model_name": "LayoutModel",
      "state": {}
     },
     "15d1bad56b81403fba9ff137717ff7bf": {
      "model_module": "@jupyter-widgets/controls",
      "model_module_version": "1.0.0",
      "model_name": "DescriptionStyleModel",
      "state": {
       "_model_module_version": "1.0.0",
       "description_width": ""
      }
     },
     "1652d0fbd6f147c899fbbb1f00254606": {
      "model_module": "@jupyter-widgets/base",
      "model_module_version": "1.0.0",
      "model_name": "LayoutModel",
      "state": {}
     },
     "1aa61d142aa24d90bf8fd37252c037e5": {
      "model_module": "@jupyter-widgets/controls",
      "model_module_version": "1.0.0",
      "model_name": "DropdownModel",
      "state": {
       "_model_module_version": "1.0.0",
       "_view_module_version": "1.0.0",
       "description": "Select dataset:",
       "index": null,
       "layout": "IPY_MODEL_2dd1298dfdda465790c55b05dd55f832",
       "style": "IPY_MODEL_d57a7c688b01494590d03abcc98d16ad"
      }
     },
     "1d3c88c3f9144bf3902709f17343eecb": {
      "model_module": "@jupyter-widgets/base",
      "model_module_version": "1.0.0",
      "model_name": "LayoutModel",
      "state": {}
     },
     "1dd2992ac3644fddaa7f723bd87568ee": {
      "model_module": "@jupyter-widgets/base",
      "model_module_version": "1.0.0",
      "model_name": "LayoutModel",
      "state": {}
     },
     "21451bdbd1b14f2bba0ed14f279bc375": {
      "model_module": "@jupyter-widgets/controls",
      "model_module_version": "1.0.0",
      "model_name": "DropdownModel",
      "state": {
       "_model_module_version": "1.0.0",
       "_options_labels": [
        "0.1",
        "0.2",
        "0.3"
       ],
       "_view_module_version": "1.0.0",
       "description": "Select run:",
       "index": 0,
       "layout": "IPY_MODEL_a2d1aeed6e1b4a1fabc71e5a27ef872e",
       "style": "IPY_MODEL_3319572e841e4ef28805dc407495bc42"
      }
     },
     "21dd35190f0342e8a7681c6d9167b49e": {
      "model_module": "@jupyter-widgets/controls",
      "model_module_version": "1.0.0",
      "model_name": "DescriptionStyleModel",
      "state": {
       "_model_module_version": "1.0.0",
       "description_width": ""
      }
     },
     "249a851e18df4f3883bc5dee8b162f2b": {
      "model_module": "@jupyter-widgets/controls",
      "model_module_version": "1.0.0",
      "model_name": "DropdownModel",
      "state": {
       "_model_module_version": "1.0.0",
       "_options_labels": [
        "0.1",
        "0.2",
        "0.3"
       ],
       "_view_module_version": "1.0.0",
       "description": "Select run:",
       "index": 0,
       "layout": "IPY_MODEL_c2d364ec438944e4b4f64f39d8d999bf",
       "style": "IPY_MODEL_8de84a3800f84174876233ae13266698"
      }
     },
     "283758d2ac7f4717ad22331a664b6b43": {
      "model_module": "@jupyter-widgets/controls",
      "model_module_version": "1.0.0",
      "model_name": "DropdownModel",
      "state": {
       "_model_module_version": "1.0.0",
       "_options_labels": [
        "sample_data"
       ],
       "_view_module_version": "1.0.0",
       "description": "Select dataset:",
       "index": 0,
       "layout": "IPY_MODEL_0a2cc3cab12d48db8c1c17e93e60995c",
       "style": "IPY_MODEL_7b8633c702d6438ea3bb31515ce9620e"
      }
     },
     "29386762f0704e4daaf9e341557aa058": {
      "model_module": "@jupyter-widgets/controls",
      "model_module_version": "1.0.0",
      "model_name": "DescriptionStyleModel",
      "state": {
       "_model_module_version": "1.0.0",
       "description_width": ""
      }
     },
     "2bfb3a1234d441c88260fa3f26acdf84": {
      "model_module": "@jupyter-widgets/controls",
      "model_module_version": "1.0.0",
      "model_name": "DropdownModel",
      "state": {
       "_model_module_version": "1.0.0",
       "_options_labels": [
        "0.2",
        "0.1",
        "0.3"
       ],
       "_view_module_version": "1.0.0",
       "description": "Select run:",
       "index": 2,
       "layout": "IPY_MODEL_d9ea472045434d0597ae657cb774a867",
       "style": "IPY_MODEL_6701605bc1c84d299d629ebdd9b3dc30"
      }
     },
     "2dd1298dfdda465790c55b05dd55f832": {
      "model_module": "@jupyter-widgets/base",
      "model_module_version": "1.0.0",
      "model_name": "LayoutModel",
      "state": {}
     },
     "2f4c7e67fa3d4a7cb0cdc53c2a07951b": {
      "model_module": "@jupyter-widgets/controls",
      "model_module_version": "1.0.0",
      "model_name": "DescriptionStyleModel",
      "state": {
       "_model_module_version": "1.0.0",
       "description_width": ""
      }
     },
     "3319572e841e4ef28805dc407495bc42": {
      "model_module": "@jupyter-widgets/controls",
      "model_module_version": "1.0.0",
      "model_name": "DescriptionStyleModel",
      "state": {
       "_model_module_version": "1.0.0",
       "description_width": ""
      }
     },
     "333dd7d63a7e4de2a9bf29cdd18239a6": {
      "model_module": "@jupyter-widgets/base",
      "model_module_version": "1.0.0",
      "model_name": "LayoutModel",
      "state": {}
     },
     "342765ce373f4e959850528ca701255b": {
      "model_module": "@jupyter-widgets/base",
      "model_module_version": "1.0.0",
      "model_name": "LayoutModel",
      "state": {}
     },
     "35688b5062f949aeb61767c7e8c91237": {
      "model_module": "@jupyter-widgets/controls",
      "model_module_version": "1.0.0",
      "model_name": "DropdownModel",
      "state": {
       "_model_module_version": "1.0.0",
       "_options_labels": [
        "0.1",
        "0.2",
        "0.3"
       ],
       "_view_module_version": "1.0.0",
       "description": "Select run:",
       "index": 2,
       "layout": "IPY_MODEL_c1c41ba92ccb4a7aa070a18379bb8b54",
       "style": "IPY_MODEL_5b0b436c6848492eb819e24c4cc5b64d"
      }
     },
     "37cf316a4cce427aa41a056f4e05fc38": {
      "model_module": "@jupyter-widgets/base",
      "model_module_version": "1.0.0",
      "model_name": "LayoutModel",
      "state": {}
     },
     "3ae524dd45cd409096b3152405a24780": {
      "model_module": "@jupyter-widgets/base",
      "model_module_version": "1.0.0",
      "model_name": "LayoutModel",
      "state": {}
     },
     "3cea50c2e1e64b98918d63075e18e1cd": {
      "model_module": "@jupyter-widgets/controls",
      "model_module_version": "1.0.0",
      "model_name": "DropdownModel",
      "state": {
       "_model_module_version": "1.0.0",
       "_options_labels": [
        "sample_data"
       ],
       "_view_module_version": "1.0.0",
       "description": "Select dataset:",
       "index": 0,
       "layout": "IPY_MODEL_77db4041b206492582801e866a501856",
       "style": "IPY_MODEL_594fee376c094cee972f665d89416c1a"
      }
     },
     "3d50bc3e39fc434db6c260e86da08c41": {
      "model_module": "@jupyter-widgets/controls",
      "model_module_version": "1.0.0",
      "model_name": "DescriptionStyleModel",
      "state": {
       "_model_module_version": "1.0.0",
       "description_width": ""
      }
     },
     "442861bf08d341d4a7c693a347eb6d93": {
      "model_module": "@jupyter-widgets/controls",
      "model_module_version": "1.0.0",
      "model_name": "DescriptionStyleModel",
      "state": {
       "_model_module_version": "1.0.0",
       "description_width": ""
      }
     },
     "4c8bbaa2e79a4121833bbb0f29517d6c": {
      "model_module": "@jupyter-widgets/controls",
      "model_module_version": "1.0.0",
      "model_name": "DescriptionStyleModel",
      "state": {
       "_model_module_version": "1.0.0",
       "description_width": ""
      }
     },
     "4cc898a656e74bc5b5cbf73b0555ce05": {
      "model_module": "@jupyter-widgets/base",
      "model_module_version": "1.0.0",
      "model_name": "LayoutModel",
      "state": {}
     },
     "4ce859bdba3f490b99cad4defab030de": {
      "model_module": "@jupyter-widgets/base",
      "model_module_version": "1.0.0",
      "model_name": "LayoutModel",
      "state": {}
     },
     "4f4a8afc467a4ae6afc610c8f48e3306": {
      "model_module": "@jupyter-widgets/base",
      "model_module_version": "1.0.0",
      "model_name": "LayoutModel",
      "state": {}
     },
     "513adcb8dcfc4815958253d0dff162b8": {
      "model_module": "@jupyter-widgets/base",
      "model_module_version": "1.0.0",
      "model_name": "LayoutModel",
      "state": {}
     },
     "52cc08d324914e448f57254e109598db": {
      "model_module": "@jupyter-widgets/controls",
      "model_module_version": "1.0.0",
      "model_name": "DropdownModel",
      "state": {
       "_model_module_version": "1.0.0",
       "_options_labels": [
        "0.1",
        "0.2",
        "0.3"
       ],
       "_view_module_version": "1.0.0",
       "description": "Select run:",
       "index": 1,
       "layout": "IPY_MODEL_1652d0fbd6f147c899fbbb1f00254606",
       "style": "IPY_MODEL_75e12fee95044378926c075997e78fdc"
      }
     },
     "55e5ac3ffc044f14ba3b84c02cc8871b": {
      "model_module": "@jupyter-widgets/controls",
      "model_module_version": "1.0.0",
      "model_name": "DescriptionStyleModel",
      "state": {
       "_model_module_version": "1.0.0",
       "description_width": ""
      }
     },
     "56306b79c967455386522906ac691bfa": {
      "model_module": "@jupyter-widgets/base",
      "model_module_version": "1.0.0",
      "model_name": "LayoutModel",
      "state": {}
     },
     "594fee376c094cee972f665d89416c1a": {
      "model_module": "@jupyter-widgets/controls",
      "model_module_version": "1.0.0",
      "model_name": "DescriptionStyleModel",
      "state": {
       "_model_module_version": "1.0.0",
       "description_width": ""
      }
     },
     "5b0b436c6848492eb819e24c4cc5b64d": {
      "model_module": "@jupyter-widgets/controls",
      "model_module_version": "1.0.0",
      "model_name": "DescriptionStyleModel",
      "state": {
       "_model_module_version": "1.0.0",
       "description_width": ""
      }
     },
     "5d286befe1904019824ac36fa5eb7191": {
      "model_module": "@jupyter-widgets/controls",
      "model_module_version": "1.0.0",
      "model_name": "DescriptionStyleModel",
      "state": {
       "_model_module_version": "1.0.0",
       "description_width": ""
      }
     },
     "629802ad002446fc88180cc49a7ddde7": {
      "model_module": "@jupyter-widgets/controls",
      "model_module_version": "1.0.0",
      "model_name": "DescriptionStyleModel",
      "state": {
       "_model_module_version": "1.0.0",
       "description_width": ""
      }
     },
     "6701605bc1c84d299d629ebdd9b3dc30": {
      "model_module": "@jupyter-widgets/controls",
      "model_module_version": "1.0.0",
      "model_name": "DescriptionStyleModel",
      "state": {
       "_model_module_version": "1.0.0",
       "description_width": ""
      }
     },
     "6a7d975636b043feaac4d405b289f134": {
      "model_module": "@jupyter-widgets/base",
      "model_module_version": "1.0.0",
      "model_name": "LayoutModel",
      "state": {}
     },
     "6c49b7be01894973a27358371814cbed": {
      "model_module": "@jupyter-widgets/base",
      "model_module_version": "1.0.0",
      "model_name": "LayoutModel",
      "state": {}
     },
     "72ffc40ea2574b06967f298557a07e14": {
      "model_module": "@jupyter-widgets/controls",
      "model_module_version": "1.0.0",
      "model_name": "DropdownModel",
      "state": {
       "_model_module_version": "1.0.0",
       "_options_labels": [
        "sample_data"
       ],
       "_view_module_version": "1.0.0",
       "description": "Select dataset:",
       "index": 0,
       "layout": "IPY_MODEL_aad6c8e63d274c5d952eda64345e36ff",
       "style": "IPY_MODEL_a22458a6739d41deabea201d5a3f0cde"
      }
     },
     "7357ca54c03c43a8afce6f8964123f85": {
      "model_module": "@jupyter-widgets/controls",
      "model_module_version": "1.0.0",
      "model_name": "DropdownModel",
      "state": {
       "_model_module_version": "1.0.0",
       "_options_labels": [
        "sample_data"
       ],
       "_view_module_version": "1.0.0",
       "description": "Select run:",
       "index": 0,
       "layout": "IPY_MODEL_caf8ce746d3c45f8b3d5c9c6c49c3fa4",
       "style": "IPY_MODEL_2f4c7e67fa3d4a7cb0cdc53c2a07951b"
      }
     },
     "75e12fee95044378926c075997e78fdc": {
      "model_module": "@jupyter-widgets/controls",
      "model_module_version": "1.0.0",
      "model_name": "DescriptionStyleModel",
      "state": {
       "_model_module_version": "1.0.0",
       "description_width": ""
      }
     },
     "76547b317ae149b8bfdf53e5ad5aa059": {
      "model_module": "@jupyter-widgets/controls",
      "model_module_version": "1.0.0",
      "model_name": "DescriptionStyleModel",
      "state": {
       "_model_module_version": "1.0.0",
       "description_width": ""
      }
     },
     "77db4041b206492582801e866a501856": {
      "model_module": "@jupyter-widgets/base",
      "model_module_version": "1.0.0",
      "model_name": "LayoutModel",
      "state": {}
     },
     "796d5227473947b1afeca6db2fe8b877": {
      "model_module": "@jupyter-widgets/controls",
      "model_module_version": "1.0.0",
      "model_name": "DropdownModel",
      "state": {
       "_model_module_version": "1.0.0",
       "_options_labels": [
        "0.1",
        "0.2",
        "0.3"
       ],
       "_view_module_version": "1.0.0",
       "description": "Select run:",
       "index": 1,
       "layout": "IPY_MODEL_0ca6d24c7b6a4b6ea0edf957368b0663",
       "style": "IPY_MODEL_da91ab2b1eae4581aae8a76e09c47da8"
      }
     },
     "7ab7143893ed413ca5d3f8c49749a7aa": {
      "model_module": "@jupyter-widgets/controls",
      "model_module_version": "1.0.0",
      "model_name": "DescriptionStyleModel",
      "state": {
       "_model_module_version": "1.0.0",
       "description_width": ""
      }
     },
     "7b791c33d5a5452b90597099968bc3bc": {
      "model_module": "@jupyter-widgets/controls",
      "model_module_version": "1.0.0",
      "model_name": "DropdownModel",
      "state": {
       "_model_module_version": "1.0.0",
       "_options_labels": [
        "sample_data"
       ],
       "_view_module_version": "1.0.0",
       "description": "Select run:",
       "index": 0,
       "layout": "IPY_MODEL_56306b79c967455386522906ac691bfa",
       "style": "IPY_MODEL_29386762f0704e4daaf9e341557aa058"
      }
     },
     "7b8633c702d6438ea3bb31515ce9620e": {
      "model_module": "@jupyter-widgets/controls",
      "model_module_version": "1.0.0",
      "model_name": "DescriptionStyleModel",
      "state": {
       "_model_module_version": "1.0.0",
       "description_width": ""
      }
     },
     "7ba3834ca0e14f9eb7f518bc600aa58c": {
      "model_module": "@jupyter-widgets/controls",
      "model_module_version": "1.0.0",
      "model_name": "DescriptionStyleModel",
      "state": {
       "_model_module_version": "1.0.0",
       "description_width": ""
      }
     },
     "7c49f8a34fe643949df8140e618aa51b": {
      "model_module": "@jupyter-widgets/controls",
      "model_module_version": "1.0.0",
      "model_name": "DescriptionStyleModel",
      "state": {
       "_model_module_version": "1.0.0",
       "description_width": ""
      }
     },
     "805f57cae2174f208228db1d94e33dca": {
      "model_module": "@jupyter-widgets/controls",
      "model_module_version": "1.0.0",
      "model_name": "DropdownModel",
      "state": {
       "_model_module_version": "1.0.0",
       "_options_labels": [
        "0.1",
        "0.2",
        "0.3"
       ],
       "_view_module_version": "1.0.0",
       "description": "Select run:",
       "index": 1,
       "layout": "IPY_MODEL_4ce859bdba3f490b99cad4defab030de",
       "style": "IPY_MODEL_0f4d1c3da1d44cafab21de52277ce867"
      }
     },
     "834faaba9c1249faa5454399b126cf3d": {
      "model_module": "@jupyter-widgets/controls",
      "model_module_version": "1.0.0",
      "model_name": "DropdownModel",
      "state": {
       "_model_module_version": "1.0.0",
       "_options_labels": [
        "0.1",
        "0.2",
        "0.3"
       ],
       "_view_module_version": "1.0.0",
       "description": "Select run:",
       "index": 2,
       "layout": "IPY_MODEL_a3def36ee2514aafa0d99cc1f744228d",
       "style": "IPY_MODEL_88c0f88622b342abbe1588026500b6db"
      }
     },
     "86e74f59a2484ab0915657d1af126fcf": {
      "model_module": "@jupyter-widgets/controls",
      "model_module_version": "1.0.0",
      "model_name": "DescriptionStyleModel",
      "state": {
       "_model_module_version": "1.0.0",
       "description_width": ""
      }
     },
     "88c0f88622b342abbe1588026500b6db": {
      "model_module": "@jupyter-widgets/controls",
      "model_module_version": "1.0.0",
      "model_name": "DescriptionStyleModel",
      "state": {
       "_model_module_version": "1.0.0",
       "description_width": ""
      }
     },
     "89955f83fb72421191ed80cef44ff278": {
      "model_module": "@jupyter-widgets/controls",
      "model_module_version": "1.0.0",
      "model_name": "DescriptionStyleModel",
      "state": {
       "_model_module_version": "1.0.0",
       "description_width": ""
      }
     },
     "8de84a3800f84174876233ae13266698": {
      "model_module": "@jupyter-widgets/controls",
      "model_module_version": "1.0.0",
      "model_name": "DescriptionStyleModel",
      "state": {
       "_model_module_version": "1.0.0",
       "description_width": ""
      }
     },
     "8e50d8fe437249bfba86e4bfd13a9395": {
      "model_module": "@jupyter-widgets/base",
      "model_module_version": "1.0.0",
      "model_name": "LayoutModel",
      "state": {}
     },
     "8ec5952b2824482d94d6c3788e434aa3": {
      "model_module": "@jupyter-widgets/base",
      "model_module_version": "1.0.0",
      "model_name": "LayoutModel",
      "state": {}
     },
     "975bd430f60548bd9872d438743666b5": {
      "model_module": "@jupyter-widgets/controls",
      "model_module_version": "1.0.0",
      "model_name": "DescriptionStyleModel",
      "state": {
       "_model_module_version": "1.0.0",
       "description_width": ""
      }
     },
     "977b546ae6b74f9ab297675c203b0194": {
      "model_module": "@jupyter-widgets/base",
      "model_module_version": "1.0.0",
      "model_name": "LayoutModel",
      "state": {}
     },
     "9d5525406bad48b883d779bec7baaf58": {
      "model_module": "@jupyter-widgets/controls",
      "model_module_version": "1.0.0",
      "model_name": "DescriptionStyleModel",
      "state": {
       "_model_module_version": "1.0.0",
       "description_width": ""
      }
     },
     "a22458a6739d41deabea201d5a3f0cde": {
      "model_module": "@jupyter-widgets/controls",
      "model_module_version": "1.0.0",
      "model_name": "DescriptionStyleModel",
      "state": {
       "_model_module_version": "1.0.0",
       "description_width": ""
      }
     },
     "a2d1aeed6e1b4a1fabc71e5a27ef872e": {
      "model_module": "@jupyter-widgets/base",
      "model_module_version": "1.0.0",
      "model_name": "LayoutModel",
      "state": {}
     },
     "a3def36ee2514aafa0d99cc1f744228d": {
      "model_module": "@jupyter-widgets/base",
      "model_module_version": "1.0.0",
      "model_name": "LayoutModel",
      "state": {}
     },
     "a6f63f432cd546eda5d2f8a532fc6492": {
      "model_module": "@jupyter-widgets/base",
      "model_module_version": "1.0.0",
      "model_name": "LayoutModel",
      "state": {}
     },
     "aaa070ab3e4b43e3bb8ad5c819cac38c": {
      "model_module": "@jupyter-widgets/base",
      "model_module_version": "1.0.0",
      "model_name": "LayoutModel",
      "state": {}
     },
     "aad6c8e63d274c5d952eda64345e36ff": {
      "model_module": "@jupyter-widgets/base",
      "model_module_version": "1.0.0",
      "model_name": "LayoutModel",
      "state": {}
     },
     "adddc69584df4086a2587d64ad06c1ff": {
      "model_module": "@jupyter-widgets/controls",
      "model_module_version": "1.0.0",
      "model_name": "DropdownModel",
      "state": {
       "_model_module_version": "1.0.0",
       "_options_labels": [
        "0.1",
        "0.2",
        "0.3"
       ],
       "_view_module_version": "1.0.0",
       "description": "Select run:",
       "index": 0,
       "layout": "IPY_MODEL_afd75a2aae6b49dfaf20241a7b13a606",
       "style": "IPY_MODEL_975bd430f60548bd9872d438743666b5"
      }
     },
     "afd75a2aae6b49dfaf20241a7b13a606": {
      "model_module": "@jupyter-widgets/base",
      "model_module_version": "1.0.0",
      "model_name": "LayoutModel",
      "state": {}
     },
     "c0b13973daf844f5b929fb7d4b6b08af": {
      "model_module": "@jupyter-widgets/controls",
      "model_module_version": "1.0.0",
      "model_name": "DropdownModel",
      "state": {
       "_model_module_version": "1.0.0",
       "_options_labels": [
        "sample_data"
       ],
       "_view_module_version": "1.0.0",
       "description": "Select dataset:",
       "index": 0,
       "layout": "IPY_MODEL_8ec5952b2824482d94d6c3788e434aa3",
       "style": "IPY_MODEL_76547b317ae149b8bfdf53e5ad5aa059"
      }
     },
     "c10ae543a4d940d7bd8d35d1813aa21f": {
      "model_module": "@jupyter-widgets/controls",
      "model_module_version": "1.0.0",
      "model_name": "DropdownModel",
      "state": {
       "_model_module_version": "1.0.0",
       "_options_labels": [
        "0.1",
        "0.2",
        "0.3"
       ],
       "_view_module_version": "1.0.0",
       "description": "Select run:",
       "index": 1,
       "layout": "IPY_MODEL_333dd7d63a7e4de2a9bf29cdd18239a6",
       "style": "IPY_MODEL_7c49f8a34fe643949df8140e618aa51b"
      }
     },
     "c150219ec0114c3fbe4a6d30d490ee10": {
      "model_module": "@jupyter-widgets/controls",
      "model_module_version": "1.0.0",
      "model_name": "DescriptionStyleModel",
      "state": {
       "_model_module_version": "1.0.0",
       "description_width": ""
      }
     },
     "c1c41ba92ccb4a7aa070a18379bb8b54": {
      "model_module": "@jupyter-widgets/base",
      "model_module_version": "1.0.0",
      "model_name": "LayoutModel",
      "state": {}
     },
     "c2d364ec438944e4b4f64f39d8d999bf": {
      "model_module": "@jupyter-widgets/base",
      "model_module_version": "1.0.0",
      "model_name": "LayoutModel",
      "state": {}
     },
     "c54011c2975a4cf5930e0d02b3718167": {
      "model_module": "@jupyter-widgets/controls",
      "model_module_version": "1.0.0",
      "model_name": "DropdownModel",
      "state": {
       "_model_module_version": "1.0.0",
       "_options_labels": [
        "sample_data"
       ],
       "_view_module_version": "1.0.0",
       "description": "Select dataset:",
       "index": 0,
       "layout": "IPY_MODEL_4cc898a656e74bc5b5cbf73b0555ce05",
       "style": "IPY_MODEL_c57c4ff0e7234db594f9959c8bc33113"
      }
     },
     "c57c4ff0e7234db594f9959c8bc33113": {
      "model_module": "@jupyter-widgets/controls",
      "model_module_version": "1.0.0",
      "model_name": "DescriptionStyleModel",
      "state": {
       "_model_module_version": "1.0.0",
       "description_width": ""
      }
     },
     "c80a30d437d8454d8fdbe11978ac0778": {
      "model_module": "@jupyter-widgets/controls",
      "model_module_version": "1.0.0",
      "model_name": "DescriptionStyleModel",
      "state": {
       "_model_module_version": "1.0.0",
       "description_width": ""
      }
     },
     "caf8ce746d3c45f8b3d5c9c6c49c3fa4": {
      "model_module": "@jupyter-widgets/base",
      "model_module_version": "1.0.0",
      "model_name": "LayoutModel",
      "state": {}
     },
     "ce113d102ae64ec690faa61e1fbb5696": {
      "model_module": "@jupyter-widgets/controls",
      "model_module_version": "1.0.0",
      "model_name": "DropdownModel",
      "state": {
       "_model_module_version": "1.0.0",
       "_options_labels": [
        "0.1",
        "0.2",
        "0.3"
       ],
       "_view_module_version": "1.0.0",
       "description": "Select run:",
       "index": 0,
       "layout": "IPY_MODEL_37cf316a4cce427aa41a056f4e05fc38",
       "style": "IPY_MODEL_89955f83fb72421191ed80cef44ff278"
      }
     },
     "cff86e5af9ef4675af58115cfe8845ce": {
      "model_module": "@jupyter-widgets/controls",
      "model_module_version": "1.0.0",
      "model_name": "DropdownModel",
      "state": {
       "_model_module_version": "1.0.0",
       "_options_labels": [
        "sample_data"
       ],
       "_view_module_version": "1.0.0",
       "description": "Select dataset:",
       "index": 0,
       "layout": "IPY_MODEL_342765ce373f4e959850528ca701255b",
       "style": "IPY_MODEL_c80a30d437d8454d8fdbe11978ac0778"
      }
     },
     "d09eb1968e9e45aaa3b20dbb0183097f": {
      "model_module": "@jupyter-widgets/base",
      "model_module_version": "1.0.0",
      "model_name": "LayoutModel",
      "state": {}
     },
     "d266536d10534ef2bcb927630fa12c39": {
      "model_module": "@jupyter-widgets/controls",
      "model_module_version": "1.0.0",
      "model_name": "DropdownModel",
      "state": {
       "_model_module_version": "1.0.0",
       "_options_labels": [
        "0.1",
        "0.2",
        "0.3"
       ],
       "_view_module_version": "1.0.0",
       "description": "Select run:",
       "index": 1,
       "layout": "IPY_MODEL_3ae524dd45cd409096b3152405a24780",
       "style": "IPY_MODEL_21dd35190f0342e8a7681c6d9167b49e"
      }
     },
     "d57a7c688b01494590d03abcc98d16ad": {
      "model_module": "@jupyter-widgets/controls",
      "model_module_version": "1.0.0",
      "model_name": "DescriptionStyleModel",
      "state": {
       "_model_module_version": "1.0.0",
       "description_width": ""
      }
     },
     "d6107a85081b4318bfc64abbe7084f25": {
      "model_module": "@jupyter-widgets/controls",
      "model_module_version": "1.0.0",
      "model_name": "DropdownModel",
      "state": {
       "_model_module_version": "1.0.0",
       "_options_labels": [
        "0.1",
        "0.2",
        "0.3"
       ],
       "_view_module_version": "1.0.0",
       "description": "Select run:",
       "index": 0,
       "layout": "IPY_MODEL_6c49b7be01894973a27358371814cbed",
       "style": "IPY_MODEL_442861bf08d341d4a7c693a347eb6d93"
      }
     },
     "d9cbcd6c60cf41689900185fc710c942": {
      "model_module": "@jupyter-widgets/controls",
      "model_module_version": "1.0.0",
      "model_name": "DropdownModel",
      "state": {
       "_model_module_version": "1.0.0",
       "_options_labels": [
        "0.1",
        "0.2",
        "0.3"
       ],
       "_view_module_version": "1.0.0",
       "description": "Select run:",
       "index": 0,
       "layout": "IPY_MODEL_8e50d8fe437249bfba86e4bfd13a9395",
       "style": "IPY_MODEL_629802ad002446fc88180cc49a7ddde7"
      }
     },
     "d9ea472045434d0597ae657cb774a867": {
      "model_module": "@jupyter-widgets/base",
      "model_module_version": "1.0.0",
      "model_name": "LayoutModel",
      "state": {}
     },
     "da298dc1df5e4f37b66ee3ccc5207925": {
      "model_module": "@jupyter-widgets/base",
      "model_module_version": "1.0.0",
      "model_name": "LayoutModel",
      "state": {}
     },
     "da91ab2b1eae4581aae8a76e09c47da8": {
      "model_module": "@jupyter-widgets/controls",
      "model_module_version": "1.0.0",
      "model_name": "DescriptionStyleModel",
      "state": {
       "_model_module_version": "1.0.0",
       "description_width": ""
      }
     },
     "dbfc90f70f1e491e832029633a4136de": {
      "model_module": "@jupyter-widgets/controls",
      "model_module_version": "1.0.0",
      "model_name": "DropdownModel",
      "state": {
       "_model_module_version": "1.0.0",
       "_options_labels": [
        "0.1",
        "0.2",
        "0.3"
       ],
       "_view_module_version": "1.0.0",
       "description": "Select run:",
       "index": 1,
       "layout": "IPY_MODEL_1d3c88c3f9144bf3902709f17343eecb",
       "style": "IPY_MODEL_c150219ec0114c3fbe4a6d30d490ee10"
      }
     },
     "e0cf1711ca744fdb875198ea9d362c7b": {
      "model_module": "@jupyter-widgets/controls",
      "model_module_version": "1.0.0",
      "model_name": "DropdownModel",
      "state": {
       "_model_module_version": "1.0.0",
       "_options_labels": [
        "0.1",
        "0.2",
        "0.3"
       ],
       "_view_module_version": "1.0.0",
       "description": "Select run:",
       "index": 0,
       "layout": "IPY_MODEL_a6f63f432cd546eda5d2f8a532fc6492",
       "style": "IPY_MODEL_0106c8e19d714070add39ce8c6d73b83"
      }
     },
     "e14db258bc534592a1629d4c4bddb325": {
      "model_module": "@jupyter-widgets/controls",
      "model_module_version": "1.0.0",
      "model_name": "DropdownModel",
      "state": {
       "_model_module_version": "1.0.0",
       "_options_labels": [
        "sample_data"
       ],
       "_view_module_version": "1.0.0",
       "description": "Select dataset:",
       "index": 0,
       "layout": "IPY_MODEL_d09eb1968e9e45aaa3b20dbb0183097f",
       "style": "IPY_MODEL_9d5525406bad48b883d779bec7baaf58"
      }
     },
     "ef2576fc06f24749a39578baa357e6d9": {
      "model_module": "@jupyter-widgets/base",
      "model_module_version": "1.0.0",
      "model_name": "LayoutModel",
      "state": {}
     },
     "f2ed9ad9b8c54dc0b0adfc949583770a": {
      "model_module": "@jupyter-widgets/controls",
      "model_module_version": "1.0.0",
      "model_name": "DropdownModel",
      "state": {
       "_model_module_version": "1.0.0",
       "_options_labels": [
        "sample_data"
       ],
       "_view_module_version": "1.0.0",
       "description": "Select dataset:",
       "index": 0,
       "layout": "IPY_MODEL_1dd2992ac3644fddaa7f723bd87568ee",
       "style": "IPY_MODEL_7ba3834ca0e14f9eb7f518bc600aa58c"
      }
     },
     "f4068b4164324ed7810c09e498fb2474": {
      "model_module": "@jupyter-widgets/controls",
      "model_module_version": "1.0.0",
      "model_name": "DropdownModel",
      "state": {
       "_model_module_version": "1.0.0",
       "_options_labels": [
        "0.1",
        "0.2",
        "0.3"
       ],
       "_view_module_version": "1.0.0",
       "description": "Select run:",
       "index": 2,
       "layout": "IPY_MODEL_ef2576fc06f24749a39578baa357e6d9",
       "style": "IPY_MODEL_5d286befe1904019824ac36fa5eb7191"
      }
     },
     "fb0bbbc5ed6e4082b82a72a3d8a26978": {
      "model_module": "@jupyter-widgets/controls",
      "model_module_version": "1.0.0",
      "model_name": "DropdownModel",
      "state": {
       "_model_module_version": "1.0.0",
       "_options_labels": [
        "sample_data"
       ],
       "_view_module_version": "1.0.0",
       "description": "Select dataset:",
       "index": 0,
       "layout": "IPY_MODEL_513adcb8dcfc4815958253d0dff162b8",
       "style": "IPY_MODEL_15d1bad56b81403fba9ff137717ff7bf"
      }
     },
     "fe51d25424bb45f49e633a859be38020": {
      "model_module": "@jupyter-widgets/controls",
      "model_module_version": "1.0.0",
      "model_name": "DropdownModel",
      "state": {
       "_model_module_version": "1.0.0",
       "_options_labels": [
        "sample_data"
       ],
       "_view_module_version": "1.0.0",
       "description": "Select dataset:",
       "index": 0,
       "layout": "IPY_MODEL_6a7d975636b043feaac4d405b289f134",
       "style": "IPY_MODEL_86e74f59a2484ab0915657d1af126fcf"
      }
     }
    },
    "version_major": 2,
    "version_minor": 0
   }
  },
  "pycharm": {
   "stem_cell": {
    "cell_type": "raw",
    "source": [],
    "metadata": {
     "collapsed": false
    }
   }
  }
 },
 "nbformat": 4,
 "nbformat_minor": 2
}