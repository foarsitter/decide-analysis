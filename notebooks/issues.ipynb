{
 "cells": [
  {
   "cell_type": "markdown",
   "metadata": {},
   "source": [
    "# Sheet\n",
    "Vergelijk de verschillen in de NBS per issue en per waarde van p"
   ]
  },
  {
   "cell_type": "code",
   "execution_count": 1,
   "metadata": {
    "pycharm": {
     "is_executing": false
    }
   },
   "outputs": [],
   "source": [
    "import numpy as np\n",
    "import pandas as pd\n",
    "import matplotlib.pyplot as plt\n",
    "import sqlite3\n",
    "import ipywidgets as widget\n",
    "from IPython.core.display import display, HTML\n",
    "%matplotlib inline\n",
    "\n",
    "pd.set_option('display.max_rows', 750)\n",
    "pd.set_option('display.max_columns', 500)"
   ]
  },
  {
   "cell_type": "code",
   "execution_count": 2,
   "metadata": {
    "pycharm": {
     "is_executing": false
    }
   },
   "outputs": [],
   "source": [
    "conn = sqlite3.connect('/home/jelmert/PycharmProjects/decide-exchange-model/data/output/decide-data_1.db')"
   ]
  },
  {
   "cell_type": "code",
   "execution_count": 3,
   "metadata": {
    "pycharm": {
     "is_executing": false
    }
   },
   "outputs": [
    {
     "evalue": "Execution failed on sql '\nSELECT\n        a.name AS actor,\n        i.name as issue,\n        AVG(ai.position) as postion,        \n        i2.pointer                                AS iteration,\n        m.p,\n        m.id  \n      FROM actorissue ai\n        LEFT JOIN issue i ON ai.issue_id = i.id\n        LEFT JOIN actor a ON ai.actor_id = a.id\n        LEFT JOIN iteration i2 ON ai.iteration_id = i2.id\n        LEFT JOIN repetition r ON i2.repetition_id = r.id\n        LEFT JOIN modelrun m ON r.model_run_id = m.id\n        LEFT JOIN dataset d ON a.data_set_id = d.id\n      WHERE  ai.type_int = 0 AND d.id = ?\n     GROUP BY m.id, i2.pointer, a.id, i.id;\n': no such column: ai.type_int",
     "traceback": [
      "\u001b[0;31m---------------------------------------------------------------------------\u001b[0m",
      "\u001b[0;31mOperationalError\u001b[0m                          Traceback (most recent call last)",
      "\u001b[0;32m~/.virtualenvs/decide-analyses/lib/python3.5/site-packages/pandas/io/sql.py\u001b[0m in \u001b[0;36mexecute\u001b[0;34m(self, *args, **kwargs)\u001b[0m\n\u001b[1;32m   1399\u001b[0m             \u001b[0;32melse\u001b[0m\u001b[0;34m:\u001b[0m\u001b[0;34m\u001b[0m\u001b[0m\n\u001b[0;32m-> 1400\u001b[0;31m                 \u001b[0mcur\u001b[0m\u001b[0;34m.\u001b[0m\u001b[0mexecute\u001b[0m\u001b[0;34m(\u001b[0m\u001b[0;34m*\u001b[0m\u001b[0margs\u001b[0m\u001b[0;34m)\u001b[0m\u001b[0;34m\u001b[0m\u001b[0m\n\u001b[0m\u001b[1;32m   1401\u001b[0m             \u001b[0;32mreturn\u001b[0m \u001b[0mcur\u001b[0m\u001b[0;34m\u001b[0m\u001b[0m\n",
      "\u001b[0;31mOperationalError\u001b[0m: no such column: ai.type_int",
      "\nDuring handling of the above exception, another exception occurred:\n",
      "\u001b[0;31mDatabaseError\u001b[0m                             Traceback (most recent call last)",
      "\u001b[0;32m<ipython-input-3-9f5cf7cc348f>\u001b[0m in \u001b[0;36m<module>\u001b[0;34m()\u001b[0m\n\u001b[1;32m     21\u001b[0m                  \u001b[0mparams\u001b[0m\u001b[0;34m=\u001b[0m\u001b[0;34m(\u001b[0m\u001b[0;36m1\u001b[0m\u001b[0;34m,\u001b[0m\u001b[0;34m)\u001b[0m\u001b[0;34m,\u001b[0m\u001b[0;34m\u001b[0m\u001b[0m\n\u001b[1;32m     22\u001b[0m                  \u001b[0mindex_col\u001b[0m\u001b[0;34m=\u001b[0m\u001b[0;34m[\u001b[0m\u001b[0;34m'actor'\u001b[0m\u001b[0;34m,\u001b[0m \u001b[0;34m'issue'\u001b[0m\u001b[0;34m,\u001b[0m\u001b[0;34m'p'\u001b[0m\u001b[0;34m]\u001b[0m\u001b[0;34m,\u001b[0m\u001b[0;34m\u001b[0m\u001b[0m\n\u001b[0;32m---> 23\u001b[0;31m                  \u001b[0mcolumns\u001b[0m\u001b[0;34m=\u001b[0m\u001b[0;34m[\u001b[0m\u001b[0;34m'postion'\u001b[0m\u001b[0;34m]\u001b[0m\u001b[0;34m\u001b[0m\u001b[0m\n\u001b[0m\u001b[1;32m     24\u001b[0m                 )\n\u001b[1;32m     25\u001b[0m \u001b[0;34m\u001b[0m\u001b[0m\n",
      "\u001b[0;32m~/.virtualenvs/decide-analyses/lib/python3.5/site-packages/pandas/io/sql.py\u001b[0m in \u001b[0;36mread_sql\u001b[0;34m(sql, con, index_col, coerce_float, params, parse_dates, columns, chunksize)\u001b[0m\n\u001b[1;32m    379\u001b[0m             \u001b[0msql\u001b[0m\u001b[0;34m,\u001b[0m \u001b[0mindex_col\u001b[0m\u001b[0;34m=\u001b[0m\u001b[0mindex_col\u001b[0m\u001b[0;34m,\u001b[0m \u001b[0mparams\u001b[0m\u001b[0;34m=\u001b[0m\u001b[0mparams\u001b[0m\u001b[0;34m,\u001b[0m\u001b[0;34m\u001b[0m\u001b[0m\n\u001b[1;32m    380\u001b[0m             \u001b[0mcoerce_float\u001b[0m\u001b[0;34m=\u001b[0m\u001b[0mcoerce_float\u001b[0m\u001b[0;34m,\u001b[0m \u001b[0mparse_dates\u001b[0m\u001b[0;34m=\u001b[0m\u001b[0mparse_dates\u001b[0m\u001b[0;34m,\u001b[0m\u001b[0;34m\u001b[0m\u001b[0m\n\u001b[0;32m--> 381\u001b[0;31m             chunksize=chunksize)\n\u001b[0m\u001b[1;32m    382\u001b[0m \u001b[0;34m\u001b[0m\u001b[0m\n\u001b[1;32m    383\u001b[0m     \u001b[0;32mtry\u001b[0m\u001b[0;34m:\u001b[0m\u001b[0;34m\u001b[0m\u001b[0m\n",
      "\u001b[0;32m~/.virtualenvs/decide-analyses/lib/python3.5/site-packages/pandas/io/sql.py\u001b[0m in \u001b[0;36mread_query\u001b[0;34m(self, sql, index_col, coerce_float, params, parse_dates, chunksize)\u001b[0m\n\u001b[1;32m   1433\u001b[0m \u001b[0;34m\u001b[0m\u001b[0m\n\u001b[1;32m   1434\u001b[0m         \u001b[0margs\u001b[0m \u001b[0;34m=\u001b[0m \u001b[0m_convert_params\u001b[0m\u001b[0;34m(\u001b[0m\u001b[0msql\u001b[0m\u001b[0;34m,\u001b[0m \u001b[0mparams\u001b[0m\u001b[0;34m)\u001b[0m\u001b[0;34m\u001b[0m\u001b[0m\n\u001b[0;32m-> 1435\u001b[0;31m         \u001b[0mcursor\u001b[0m \u001b[0;34m=\u001b[0m \u001b[0mself\u001b[0m\u001b[0;34m.\u001b[0m\u001b[0mexecute\u001b[0m\u001b[0;34m(\u001b[0m\u001b[0;34m*\u001b[0m\u001b[0margs\u001b[0m\u001b[0;34m)\u001b[0m\u001b[0;34m\u001b[0m\u001b[0m\n\u001b[0m\u001b[1;32m   1436\u001b[0m         \u001b[0mcolumns\u001b[0m \u001b[0;34m=\u001b[0m \u001b[0;34m[\u001b[0m\u001b[0mcol_desc\u001b[0m\u001b[0;34m[\u001b[0m\u001b[0;36m0\u001b[0m\u001b[0;34m]\u001b[0m \u001b[0;32mfor\u001b[0m \u001b[0mcol_desc\u001b[0m \u001b[0;32min\u001b[0m \u001b[0mcursor\u001b[0m\u001b[0;34m.\u001b[0m\u001b[0mdescription\u001b[0m\u001b[0;34m]\u001b[0m\u001b[0;34m\u001b[0m\u001b[0m\n\u001b[1;32m   1437\u001b[0m \u001b[0;34m\u001b[0m\u001b[0m\n",
      "\u001b[0;32m~/.virtualenvs/decide-analyses/lib/python3.5/site-packages/pandas/io/sql.py\u001b[0m in \u001b[0;36mexecute\u001b[0;34m(self, *args, **kwargs)\u001b[0m\n\u001b[1;32m   1410\u001b[0m             ex = DatabaseError(\n\u001b[1;32m   1411\u001b[0m                 \"Execution failed on sql '%s': %s\" % (args[0], exc))\n\u001b[0;32m-> 1412\u001b[0;31m             \u001b[0mraise_with_traceback\u001b[0m\u001b[0;34m(\u001b[0m\u001b[0mex\u001b[0m\u001b[0;34m)\u001b[0m\u001b[0;34m\u001b[0m\u001b[0m\n\u001b[0m\u001b[1;32m   1413\u001b[0m \u001b[0;34m\u001b[0m\u001b[0m\n\u001b[1;32m   1414\u001b[0m     \u001b[0;34m@\u001b[0m\u001b[0mstaticmethod\u001b[0m\u001b[0;34m\u001b[0m\u001b[0m\n",
      "\u001b[0;32m~/.virtualenvs/decide-analyses/lib/python3.5/site-packages/pandas/compat/__init__.py\u001b[0m in \u001b[0;36mraise_with_traceback\u001b[0;34m(exc, traceback)\u001b[0m\n\u001b[1;32m    401\u001b[0m         \u001b[0;32mif\u001b[0m \u001b[0mtraceback\u001b[0m \u001b[0;34m==\u001b[0m \u001b[0mEllipsis\u001b[0m\u001b[0;34m:\u001b[0m\u001b[0;34m\u001b[0m\u001b[0m\n\u001b[1;32m    402\u001b[0m             \u001b[0m_\u001b[0m\u001b[0;34m,\u001b[0m \u001b[0m_\u001b[0m\u001b[0;34m,\u001b[0m \u001b[0mtraceback\u001b[0m \u001b[0;34m=\u001b[0m \u001b[0msys\u001b[0m\u001b[0;34m.\u001b[0m\u001b[0mexc_info\u001b[0m\u001b[0;34m(\u001b[0m\u001b[0;34m)\u001b[0m\u001b[0;34m\u001b[0m\u001b[0m\n\u001b[0;32m--> 403\u001b[0;31m         \u001b[0;32mraise\u001b[0m \u001b[0mexc\u001b[0m\u001b[0;34m.\u001b[0m\u001b[0mwith_traceback\u001b[0m\u001b[0;34m(\u001b[0m\u001b[0mtraceback\u001b[0m\u001b[0;34m)\u001b[0m\u001b[0;34m\u001b[0m\u001b[0m\n\u001b[0m\u001b[1;32m    404\u001b[0m \u001b[0;32melse\u001b[0m\u001b[0;34m:\u001b[0m\u001b[0;34m\u001b[0m\u001b[0m\n\u001b[1;32m    405\u001b[0m     \u001b[0;31m# this version of raise is a syntax error in Python 3\u001b[0m\u001b[0;34m\u001b[0m\u001b[0;34m\u001b[0m\u001b[0m\n",
      "\u001b[0;32m~/.virtualenvs/decide-analyses/lib/python3.5/site-packages/pandas/io/sql.py\u001b[0m in \u001b[0;36mexecute\u001b[0;34m(self, *args, **kwargs)\u001b[0m\n\u001b[1;32m   1398\u001b[0m                 \u001b[0mcur\u001b[0m\u001b[0;34m.\u001b[0m\u001b[0mexecute\u001b[0m\u001b[0;34m(\u001b[0m\u001b[0;34m*\u001b[0m\u001b[0margs\u001b[0m\u001b[0;34m,\u001b[0m \u001b[0;34m**\u001b[0m\u001b[0mkwargs\u001b[0m\u001b[0;34m)\u001b[0m\u001b[0;34m\u001b[0m\u001b[0m\n\u001b[1;32m   1399\u001b[0m             \u001b[0;32melse\u001b[0m\u001b[0;34m:\u001b[0m\u001b[0;34m\u001b[0m\u001b[0m\n\u001b[0;32m-> 1400\u001b[0;31m                 \u001b[0mcur\u001b[0m\u001b[0;34m.\u001b[0m\u001b[0mexecute\u001b[0m\u001b[0;34m(\u001b[0m\u001b[0;34m*\u001b[0m\u001b[0margs\u001b[0m\u001b[0;34m)\u001b[0m\u001b[0;34m\u001b[0m\u001b[0m\n\u001b[0m\u001b[1;32m   1401\u001b[0m             \u001b[0;32mreturn\u001b[0m \u001b[0mcur\u001b[0m\u001b[0;34m\u001b[0m\u001b[0m\n\u001b[1;32m   1402\u001b[0m         \u001b[0;32mexcept\u001b[0m \u001b[0mException\u001b[0m \u001b[0;32mas\u001b[0m \u001b[0mexc\u001b[0m\u001b[0;34m:\u001b[0m\u001b[0;34m\u001b[0m\u001b[0m\n",
      "\u001b[0;31mDatabaseError\u001b[0m: Execution failed on sql '\nSELECT\n        a.name AS actor,\n        i.name as issue,\n        AVG(ai.position) as postion,        \n        i2.pointer                                AS iteration,\n        m.p,\n        m.id  \n      FROM actorissue ai\n        LEFT JOIN issue i ON ai.issue_id = i.id\n        LEFT JOIN actor a ON ai.actor_id = a.id\n        LEFT JOIN iteration i2 ON ai.iteration_id = i2.id\n        LEFT JOIN repetition r ON i2.repetition_id = r.id\n        LEFT JOIN modelrun m ON r.model_run_id = m.id\n        LEFT JOIN dataset d ON a.data_set_id = d.id\n      WHERE  ai.type_int = 0 AND d.id = ?\n     GROUP BY m.id, i2.pointer, a.id, i.id;\n': no such column: ai.type_int"
     ],
     "ename": "DatabaseError",
     "output_type": "error"
    }
   ],
   "source": [
    "df = pd.read_sql(\"\"\"\n",
    "SELECT\n",
    "        a.name AS actor,\n",
    "        i.name as issue,\n",
    "        AVG(ai.position) as postion,        \n",
    "        i2.pointer                                AS iteration,\n",
    "        m.p,\n",
    "        m.id  \n",
    "      FROM actorissue ai\n",
    "        LEFT JOIN issue i ON ai.issue_id = i.id\n",
    "        LEFT JOIN actor a ON ai.actor_id = a.id\n",
    "        LEFT JOIN iteration i2 ON ai.iteration_id = i2.id\n",
    "        LEFT JOIN repetition r ON i2.repetition_id = r.id\n",
    "        LEFT JOIN modelrun m ON r.model_run_id = m.id\n",
    "        LEFT JOIN dataset d ON a.data_set_id = d.id\n",
    "      WHERE  ai.type = 0 AND d.id = ?\n",
    "     GROUP BY m.id, i2.pointer, a.id, i.id;\n",
    "\"\"\", \n",
    "                 conn, \n",
    "                 params=(1,),\n",
    "                 index_col=['actor', 'issue','p'],                  \n",
    "                 columns=['postion']\n",
    "                )\n",
    "\n",
    "table = pd.pivot_table(df, index=['actor', 'issue','iteration'], columns=['p'],values=['postion'])\n"
   ]
  },
  {
   "cell_type": "markdown",
   "metadata": {
    "scrolled": false
   },
   "source": [
    "# Posities \n",
    "Verloop van de positie over de verschillende onderhandelingsrondes van de actor per issue "
   ]
  },
  {
   "cell_type": "code",
   "execution_count": null,
   "metadata": {
    "pycharm": {
     "is_executing": false
    }
   },
   "outputs": [],
   "source": [
    "table"
   ]
  },
  {
   "cell_type": "code",
   "execution_count": null,
   "metadata": {
    "scrolled": false,
    "pycharm": {
     "is_executing": false
    }
   },
   "outputs": [],
   "source": [
    "cursor = conn.execute('SELECT `name`, `id`, lower, upper FROM issue ORDER BY `name`')\n",
    "issues = cursor.fetchall()\n",
    "\n",
    "cursor = conn.execute('SELECT `name`, `id` FROM actor ORDER BY `name`')\n",
    "actors = cursor.fetchall()\n",
    "\n",
    "for actor, actor_id in actors:\n",
    "    \n",
    "    fig, axes = plt.subplots(3, 2, figsize=(15,15))  # a figure with a 2x2 grid of Axes    \n",
    "    i = 0\n",
    "    fig.delaxes(axes[2,1])\n",
    "    display(HTML('<hr><h1><center>{}</center></h1>'.format(actor)))\n",
    "    for issue in issues:\n",
    "        \n",
    "        row = int(i / 2)\n",
    "        col = i % 2\n",
    "        \n",
    "        subset = table.query('actor == [\"{}\"] and issue == [\"{}\"]'.format(actor, issue[0]))\n",
    "        subchart = axes[row, col]\n",
    "        subchart.plot(subset.values)\n",
    "        subchart.set_ylim(0, 110)        \n",
    "        subchart.set_title(issue[0])\n",
    "        subchart.set_ylabel('Issue score')\n",
    "        subchart.set_xlabel('Negotiation round (iteration)')\n",
    "        \n",
    "        i+=1\n",
    "        \n",
    "    \n",
    "    plt.tight_layout()\n",
    "    plt.show()\n",
    "    "
   ]
  },
  {
   "cell_type": "code",
   "execution_count": null,
   "metadata": {
    "pycharm": {
     "is_executing": false
    }
   },
   "outputs": [],
   "source": []
  }
 ],
 "metadata": {
  "kernelspec": {
   "display_name": "Python 3",
   "language": "python",
   "name": "python3"
  },
  "language_info": {
   "codemirror_mode": {
    "name": "ipython",
    "version": 3
   },
   "file_extension": ".py",
   "mimetype": "text/x-python",
   "name": "python",
   "nbconvert_exporter": "python",
   "pygments_lexer": "ipython3",
   "version": "3.5.2"
  },
  "widgets": {
   "application/vnd.jupyter.widget-state+json": {
    "state": {
     "0106c8e19d714070add39ce8c6d73b83": {
      "model_module": "@jupyter-widgets/controls",
      "model_module_version": "1.0.0",
      "model_name": "DescriptionStyleModel",
      "state": {
       "_model_module_version": "1.0.0",
       "description_width": ""
      }
     },
     "05ffd955194744c0931e197349bda24f": {
      "model_module": "@jupyter-widgets/controls",
      "model_module_version": "1.0.0",
      "model_name": "DropdownModel",
      "state": {
       "_model_module_version": "1.0.0",
       "_options_labels": [
        "sample_data"
       ],
       "_view_module_version": "1.0.0",
       "description": "Select issue to analyze:",
       "index": 0,
       "layout": "IPY_MODEL_da298dc1df5e4f37b66ee3ccc5207925",
       "style": "IPY_MODEL_55e5ac3ffc044f14ba3b84c02cc8871b"
      }
     },
     "0690aa319f674bcebabbe7fd26745c8c": {
      "model_module": "@jupyter-widgets/controls",
      "model_module_version": "1.0.0",
      "model_name": "DropdownModel",
      "state": {
       "_model_module_version": "1.0.0",
       "_options_labels": [
        "sample_data"
       ],
       "_view_module_version": "1.0.0",
       "description": "Select issue to analyze:",
       "index": 0,
       "layout": "IPY_MODEL_124abcde0a444e8a9f518d82f8273c79",
       "style": "IPY_MODEL_7ab7143893ed413ca5d3f8c49749a7aa"
      }
     },
     "078b1bc0862e440ebee776e7cc6f2ca1": {
      "model_module": "@jupyter-widgets/controls",
      "model_module_version": "1.0.0",
      "model_name": "DropdownModel",
      "state": {
       "_model_module_version": "1.0.0",
       "_view_module_version": "1.0.0",
       "description": "Select issue to analyze:",
       "index": null,
       "layout": "IPY_MODEL_aaa070ab3e4b43e3bb8ad5c819cac38c",
       "style": "IPY_MODEL_3d50bc3e39fc434db6c260e86da08c41"
      }
     },
     "0a2cc3cab12d48db8c1c17e93e60995c": {
      "model_module": "@jupyter-widgets/base",
      "model_module_version": "1.0.0",
      "model_name": "LayoutModel",
      "state": {}
     },
     "0ab57299fd0f43ada8a7a252e70a5edf": {
      "model_module": "@jupyter-widgets/controls",
      "model_module_version": "1.0.0",
      "model_name": "DescriptionStyleModel",
      "state": {
       "_model_module_version": "1.0.0",
       "description_width": ""
      }
     },
     "0ca6d24c7b6a4b6ea0edf957368b0663": {
      "model_module": "@jupyter-widgets/base",
      "model_module_version": "1.0.0",
      "model_name": "LayoutModel",
      "state": {}
     },
     "0d987e90ff7c49898248c93fe4517bad": {
      "model_module": "@jupyter-widgets/controls",
      "model_module_version": "1.0.0",
      "model_name": "DropdownModel",
      "state": {
       "_model_module_version": "1.0.0",
       "_options_labels": [
        "0.1",
        "0.2",
        "0.3"
       ],
       "_view_module_version": "1.0.0",
       "description": "Select run:",
       "index": 2,
       "layout": "IPY_MODEL_4f4a8afc467a4ae6afc610c8f48e3306",
       "style": "IPY_MODEL_4c8bbaa2e79a4121833bbb0f29517d6c"
      }
     },
     "0f4d1c3da1d44cafab21de52277ce867": {
      "model_module": "@jupyter-widgets/controls",
      "model_module_version": "1.0.0",
      "model_name": "DescriptionStyleModel",
      "state": {
       "_model_module_version": "1.0.0",
       "description_width": ""
      }
     },
     "107743c285324bbdb88ddede4d318a02": {
      "model_module": "@jupyter-widgets/controls",
      "model_module_version": "1.0.0",
      "model_name": "DropdownModel",
      "state": {
       "_model_module_version": "1.0.0",
       "_options_labels": [
        "sample_data"
       ],
       "_view_module_version": "1.0.0",
       "description": "Select issue to analyze:",
       "index": 0,
       "layout": "IPY_MODEL_977b546ae6b74f9ab297675c203b0194",
       "style": "IPY_MODEL_0ab57299fd0f43ada8a7a252e70a5edf"
      }
     },
     "124abcde0a444e8a9f518d82f8273c79": {
      "model_module": "@jupyter-widgets/base",
      "model_module_version": "1.0.0",
      "model_name": "LayoutModel",
      "state": {}
     },
     "15d1bad56b81403fba9ff137717ff7bf": {
      "model_module": "@jupyter-widgets/controls",
      "model_module_version": "1.0.0",
      "model_name": "DescriptionStyleModel",
      "state": {
       "_model_module_version": "1.0.0",
       "description_width": ""
      }
     },
     "1652d0fbd6f147c899fbbb1f00254606": {
      "model_module": "@jupyter-widgets/base",
      "model_module_version": "1.0.0",
      "model_name": "LayoutModel",
      "state": {}
     },
     "1aa61d142aa24d90bf8fd37252c037e5": {
      "model_module": "@jupyter-widgets/controls",
      "model_module_version": "1.0.0",
      "model_name": "DropdownModel",
      "state": {
       "_model_module_version": "1.0.0",
       "_view_module_version": "1.0.0",
       "description": "Select dataset:",
       "index": null,
       "layout": "IPY_MODEL_2dd1298dfdda465790c55b05dd55f832",
       "style": "IPY_MODEL_d57a7c688b01494590d03abcc98d16ad"
      }
     },
     "1d3c88c3f9144bf3902709f17343eecb": {
      "model_module": "@jupyter-widgets/base",
      "model_module_version": "1.0.0",
      "model_name": "LayoutModel",
      "state": {}
     },
     "1dd2992ac3644fddaa7f723bd87568ee": {
      "model_module": "@jupyter-widgets/base",
      "model_module_version": "1.0.0",
      "model_name": "LayoutModel",
      "state": {}
     },
     "21451bdbd1b14f2bba0ed14f279bc375": {
      "model_module": "@jupyter-widgets/controls",
      "model_module_version": "1.0.0",
      "model_name": "DropdownModel",
      "state": {
       "_model_module_version": "1.0.0",
       "_options_labels": [
        "0.1",
        "0.2",
        "0.3"
       ],
       "_view_module_version": "1.0.0",
       "description": "Select run:",
       "index": 0,
       "layout": "IPY_MODEL_a2d1aeed6e1b4a1fabc71e5a27ef872e",
       "style": "IPY_MODEL_3319572e841e4ef28805dc407495bc42"
      }
     },
     "21dd35190f0342e8a7681c6d9167b49e": {
      "model_module": "@jupyter-widgets/controls",
      "model_module_version": "1.0.0",
      "model_name": "DescriptionStyleModel",
      "state": {
       "_model_module_version": "1.0.0",
       "description_width": ""
      }
     },
     "249a851e18df4f3883bc5dee8b162f2b": {
      "model_module": "@jupyter-widgets/controls",
      "model_module_version": "1.0.0",
      "model_name": "DropdownModel",
      "state": {
       "_model_module_version": "1.0.0",
       "_options_labels": [
        "0.1",
        "0.2",
        "0.3"
       ],
       "_view_module_version": "1.0.0",
       "description": "Select run:",
       "index": 0,
       "layout": "IPY_MODEL_c2d364ec438944e4b4f64f39d8d999bf",
       "style": "IPY_MODEL_8de84a3800f84174876233ae13266698"
      }
     },
     "283758d2ac7f4717ad22331a664b6b43": {
      "model_module": "@jupyter-widgets/controls",
      "model_module_version": "1.0.0",
      "model_name": "DropdownModel",
      "state": {
       "_model_module_version": "1.0.0",
       "_options_labels": [
        "sample_data"
       ],
       "_view_module_version": "1.0.0",
       "description": "Select dataset:",
       "index": 0,
       "layout": "IPY_MODEL_0a2cc3cab12d48db8c1c17e93e60995c",
       "style": "IPY_MODEL_7b8633c702d6438ea3bb31515ce9620e"
      }
     },
     "29386762f0704e4daaf9e341557aa058": {
      "model_module": "@jupyter-widgets/controls",
      "model_module_version": "1.0.0",
      "model_name": "DescriptionStyleModel",
      "state": {
       "_model_module_version": "1.0.0",
       "description_width": ""
      }
     },
     "2bfb3a1234d441c88260fa3f26acdf84": {
      "model_module": "@jupyter-widgets/controls",
      "model_module_version": "1.0.0",
      "model_name": "DropdownModel",
      "state": {
       "_model_module_version": "1.0.0",
       "_options_labels": [
        "0.2",
        "0.1",
        "0.3"
       ],
       "_view_module_version": "1.0.0",
       "description": "Select run:",
       "index": 2,
       "layout": "IPY_MODEL_d9ea472045434d0597ae657cb774a867",
       "style": "IPY_MODEL_6701605bc1c84d299d629ebdd9b3dc30"
      }
     },
     "2dd1298dfdda465790c55b05dd55f832": {
      "model_module": "@jupyter-widgets/base",
      "model_module_version": "1.0.0",
      "model_name": "LayoutModel",
      "state": {}
     },
     "2f4c7e67fa3d4a7cb0cdc53c2a07951b": {
      "model_module": "@jupyter-widgets/controls",
      "model_module_version": "1.0.0",
      "model_name": "DescriptionStyleModel",
      "state": {
       "_model_module_version": "1.0.0",
       "description_width": ""
      }
     },
     "3319572e841e4ef28805dc407495bc42": {
      "model_module": "@jupyter-widgets/controls",
      "model_module_version": "1.0.0",
      "model_name": "DescriptionStyleModel",
      "state": {
       "_model_module_version": "1.0.0",
       "description_width": ""
      }
     },
     "333dd7d63a7e4de2a9bf29cdd18239a6": {
      "model_module": "@jupyter-widgets/base",
      "model_module_version": "1.0.0",
      "model_name": "LayoutModel",
      "state": {}
     },
     "342765ce373f4e959850528ca701255b": {
      "model_module": "@jupyter-widgets/base",
      "model_module_version": "1.0.0",
      "model_name": "LayoutModel",
      "state": {}
     },
     "35688b5062f949aeb61767c7e8c91237": {
      "model_module": "@jupyter-widgets/controls",
      "model_module_version": "1.0.0",
      "model_name": "DropdownModel",
      "state": {
       "_model_module_version": "1.0.0",
       "_options_labels": [
        "0.1",
        "0.2",
        "0.3"
       ],
       "_view_module_version": "1.0.0",
       "description": "Select run:",
       "index": 2,
       "layout": "IPY_MODEL_c1c41ba92ccb4a7aa070a18379bb8b54",
       "style": "IPY_MODEL_5b0b436c6848492eb819e24c4cc5b64d"
      }
     },
     "37cf316a4cce427aa41a056f4e05fc38": {
      "model_module": "@jupyter-widgets/base",
      "model_module_version": "1.0.0",
      "model_name": "LayoutModel",
      "state": {}
     },
     "3ae524dd45cd409096b3152405a24780": {
      "model_module": "@jupyter-widgets/base",
      "model_module_version": "1.0.0",
      "model_name": "LayoutModel",
      "state": {}
     },
     "3cea50c2e1e64b98918d63075e18e1cd": {
      "model_module": "@jupyter-widgets/controls",
      "model_module_version": "1.0.0",
      "model_name": "DropdownModel",
      "state": {
       "_model_module_version": "1.0.0",
       "_options_labels": [
        "sample_data"
       ],
       "_view_module_version": "1.0.0",
       "description": "Select dataset:",
       "index": 0,
       "layout": "IPY_MODEL_77db4041b206492582801e866a501856",
       "style": "IPY_MODEL_594fee376c094cee972f665d89416c1a"
      }
     },
     "3d50bc3e39fc434db6c260e86da08c41": {
      "model_module": "@jupyter-widgets/controls",
      "model_module_version": "1.0.0",
      "model_name": "DescriptionStyleModel",
      "state": {
       "_model_module_version": "1.0.0",
       "description_width": ""
      }
     },
     "442861bf08d341d4a7c693a347eb6d93": {
      "model_module": "@jupyter-widgets/controls",
      "model_module_version": "1.0.0",
      "model_name": "DescriptionStyleModel",
      "state": {
       "_model_module_version": "1.0.0",
       "description_width": ""
      }
     },
     "4c8bbaa2e79a4121833bbb0f29517d6c": {
      "model_module": "@jupyter-widgets/controls",
      "model_module_version": "1.0.0",
      "model_name": "DescriptionStyleModel",
      "state": {
       "_model_module_version": "1.0.0",
       "description_width": ""
      }
     },
     "4cc898a656e74bc5b5cbf73b0555ce05": {
      "model_module": "@jupyter-widgets/base",
      "model_module_version": "1.0.0",
      "model_name": "LayoutModel",
      "state": {}
     },
     "4ce859bdba3f490b99cad4defab030de": {
      "model_module": "@jupyter-widgets/base",
      "model_module_version": "1.0.0",
      "model_name": "LayoutModel",
      "state": {}
     },
     "4f4a8afc467a4ae6afc610c8f48e3306": {
      "model_module": "@jupyter-widgets/base",
      "model_module_version": "1.0.0",
      "model_name": "LayoutModel",
      "state": {}
     },
     "513adcb8dcfc4815958253d0dff162b8": {
      "model_module": "@jupyter-widgets/base",
      "model_module_version": "1.0.0",
      "model_name": "LayoutModel",
      "state": {}
     },
     "52cc08d324914e448f57254e109598db": {
      "model_module": "@jupyter-widgets/controls",
      "model_module_version": "1.0.0",
      "model_name": "DropdownModel",
      "state": {
       "_model_module_version": "1.0.0",
       "_options_labels": [
        "0.1",
        "0.2",
        "0.3"
       ],
       "_view_module_version": "1.0.0",
       "description": "Select run:",
       "index": 1,
       "layout": "IPY_MODEL_1652d0fbd6f147c899fbbb1f00254606",
       "style": "IPY_MODEL_75e12fee95044378926c075997e78fdc"
      }
     },
     "55e5ac3ffc044f14ba3b84c02cc8871b": {
      "model_module": "@jupyter-widgets/controls",
      "model_module_version": "1.0.0",
      "model_name": "DescriptionStyleModel",
      "state": {
       "_model_module_version": "1.0.0",
       "description_width": ""
      }
     },
     "56306b79c967455386522906ac691bfa": {
      "model_module": "@jupyter-widgets/base",
      "model_module_version": "1.0.0",
      "model_name": "LayoutModel",
      "state": {}
     },
     "594fee376c094cee972f665d89416c1a": {
      "model_module": "@jupyter-widgets/controls",
      "model_module_version": "1.0.0",
      "model_name": "DescriptionStyleModel",
      "state": {
       "_model_module_version": "1.0.0",
       "description_width": ""
      }
     },
     "5b0b436c6848492eb819e24c4cc5b64d": {
      "model_module": "@jupyter-widgets/controls",
      "model_module_version": "1.0.0",
      "model_name": "DescriptionStyleModel",
      "state": {
       "_model_module_version": "1.0.0",
       "description_width": ""
      }
     },
     "5d286befe1904019824ac36fa5eb7191": {
      "model_module": "@jupyter-widgets/controls",
      "model_module_version": "1.0.0",
      "model_name": "DescriptionStyleModel",
      "state": {
       "_model_module_version": "1.0.0",
       "description_width": ""
      }
     },
     "629802ad002446fc88180cc49a7ddde7": {
      "model_module": "@jupyter-widgets/controls",
      "model_module_version": "1.0.0",
      "model_name": "DescriptionStyleModel",
      "state": {
       "_model_module_version": "1.0.0",
       "description_width": ""
      }
     },
     "6701605bc1c84d299d629ebdd9b3dc30": {
      "model_module": "@jupyter-widgets/controls",
      "model_module_version": "1.0.0",
      "model_name": "DescriptionStyleModel",
      "state": {
       "_model_module_version": "1.0.0",
       "description_width": ""
      }
     },
     "6a7d975636b043feaac4d405b289f134": {
      "model_module": "@jupyter-widgets/base",
      "model_module_version": "1.0.0",
      "model_name": "LayoutModel",
      "state": {}
     },
     "6c49b7be01894973a27358371814cbed": {
      "model_module": "@jupyter-widgets/base",
      "model_module_version": "1.0.0",
      "model_name": "LayoutModel",
      "state": {}
     },
     "72ffc40ea2574b06967f298557a07e14": {
      "model_module": "@jupyter-widgets/controls",
      "model_module_version": "1.0.0",
      "model_name": "DropdownModel",
      "state": {
       "_model_module_version": "1.0.0",
       "_options_labels": [
        "sample_data"
       ],
       "_view_module_version": "1.0.0",
       "description": "Select dataset:",
       "index": 0,
       "layout": "IPY_MODEL_aad6c8e63d274c5d952eda64345e36ff",
       "style": "IPY_MODEL_a22458a6739d41deabea201d5a3f0cde"
      }
     },
     "7357ca54c03c43a8afce6f8964123f85": {
      "model_module": "@jupyter-widgets/controls",
      "model_module_version": "1.0.0",
      "model_name": "DropdownModel",
      "state": {
       "_model_module_version": "1.0.0",
       "_options_labels": [
        "sample_data"
       ],
       "_view_module_version": "1.0.0",
       "description": "Select run:",
       "index": 0,
       "layout": "IPY_MODEL_caf8ce746d3c45f8b3d5c9c6c49c3fa4",
       "style": "IPY_MODEL_2f4c7e67fa3d4a7cb0cdc53c2a07951b"
      }
     },
     "75e12fee95044378926c075997e78fdc": {
      "model_module": "@jupyter-widgets/controls",
      "model_module_version": "1.0.0",
      "model_name": "DescriptionStyleModel",
      "state": {
       "_model_module_version": "1.0.0",
       "description_width": ""
      }
     },
     "76547b317ae149b8bfdf53e5ad5aa059": {
      "model_module": "@jupyter-widgets/controls",
      "model_module_version": "1.0.0",
      "model_name": "DescriptionStyleModel",
      "state": {
       "_model_module_version": "1.0.0",
       "description_width": ""
      }
     },
     "77db4041b206492582801e866a501856": {
      "model_module": "@jupyter-widgets/base",
      "model_module_version": "1.0.0",
      "model_name": "LayoutModel",
      "state": {}
     },
     "796d5227473947b1afeca6db2fe8b877": {
      "model_module": "@jupyter-widgets/controls",
      "model_module_version": "1.0.0",
      "model_name": "DropdownModel",
      "state": {
       "_model_module_version": "1.0.0",
       "_options_labels": [
        "0.1",
        "0.2",
        "0.3"
       ],
       "_view_module_version": "1.0.0",
       "description": "Select run:",
       "index": 1,
       "layout": "IPY_MODEL_0ca6d24c7b6a4b6ea0edf957368b0663",
       "style": "IPY_MODEL_da91ab2b1eae4581aae8a76e09c47da8"
      }
     },
     "7ab7143893ed413ca5d3f8c49749a7aa": {
      "model_module": "@jupyter-widgets/controls",
      "model_module_version": "1.0.0",
      "model_name": "DescriptionStyleModel",
      "state": {
       "_model_module_version": "1.0.0",
       "description_width": ""
      }
     },
     "7b791c33d5a5452b90597099968bc3bc": {
      "model_module": "@jupyter-widgets/controls",
      "model_module_version": "1.0.0",
      "model_name": "DropdownModel",
      "state": {
       "_model_module_version": "1.0.0",
       "_options_labels": [
        "sample_data"
       ],
       "_view_module_version": "1.0.0",
       "description": "Select run:",
       "index": 0,
       "layout": "IPY_MODEL_56306b79c967455386522906ac691bfa",
       "style": "IPY_MODEL_29386762f0704e4daaf9e341557aa058"
      }
     },
     "7b8633c702d6438ea3bb31515ce9620e": {
      "model_module": "@jupyter-widgets/controls",
      "model_module_version": "1.0.0",
      "model_name": "DescriptionStyleModel",
      "state": {
       "_model_module_version": "1.0.0",
       "description_width": ""
      }
     },
     "7ba3834ca0e14f9eb7f518bc600aa58c": {
      "model_module": "@jupyter-widgets/controls",
      "model_module_version": "1.0.0",
      "model_name": "DescriptionStyleModel",
      "state": {
       "_model_module_version": "1.0.0",
       "description_width": ""
      }
     },
     "7c49f8a34fe643949df8140e618aa51b": {
      "model_module": "@jupyter-widgets/controls",
      "model_module_version": "1.0.0",
      "model_name": "DescriptionStyleModel",
      "state": {
       "_model_module_version": "1.0.0",
       "description_width": ""
      }
     },
     "805f57cae2174f208228db1d94e33dca": {
      "model_module": "@jupyter-widgets/controls",
      "model_module_version": "1.0.0",
      "model_name": "DropdownModel",
      "state": {
       "_model_module_version": "1.0.0",
       "_options_labels": [
        "0.1",
        "0.2",
        "0.3"
       ],
       "_view_module_version": "1.0.0",
       "description": "Select run:",
       "index": 1,
       "layout": "IPY_MODEL_4ce859bdba3f490b99cad4defab030de",
       "style": "IPY_MODEL_0f4d1c3da1d44cafab21de52277ce867"
      }
     },
     "834faaba9c1249faa5454399b126cf3d": {
      "model_module": "@jupyter-widgets/controls",
      "model_module_version": "1.0.0",
      "model_name": "DropdownModel",
      "state": {
       "_model_module_version": "1.0.0",
       "_options_labels": [
        "0.1",
        "0.2",
        "0.3"
       ],
       "_view_module_version": "1.0.0",
       "description": "Select run:",
       "index": 2,
       "layout": "IPY_MODEL_a3def36ee2514aafa0d99cc1f744228d",
       "style": "IPY_MODEL_88c0f88622b342abbe1588026500b6db"
      }
     },
     "86e74f59a2484ab0915657d1af126fcf": {
      "model_module": "@jupyter-widgets/controls",
      "model_module_version": "1.0.0",
      "model_name": "DescriptionStyleModel",
      "state": {
       "_model_module_version": "1.0.0",
       "description_width": ""
      }
     },
     "88c0f88622b342abbe1588026500b6db": {
      "model_module": "@jupyter-widgets/controls",
      "model_module_version": "1.0.0",
      "model_name": "DescriptionStyleModel",
      "state": {
       "_model_module_version": "1.0.0",
       "description_width": ""
      }
     },
     "89955f83fb72421191ed80cef44ff278": {
      "model_module": "@jupyter-widgets/controls",
      "model_module_version": "1.0.0",
      "model_name": "DescriptionStyleModel",
      "state": {
       "_model_module_version": "1.0.0",
       "description_width": ""
      }
     },
     "8de84a3800f84174876233ae13266698": {
      "model_module": "@jupyter-widgets/controls",
      "model_module_version": "1.0.0",
      "model_name": "DescriptionStyleModel",
      "state": {
       "_model_module_version": "1.0.0",
       "description_width": ""
      }
     },
     "8e50d8fe437249bfba86e4bfd13a9395": {
      "model_module": "@jupyter-widgets/base",
      "model_module_version": "1.0.0",
      "model_name": "LayoutModel",
      "state": {}
     },
     "8ec5952b2824482d94d6c3788e434aa3": {
      "model_module": "@jupyter-widgets/base",
      "model_module_version": "1.0.0",
      "model_name": "LayoutModel",
      "state": {}
     },
     "975bd430f60548bd9872d438743666b5": {
      "model_module": "@jupyter-widgets/controls",
      "model_module_version": "1.0.0",
      "model_name": "DescriptionStyleModel",
      "state": {
       "_model_module_version": "1.0.0",
       "description_width": ""
      }
     },
     "977b546ae6b74f9ab297675c203b0194": {
      "model_module": "@jupyter-widgets/base",
      "model_module_version": "1.0.0",
      "model_name": "LayoutModel",
      "state": {}
     },
     "9d5525406bad48b883d779bec7baaf58": {
      "model_module": "@jupyter-widgets/controls",
      "model_module_version": "1.0.0",
      "model_name": "DescriptionStyleModel",
      "state": {
       "_model_module_version": "1.0.0",
       "description_width": ""
      }
     },
     "a22458a6739d41deabea201d5a3f0cde": {
      "model_module": "@jupyter-widgets/controls",
      "model_module_version": "1.0.0",
      "model_name": "DescriptionStyleModel",
      "state": {
       "_model_module_version": "1.0.0",
       "description_width": ""
      }
     },
     "a2d1aeed6e1b4a1fabc71e5a27ef872e": {
      "model_module": "@jupyter-widgets/base",
      "model_module_version": "1.0.0",
      "model_name": "LayoutModel",
      "state": {}
     },
     "a3def36ee2514aafa0d99cc1f744228d": {
      "model_module": "@jupyter-widgets/base",
      "model_module_version": "1.0.0",
      "model_name": "LayoutModel",
      "state": {}
     },
     "a6f63f432cd546eda5d2f8a532fc6492": {
      "model_module": "@jupyter-widgets/base",
      "model_module_version": "1.0.0",
      "model_name": "LayoutModel",
      "state": {}
     },
     "aaa070ab3e4b43e3bb8ad5c819cac38c": {
      "model_module": "@jupyter-widgets/base",
      "model_module_version": "1.0.0",
      "model_name": "LayoutModel",
      "state": {}
     },
     "aad6c8e63d274c5d952eda64345e36ff": {
      "model_module": "@jupyter-widgets/base",
      "model_module_version": "1.0.0",
      "model_name": "LayoutModel",
      "state": {}
     },
     "adddc69584df4086a2587d64ad06c1ff": {
      "model_module": "@jupyter-widgets/controls",
      "model_module_version": "1.0.0",
      "model_name": "DropdownModel",
      "state": {
       "_model_module_version": "1.0.0",
       "_options_labels": [
        "0.1",
        "0.2",
        "0.3"
       ],
       "_view_module_version": "1.0.0",
       "description": "Select run:",
       "index": 0,
       "layout": "IPY_MODEL_afd75a2aae6b49dfaf20241a7b13a606",
       "style": "IPY_MODEL_975bd430f60548bd9872d438743666b5"
      }
     },
     "afd75a2aae6b49dfaf20241a7b13a606": {
      "model_module": "@jupyter-widgets/base",
      "model_module_version": "1.0.0",
      "model_name": "LayoutModel",
      "state": {}
     },
     "c0b13973daf844f5b929fb7d4b6b08af": {
      "model_module": "@jupyter-widgets/controls",
      "model_module_version": "1.0.0",
      "model_name": "DropdownModel",
      "state": {
       "_model_module_version": "1.0.0",
       "_options_labels": [
        "sample_data"
       ],
       "_view_module_version": "1.0.0",
       "description": "Select dataset:",
       "index": 0,
       "layout": "IPY_MODEL_8ec5952b2824482d94d6c3788e434aa3",
       "style": "IPY_MODEL_76547b317ae149b8bfdf53e5ad5aa059"
      }
     },
     "c10ae543a4d940d7bd8d35d1813aa21f": {
      "model_module": "@jupyter-widgets/controls",
      "model_module_version": "1.0.0",
      "model_name": "DropdownModel",
      "state": {
       "_model_module_version": "1.0.0",
       "_options_labels": [
        "0.1",
        "0.2",
        "0.3"
       ],
       "_view_module_version": "1.0.0",
       "description": "Select run:",
       "index": 1,
       "layout": "IPY_MODEL_333dd7d63a7e4de2a9bf29cdd18239a6",
       "style": "IPY_MODEL_7c49f8a34fe643949df8140e618aa51b"
      }
     },
     "c150219ec0114c3fbe4a6d30d490ee10": {
      "model_module": "@jupyter-widgets/controls",
      "model_module_version": "1.0.0",
      "model_name": "DescriptionStyleModel",
      "state": {
       "_model_module_version": "1.0.0",
       "description_width": ""
      }
     },
     "c1c41ba92ccb4a7aa070a18379bb8b54": {
      "model_module": "@jupyter-widgets/base",
      "model_module_version": "1.0.0",
      "model_name": "LayoutModel",
      "state": {}
     },
     "c2d364ec438944e4b4f64f39d8d999bf": {
      "model_module": "@jupyter-widgets/base",
      "model_module_version": "1.0.0",
      "model_name": "LayoutModel",
      "state": {}
     },
     "c54011c2975a4cf5930e0d02b3718167": {
      "model_module": "@jupyter-widgets/controls",
      "model_module_version": "1.0.0",
      "model_name": "DropdownModel",
      "state": {
       "_model_module_version": "1.0.0",
       "_options_labels": [
        "sample_data"
       ],
       "_view_module_version": "1.0.0",
       "description": "Select dataset:",
       "index": 0,
       "layout": "IPY_MODEL_4cc898a656e74bc5b5cbf73b0555ce05",
       "style": "IPY_MODEL_c57c4ff0e7234db594f9959c8bc33113"
      }
     },
     "c57c4ff0e7234db594f9959c8bc33113": {
      "model_module": "@jupyter-widgets/controls",
      "model_module_version": "1.0.0",
      "model_name": "DescriptionStyleModel",
      "state": {
       "_model_module_version": "1.0.0",
       "description_width": ""
      }
     },
     "c80a30d437d8454d8fdbe11978ac0778": {
      "model_module": "@jupyter-widgets/controls",
      "model_module_version": "1.0.0",
      "model_name": "DescriptionStyleModel",
      "state": {
       "_model_module_version": "1.0.0",
       "description_width": ""
      }
     },
     "caf8ce746d3c45f8b3d5c9c6c49c3fa4": {
      "model_module": "@jupyter-widgets/base",
      "model_module_version": "1.0.0",
      "model_name": "LayoutModel",
      "state": {}
     },
     "ce113d102ae64ec690faa61e1fbb5696": {
      "model_module": "@jupyter-widgets/controls",
      "model_module_version": "1.0.0",
      "model_name": "DropdownModel",
      "state": {
       "_model_module_version": "1.0.0",
       "_options_labels": [
        "0.1",
        "0.2",
        "0.3"
       ],
       "_view_module_version": "1.0.0",
       "description": "Select run:",
       "index": 0,
       "layout": "IPY_MODEL_37cf316a4cce427aa41a056f4e05fc38",
       "style": "IPY_MODEL_89955f83fb72421191ed80cef44ff278"
      }
     },
     "cff86e5af9ef4675af58115cfe8845ce": {
      "model_module": "@jupyter-widgets/controls",
      "model_module_version": "1.0.0",
      "model_name": "DropdownModel",
      "state": {
       "_model_module_version": "1.0.0",
       "_options_labels": [
        "sample_data"
       ],
       "_view_module_version": "1.0.0",
       "description": "Select dataset:",
       "index": 0,
       "layout": "IPY_MODEL_342765ce373f4e959850528ca701255b",
       "style": "IPY_MODEL_c80a30d437d8454d8fdbe11978ac0778"
      }
     },
     "d09eb1968e9e45aaa3b20dbb0183097f": {
      "model_module": "@jupyter-widgets/base",
      "model_module_version": "1.0.0",
      "model_name": "LayoutModel",
      "state": {}
     },
     "d266536d10534ef2bcb927630fa12c39": {
      "model_module": "@jupyter-widgets/controls",
      "model_module_version": "1.0.0",
      "model_name": "DropdownModel",
      "state": {
       "_model_module_version": "1.0.0",
       "_options_labels": [
        "0.1",
        "0.2",
        "0.3"
       ],
       "_view_module_version": "1.0.0",
       "description": "Select run:",
       "index": 1,
       "layout": "IPY_MODEL_3ae524dd45cd409096b3152405a24780",
       "style": "IPY_MODEL_21dd35190f0342e8a7681c6d9167b49e"
      }
     },
     "d57a7c688b01494590d03abcc98d16ad": {
      "model_module": "@jupyter-widgets/controls",
      "model_module_version": "1.0.0",
      "model_name": "DescriptionStyleModel",
      "state": {
       "_model_module_version": "1.0.0",
       "description_width": ""
      }
     },
     "d6107a85081b4318bfc64abbe7084f25": {
      "model_module": "@jupyter-widgets/controls",
      "model_module_version": "1.0.0",
      "model_name": "DropdownModel",
      "state": {
       "_model_module_version": "1.0.0",
       "_options_labels": [
        "0.1",
        "0.2",
        "0.3"
       ],
       "_view_module_version": "1.0.0",
       "description": "Select run:",
       "index": 0,
       "layout": "IPY_MODEL_6c49b7be01894973a27358371814cbed",
       "style": "IPY_MODEL_442861bf08d341d4a7c693a347eb6d93"
      }
     },
     "d9cbcd6c60cf41689900185fc710c942": {
      "model_module": "@jupyter-widgets/controls",
      "model_module_version": "1.0.0",
      "model_name": "DropdownModel",
      "state": {
       "_model_module_version": "1.0.0",
       "_options_labels": [
        "0.1",
        "0.2",
        "0.3"
       ],
       "_view_module_version": "1.0.0",
       "description": "Select run:",
       "index": 0,
       "layout": "IPY_MODEL_8e50d8fe437249bfba86e4bfd13a9395",
       "style": "IPY_MODEL_629802ad002446fc88180cc49a7ddde7"
      }
     },
     "d9ea472045434d0597ae657cb774a867": {
      "model_module": "@jupyter-widgets/base",
      "model_module_version": "1.0.0",
      "model_name": "LayoutModel",
      "state": {}
     },
     "da298dc1df5e4f37b66ee3ccc5207925": {
      "model_module": "@jupyter-widgets/base",
      "model_module_version": "1.0.0",
      "model_name": "LayoutModel",
      "state": {}
     },
     "da91ab2b1eae4581aae8a76e09c47da8": {
      "model_module": "@jupyter-widgets/controls",
      "model_module_version": "1.0.0",
      "model_name": "DescriptionStyleModel",
      "state": {
       "_model_module_version": "1.0.0",
       "description_width": ""
      }
     },
     "dbfc90f70f1e491e832029633a4136de": {
      "model_module": "@jupyter-widgets/controls",
      "model_module_version": "1.0.0",
      "model_name": "DropdownModel",
      "state": {
       "_model_module_version": "1.0.0",
       "_options_labels": [
        "0.1",
        "0.2",
        "0.3"
       ],
       "_view_module_version": "1.0.0",
       "description": "Select run:",
       "index": 1,
       "layout": "IPY_MODEL_1d3c88c3f9144bf3902709f17343eecb",
       "style": "IPY_MODEL_c150219ec0114c3fbe4a6d30d490ee10"
      }
     },
     "e0cf1711ca744fdb875198ea9d362c7b": {
      "model_module": "@jupyter-widgets/controls",
      "model_module_version": "1.0.0",
      "model_name": "DropdownModel",
      "state": {
       "_model_module_version": "1.0.0",
       "_options_labels": [
        "0.1",
        "0.2",
        "0.3"
       ],
       "_view_module_version": "1.0.0",
       "description": "Select run:",
       "index": 0,
       "layout": "IPY_MODEL_a6f63f432cd546eda5d2f8a532fc6492",
       "style": "IPY_MODEL_0106c8e19d714070add39ce8c6d73b83"
      }
     },
     "e14db258bc534592a1629d4c4bddb325": {
      "model_module": "@jupyter-widgets/controls",
      "model_module_version": "1.0.0",
      "model_name": "DropdownModel",
      "state": {
       "_model_module_version": "1.0.0",
       "_options_labels": [
        "sample_data"
       ],
       "_view_module_version": "1.0.0",
       "description": "Select dataset:",
       "index": 0,
       "layout": "IPY_MODEL_d09eb1968e9e45aaa3b20dbb0183097f",
       "style": "IPY_MODEL_9d5525406bad48b883d779bec7baaf58"
      }
     },
     "ef2576fc06f24749a39578baa357e6d9": {
      "model_module": "@jupyter-widgets/base",
      "model_module_version": "1.0.0",
      "model_name": "LayoutModel",
      "state": {}
     },
     "f2ed9ad9b8c54dc0b0adfc949583770a": {
      "model_module": "@jupyter-widgets/controls",
      "model_module_version": "1.0.0",
      "model_name": "DropdownModel",
      "state": {
       "_model_module_version": "1.0.0",
       "_options_labels": [
        "sample_data"
       ],
       "_view_module_version": "1.0.0",
       "description": "Select dataset:",
       "index": 0,
       "layout": "IPY_MODEL_1dd2992ac3644fddaa7f723bd87568ee",
       "style": "IPY_MODEL_7ba3834ca0e14f9eb7f518bc600aa58c"
      }
     },
     "f4068b4164324ed7810c09e498fb2474": {
      "model_module": "@jupyter-widgets/controls",
      "model_module_version": "1.0.0",
      "model_name": "DropdownModel",
      "state": {
       "_model_module_version": "1.0.0",
       "_options_labels": [
        "0.1",
        "0.2",
        "0.3"
       ],
       "_view_module_version": "1.0.0",
       "description": "Select run:",
       "index": 2,
       "layout": "IPY_MODEL_ef2576fc06f24749a39578baa357e6d9",
       "style": "IPY_MODEL_5d286befe1904019824ac36fa5eb7191"
      }
     },
     "fb0bbbc5ed6e4082b82a72a3d8a26978": {
      "model_module": "@jupyter-widgets/controls",
      "model_module_version": "1.0.0",
      "model_name": "DropdownModel",
      "state": {
       "_model_module_version": "1.0.0",
       "_options_labels": [
        "sample_data"
       ],
       "_view_module_version": "1.0.0",
       "description": "Select dataset:",
       "index": 0,
       "layout": "IPY_MODEL_513adcb8dcfc4815958253d0dff162b8",
       "style": "IPY_MODEL_15d1bad56b81403fba9ff137717ff7bf"
      }
     },
     "fe51d25424bb45f49e633a859be38020": {
      "model_module": "@jupyter-widgets/controls",
      "model_module_version": "1.0.0",
      "model_name": "DropdownModel",
      "state": {
       "_model_module_version": "1.0.0",
       "_options_labels": [
        "sample_data"
       ],
       "_view_module_version": "1.0.0",
       "description": "Select dataset:",
       "index": 0,
       "layout": "IPY_MODEL_6a7d975636b043feaac4d405b289f134",
       "style": "IPY_MODEL_86e74f59a2484ab0915657d1af126fcf"
      }
     }
    },
    "version_major": 2,
    "version_minor": 0
   }
  },
  "pycharm": {
   "stem_cell": {
    "cell_type": "raw",
    "source": [],
    "metadata": {
     "collapsed": false
    }
   }
  }
 },
 "nbformat": 4,
 "nbformat_minor": 2
}