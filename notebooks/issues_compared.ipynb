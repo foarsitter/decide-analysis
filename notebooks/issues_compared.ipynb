{
 "cells": [
  {
   "cell_type": "markdown",
   "metadata": {},
   "source": [
    "# Sheet\n",
    "Vergelijk de verschillen in de NBS per issue en per waarde van p"
   ]
  },
  {
   "cell_type": "code",
   "execution_count": 20,
   "metadata": {
    "pycharm": {
     "is_executing": false
    }
   },
   "outputs": [],
   "source": [
    "import numpy as np\n",
    "import pandas as pd\n",
    "import matplotlib.pyplot as plt\n",
    "import sqlite3\n",
    "import ipywidgets as widget\n",
    "from IPython.core.display import display, HTML\n",
    "%matplotlib inline\n",
    "\n",
    "pd.set_option('display.max_rows', 750)\n",
    "pd.set_option('display.max_columns', 500)\n",
    "data_set_id = 6"
   ]
  },
  {
   "cell_type": "code",
   "execution_count": 21,
   "metadata": {
    "pycharm": {
     "is_executing": false
    }
   },
   "outputs": [],
   "source": [
    "conn = sqlite3.connect('/home/jelmert/PycharmProjects/decide-exchange-model/data/output/decide-data_1.db')"
   ]
  },
  {
   "cell_type": "code",
   "execution_count": 22,
   "metadata": {
    "pycharm": {
     "is_executing": false
    }
   },
   "outputs": [],
   "source": [
    "df = pd.read_sql(\"\"\"\n",
    "SELECT\n",
    "        a.name AS actor,\n",
    "        i.name as issue,\n",
    "        AVG(ai.position) as postion,        \n",
    "        i2.pointer                                AS iteration,\n",
    "        m.p,\n",
    "        m.id  \n",
    "      FROM actorissue ai\n",
    "        LEFT JOIN issue i ON ai.issue_id = i.id\n",
    "        LEFT JOIN actor a ON ai.actor_id = a.id\n",
    "        LEFT JOIN iteration i2 ON ai.iteration_id = i2.id\n",
    "        LEFT JOIN repetition r ON i2.repetition_id = r.id\n",
    "        LEFT JOIN modelrun m ON r.model_run_id = m.id\n",
    "        LEFT JOIN dataset d ON a.data_set_id = d.id\n",
    "      WHERE  ai.type = 'before' AND d.id = ?\n",
    "     GROUP BY m.id, i2.pointer, a.id, i.id;\n",
    "\"\"\", \n",
    "                 conn, \n",
    "                 params=(data_set_id,),\n",
    "                 index_col=[ 'issue','actor','p'],                  \n",
    "                 columns=['postion']\n",
    "                )\n",
    "\n",
    "table = pd.pivot_table(df, index=['issue','actor', 'iteration'], columns=['p'],values=['postion'])\n"
   ]
  },
  {
   "cell_type": "markdown",
   "metadata": {
    "scrolled": false
   },
   "source": [
    "# Posities \n",
    "Verloop van de positie over de verschillende onderhandelingsrondes van de actor per issue "
   ]
  },
  {
   "cell_type": "code",
   "execution_count": 23,
   "metadata": {
    "pycharm": {
     "is_executing": false
    }
   },
   "outputs": [
    {
     "data": {
      "text/html": "<div>\n<style scoped>\n    .dataframe tbody tr th:only-of-type {\n        vertical-align: middle;\n    }\n\n    .dataframe tbody tr th {\n        vertical-align: top;\n    }\n\n    .dataframe thead tr th {\n        text-align: left;\n    }\n\n    .dataframe thead tr:last-of-type th {\n        text-align: right;\n    }\n</style>\n<table border=\"1\" class=\"dataframe\">\n  <thead>\n    <tr>\n      <th></th>\n      <th></th>\n      <th></th>\n      <th colspan=\"2\" halign=\"left\">postion</th>\n    </tr>\n    <tr>\n      <th></th>\n      <th></th>\n      <th>p</th>\n      <th>0.0</th>\n      <th>0.8</th>\n    </tr>\n    <tr>\n      <th>issue</th>\n      <th>actor</th>\n      <th>iteration</th>\n      <th></th>\n      <th></th>\n    </tr>\n  </thead>\n  <tbody>\n    <tr>\n      <th rowspan=\"150\" valign=\"top\">adapt_finance</th>\n      <th rowspan=\"10\" valign=\"top\">AILAC2</th>\n      <th>0</th>\n      <td>100.000000</td>\n      <td>100.000000</td>\n    </tr>\n    <tr>\n      <th>1</th>\n      <td>100.000000</td>\n      <td>91.721128</td>\n    </tr>\n    <tr>\n      <th>2</th>\n      <td>99.488934</td>\n      <td>91.721128</td>\n    </tr>\n    <tr>\n      <th>3</th>\n      <td>96.172169</td>\n      <td>88.488307</td>\n    </tr>\n    <tr>\n      <th>4</th>\n      <td>96.099094</td>\n      <td>87.073341</td>\n    </tr>\n    <tr>\n      <th>5</th>\n      <td>94.120767</td>\n      <td>85.983586</td>\n    </tr>\n    <tr>\n      <th>6</th>\n      <td>94.016475</td>\n      <td>84.179748</td>\n    </tr>\n    <tr>\n      <th>7</th>\n      <td>93.890829</td>\n      <td>84.113822</td>\n    </tr>\n    <tr>\n      <th>8</th>\n      <td>93.704827</td>\n      <td>81.835062</td>\n    </tr>\n    <tr>\n      <th>9</th>\n      <td>93.662545</td>\n      <td>80.427747</td>\n    </tr>\n    <tr>\n      <th rowspan=\"10\" valign=\"top\">ALBA</th>\n      <th>0</th>\n      <td>100.000000</td>\n      <td>100.000000</td>\n    </tr>\n    <tr>\n      <th>1</th>\n      <td>76.000000</td>\n      <td>76.000000</td>\n    </tr>\n    <tr>\n      <th>2</th>\n      <td>61.271859</td>\n      <td>61.628823</td>\n    </tr>\n    <tr>\n      <th>3</th>\n      <td>70.443957</td>\n      <td>54.394162</td>\n    </tr>\n    <tr>\n      <th>4</th>\n      <td>60.737408</td>\n      <td>61.050061</td>\n    </tr>\n    <tr>\n      <th>5</th>\n      <td>68.465401</td>\n      <td>66.394699</td>\n    </tr>\n    <tr>\n      <th>6</th>\n      <td>59.286853</td>\n      <td>58.145102</td>\n    </tr>\n    <tr>\n      <th>7</th>\n      <td>67.621962</td>\n      <td>64.393417</td>\n    </tr>\n    <tr>\n      <th>8</th>\n      <td>61.703422</td>\n      <td>58.668848</td>\n    </tr>\n    <tr>\n      <th>9</th>\n      <td>59.718496</td>\n      <td>64.228739</td>\n    </tr>\n    <tr>\n      <th rowspan=\"10\" valign=\"top\">AOSIS</th>\n      <th>0</th>\n      <td>100.000000</td>\n      <td>100.000000</td>\n    </tr>\n    <tr>\n      <th>1</th>\n      <td>91.600000</td>\n      <td>91.609512</td>\n    </tr>\n    <tr>\n      <th>2</th>\n      <td>85.566933</td>\n      <td>82.984181</td>\n    </tr>\n    <tr>\n      <th>3</th>\n      <td>82.172579</td>\n      <td>81.854279</td>\n    </tr>\n    <tr>\n      <th>4</th>\n      <td>76.989556</td>\n      <td>79.677917</td>\n    </tr>\n    <tr>\n      <th>5</th>\n      <td>75.897727</td>\n      <td>77.008925</td>\n    </tr>\n    <tr>\n      <th>6</th>\n      <td>71.711638</td>\n      <td>74.271311</td>\n    </tr>\n    <tr>\n      <th>7</th>\n      <td>70.791160</td>\n      <td>72.783143</td>\n    </tr>\n    <tr>\n      <th>8</th>\n      <td>68.976852</td>\n      <td>71.118467</td>\n    </tr>\n    <tr>\n      <th>9</th>\n      <td>67.303245</td>\n      <td>70.215577</td>\n    </tr>\n    <tr>\n      <th rowspan=\"10\" valign=\"top\">African_grp</th>\n      <th>0</th>\n      <td>100.000000</td>\n      <td>100.000000</td>\n    </tr>\n    <tr>\n      <th>1</th>\n      <td>87.400000</td>\n      <td>90.442958</td>\n    </tr>\n    <tr>\n      <th>2</th>\n      <td>77.068000</td>\n      <td>79.563226</td>\n    </tr>\n    <tr>\n      <th>3</th>\n      <td>68.595760</td>\n      <td>71.731254</td>\n    </tr>\n    <tr>\n      <th>4</th>\n      <td>61.648523</td>\n      <td>64.284223</td>\n    </tr>\n    <tr>\n      <th>5</th>\n      <td>67.849626</td>\n      <td>60.302637</td>\n    </tr>\n    <tr>\n      <th>6</th>\n      <td>63.916676</td>\n      <td>62.685074</td>\n    </tr>\n    <tr>\n      <th>7</th>\n      <td>61.896701</td>\n      <td>66.554115</td>\n    </tr>\n    <tr>\n      <th>8</th>\n      <td>61.628941</td>\n      <td>61.871763</td>\n    </tr>\n    <tr>\n      <th>9</th>\n      <td>59.170566</td>\n      <td>64.725687</td>\n    </tr>\n    <tr>\n      <th rowspan=\"10\" valign=\"top\">Arab_statess</th>\n      <th>0</th>\n      <td>50.000000</td>\n      <td>50.000000</td>\n    </tr>\n    <tr>\n      <th>1</th>\n      <td>59.000000</td>\n      <td>59.000000</td>\n    </tr>\n    <tr>\n      <th>2</th>\n      <td>66.380000</td>\n      <td>65.165445</td>\n    </tr>\n    <tr>\n      <th>3</th>\n      <td>59.934398</td>\n      <td>59.240622</td>\n    </tr>\n    <tr>\n      <th>4</th>\n      <td>66.457197</td>\n      <td>64.505205</td>\n    </tr>\n    <tr>\n      <th>5</th>\n      <td>60.963993</td>\n      <td>63.609526</td>\n    </tr>\n    <tr>\n      <th>6</th>\n      <td>66.932212</td>\n      <td>62.657402</td>\n    </tr>\n    <tr>\n      <th>7</th>\n      <td>60.395210</td>\n      <td>66.531424</td>\n    </tr>\n    <tr>\n      <th>8</th>\n      <td>66.424422</td>\n      <td>61.853156</td>\n    </tr>\n    <tr>\n      <th>9</th>\n      <td>62.604334</td>\n      <td>65.449899</td>\n    </tr>\n    <tr>\n      <th rowspan=\"10\" valign=\"top\">Brazil</th>\n      <th>0</th>\n      <td>50.000000</td>\n      <td>50.000000</td>\n    </tr>\n    <tr>\n      <th>1</th>\n      <td>65.000000</td>\n      <td>65.000000</td>\n    </tr>\n    <tr>\n      <th>2</th>\n      <td>49.889824</td>\n      <td>50.336029</td>\n    </tr>\n    <tr>\n      <th>3</th>\n      <td>60.652020</td>\n      <td>60.248558</td>\n    </tr>\n    <tr>\n      <th>4</th>\n      <td>70.784349</td>\n      <td>68.720483</td>\n    </tr>\n    <tr>\n      <th>5</th>\n      <td>58.549044</td>\n      <td>57.274591</td>\n    </tr>\n    <tr>\n      <th>6</th>\n      <td>66.182612</td>\n      <td>63.850848</td>\n    </tr>\n    <tr>\n      <th>7</th>\n      <td>55.512489</td>\n      <td>61.731236</td>\n    </tr>\n    <tr>\n      <th>8</th>\n      <td>61.418961</td>\n      <td>60.691049</td>\n    </tr>\n    <tr>\n      <th>9</th>\n      <td>65.913333</td>\n      <td>65.755301</td>\n    </tr>\n    <tr>\n      <th rowspan=\"10\" valign=\"top\">China</th>\n      <th>0</th>\n      <td>50.000000</td>\n      <td>50.000000</td>\n    </tr>\n    <tr>\n      <th>1</th>\n      <td>64.000000</td>\n      <td>64.000000</td>\n    </tr>\n    <tr>\n      <th>2</th>\n      <td>50.177169</td>\n      <td>50.593627</td>\n    </tr>\n    <tr>\n      <th>3</th>\n      <td>63.984463</td>\n      <td>62.109328</td>\n    </tr>\n    <tr>\n      <th>4</th>\n      <td>54.468814</td>\n      <td>61.328471</td>\n    </tr>\n    <tr>\n      <th>5</th>\n      <td>66.125292</td>\n      <td>60.427759</td>\n    </tr>\n    <tr>\n      <th>6</th>\n      <td>56.072216</td>\n      <td>67.583391</td>\n    </tr>\n    <tr>\n      <th>7</th>\n      <td>61.364858</td>\n      <td>61.227495</td>\n    </tr>\n    <tr>\n      <th>8</th>\n      <td>64.918968</td>\n      <td>67.126728</td>\n    </tr>\n    <tr>\n      <th>9</th>\n      <td>56.860255</td>\n      <td>61.488474</td>\n    </tr>\n    <tr>\n      <th rowspan=\"10\" valign=\"top\">EIG</th>\n      <th>0</th>\n      <td>40.000000</td>\n      <td>40.000000</td>\n    </tr>\n    <tr>\n      <th>1</th>\n      <td>51.676973</td>\n      <td>48.743296</td>\n    </tr>\n    <tr>\n      <th>2</th>\n      <td>58.985028</td>\n      <td>54.931326</td>\n    </tr>\n    <tr>\n      <th>3</th>\n      <td>66.987395</td>\n      <td>61.724198</td>\n    </tr>\n    <tr>\n      <th>4</th>\n      <td>59.589916</td>\n      <td>66.402995</td>\n    </tr>\n    <tr>\n      <th>5</th>\n      <td>63.589677</td>\n      <td>61.528493</td>\n    </tr>\n    <tr>\n      <th>6</th>\n      <td>66.451127</td>\n      <td>62.986468</td>\n    </tr>\n    <tr>\n      <th>7</th>\n      <td>62.582844</td>\n      <td>63.880141</td>\n    </tr>\n    <tr>\n      <th>8</th>\n      <td>60.221547</td>\n      <td>61.336707</td>\n    </tr>\n    <tr>\n      <th>9</th>\n      <td>61.972608</td>\n      <td>63.715914</td>\n    </tr>\n    <tr>\n      <th rowspan=\"10\" valign=\"top\">EU28</th>\n      <th>0</th>\n      <td>40.000000</td>\n      <td>40.000000</td>\n    </tr>\n    <tr>\n      <th>1</th>\n      <td>55.600000</td>\n      <td>55.600000</td>\n    </tr>\n    <tr>\n      <th>2</th>\n      <td>65.249423</td>\n      <td>65.389642</td>\n    </tr>\n    <tr>\n      <th>3</th>\n      <td>57.812358</td>\n      <td>56.203226</td>\n    </tr>\n    <tr>\n      <th>4</th>\n      <td>66.178862</td>\n      <td>64.597347</td>\n    </tr>\n    <tr>\n      <th>5</th>\n      <td>60.063614</td>\n      <td>64.162212</td>\n    </tr>\n    <tr>\n      <th>6</th>\n      <td>64.623642</td>\n      <td>62.351796</td>\n    </tr>\n    <tr>\n      <th>7</th>\n      <td>55.781534</td>\n      <td>61.337594</td>\n    </tr>\n    <tr>\n      <th>8</th>\n      <td>64.045307</td>\n      <td>61.900480</td>\n    </tr>\n    <tr>\n      <th>9</th>\n      <td>56.789368</td>\n      <td>66.133119</td>\n    </tr>\n    <tr>\n      <th rowspan=\"10\" valign=\"top\">India</th>\n      <th>0</th>\n      <td>100.000000</td>\n      <td>100.000000</td>\n    </tr>\n    <tr>\n      <th>1</th>\n      <td>88.217248</td>\n      <td>91.191552</td>\n    </tr>\n    <tr>\n      <th>2</th>\n      <td>87.994675</td>\n      <td>88.358446</td>\n    </tr>\n    <tr>\n      <th>3</th>\n      <td>84.052963</td>\n      <td>85.864762</td>\n    </tr>\n    <tr>\n      <th>4</th>\n      <td>84.052963</td>\n      <td>82.272687</td>\n    </tr>\n    <tr>\n      <th>5</th>\n      <td>77.329069</td>\n      <td>76.928187</td>\n    </tr>\n    <tr>\n      <th>6</th>\n      <td>73.568920</td>\n      <td>73.272969</td>\n    </tr>\n    <tr>\n      <th>7</th>\n      <td>67.758475</td>\n      <td>70.382163</td>\n    </tr>\n    <tr>\n      <th>8</th>\n      <td>66.923240</td>\n      <td>67.667093</td>\n    </tr>\n    <tr>\n      <th>9</th>\n      <td>62.713900</td>\n      <td>68.020881</td>\n    </tr>\n    <tr>\n      <th rowspan=\"10\" valign=\"top\">Japan</th>\n      <th>0</th>\n      <td>30.000000</td>\n      <td>30.000000</td>\n    </tr>\n    <tr>\n      <th>1</th>\n      <td>30.000000</td>\n      <td>30.000000</td>\n    </tr>\n    <tr>\n      <th>2</th>\n      <td>30.000000</td>\n      <td>30.057271</td>\n    </tr>\n    <tr>\n      <th>3</th>\n      <td>30.000000</td>\n      <td>30.358856</td>\n    </tr>\n    <tr>\n      <th>4</th>\n      <td>30.000000</td>\n      <td>30.567511</td>\n    </tr>\n    <tr>\n      <th>5</th>\n      <td>30.221448</td>\n      <td>32.021379</td>\n    </tr>\n    <tr>\n      <th>6</th>\n      <td>30.615534</td>\n      <td>35.011529</td>\n    </tr>\n    <tr>\n      <th>7</th>\n      <td>33.168585</td>\n      <td>40.541046</td>\n    </tr>\n    <tr>\n      <th>8</th>\n      <td>36.137850</td>\n      <td>46.990106</td>\n    </tr>\n    <tr>\n      <th>9</th>\n      <td>42.530327</td>\n      <td>51.867114</td>\n    </tr>\n    <tr>\n      <th rowspan=\"10\" valign=\"top\">LDCs_BGD</th>\n      <th>0</th>\n      <td>100.000000</td>\n      <td>100.000000</td>\n    </tr>\n    <tr>\n      <th>1</th>\n      <td>91.600000</td>\n      <td>90.676349</td>\n    </tr>\n    <tr>\n      <th>2</th>\n      <td>85.763810</td>\n      <td>82.575271</td>\n    </tr>\n    <tr>\n      <th>3</th>\n      <td>77.956876</td>\n      <td>75.222751</td>\n    </tr>\n    <tr>\n      <th>4</th>\n      <td>72.625786</td>\n      <td>75.335413</td>\n    </tr>\n    <tr>\n      <th>5</th>\n      <td>70.143093</td>\n      <td>70.769995</td>\n    </tr>\n    <tr>\n      <th>6</th>\n      <td>68.238742</td>\n      <td>68.078995</td>\n    </tr>\n    <tr>\n      <th>7</th>\n      <td>67.612142</td>\n      <td>67.052378</td>\n    </tr>\n    <tr>\n      <th>8</th>\n      <td>65.425367</td>\n      <td>66.024500</td>\n    </tr>\n    <tr>\n      <th>9</th>\n      <td>63.614837</td>\n      <td>66.079031</td>\n    </tr>\n    <tr>\n      <th rowspan=\"10\" valign=\"top\">Russia</th>\n      <th>0</th>\n      <td>0.000000</td>\n      <td>0.000000</td>\n    </tr>\n    <tr>\n      <th>1</th>\n      <td>38.000000</td>\n      <td>38.000000</td>\n    </tr>\n    <tr>\n      <th>2</th>\n      <td>61.560000</td>\n      <td>58.995939</td>\n    </tr>\n    <tr>\n      <th>3</th>\n      <td>75.972995</td>\n      <td>71.431511</td>\n    </tr>\n    <tr>\n      <th>4</th>\n      <td>62.826637</td>\n      <td>55.823902</td>\n    </tr>\n    <tr>\n      <th>5</th>\n      <td>62.999648</td>\n      <td>67.698689</td>\n    </tr>\n    <tr>\n      <th>6</th>\n      <td>66.306985</td>\n      <td>65.959051</td>\n    </tr>\n    <tr>\n      <th>7</th>\n      <td>60.283695</td>\n      <td>60.042025</td>\n    </tr>\n    <tr>\n      <th>8</th>\n      <td>64.008311</td>\n      <td>69.189308</td>\n    </tr>\n    <tr>\n      <th>9</th>\n      <td>63.738915</td>\n      <td>63.728441</td>\n    </tr>\n    <tr>\n      <th rowspan=\"10\" valign=\"top\">USA</th>\n      <th>0</th>\n      <td>0.000000</td>\n      <td>0.000000</td>\n    </tr>\n    <tr>\n      <th>1</th>\n      <td>14.632748</td>\n      <td>16.120098</td>\n    </tr>\n    <tr>\n      <th>2</th>\n      <td>33.413543</td>\n      <td>32.785849</td>\n    </tr>\n    <tr>\n      <th>3</th>\n      <td>46.141913</td>\n      <td>45.751610</td>\n    </tr>\n    <tr>\n      <th>4</th>\n      <td>57.148570</td>\n      <td>55.153684</td>\n    </tr>\n    <tr>\n      <th>5</th>\n      <td>62.416774</td>\n      <td>60.995452</td>\n    </tr>\n    <tr>\n      <th>6</th>\n      <td>63.123245</td>\n      <td>65.254238</td>\n    </tr>\n    <tr>\n      <th>7</th>\n      <td>63.998403</td>\n      <td>61.001318</td>\n    </tr>\n    <tr>\n      <th>8</th>\n      <td>60.461693</td>\n      <td>64.024489</td>\n    </tr>\n    <tr>\n      <th>9</th>\n      <td>64.257566</td>\n      <td>63.511540</td>\n    </tr>\n    <tr>\n      <th rowspan=\"10\" valign=\"top\">Umbrella_min</th>\n      <th>0</th>\n      <td>30.000000</td>\n      <td>30.000000</td>\n    </tr>\n    <tr>\n      <th>1</th>\n      <td>35.216058</td>\n      <td>32.888082</td>\n    </tr>\n    <tr>\n      <th>2</th>\n      <td>41.706669</td>\n      <td>40.635360</td>\n    </tr>\n    <tr>\n      <th>3</th>\n      <td>43.094168</td>\n      <td>44.840125</td>\n    </tr>\n    <tr>\n      <th>4</th>\n      <td>44.629799</td>\n      <td>46.471724</td>\n    </tr>\n    <tr>\n      <th>5</th>\n      <td>46.351520</td>\n      <td>50.341512</td>\n    </tr>\n    <tr>\n      <th>6</th>\n      <td>47.049651</td>\n      <td>50.387929</td>\n    </tr>\n    <tr>\n      <th>7</th>\n      <td>52.500364</td>\n      <td>55.981445</td>\n    </tr>\n    <tr>\n      <th>8</th>\n      <td>54.752555</td>\n      <td>57.797340</td>\n    </tr>\n    <tr>\n      <th>9</th>\n      <td>56.933403</td>\n      <td>59.407989</td>\n    </tr>\n    <tr>\n      <th rowspan=\"150\" valign=\"top\">adapt_inst</th>\n      <th rowspan=\"10\" valign=\"top\">AILAC2</th>\n      <th>0</th>\n      <td>80.000000</td>\n      <td>80.000000</td>\n    </tr>\n    <tr>\n      <th>1</th>\n      <td>80.000000</td>\n      <td>80.000000</td>\n    </tr>\n    <tr>\n      <th>2</th>\n      <td>79.424032</td>\n      <td>79.516341</td>\n    </tr>\n    <tr>\n      <th>3</th>\n      <td>79.407818</td>\n      <td>79.516341</td>\n    </tr>\n    <tr>\n      <th>4</th>\n      <td>77.913328</td>\n      <td>79.193488</td>\n    </tr>\n    <tr>\n      <th>5</th>\n      <td>76.177522</td>\n      <td>79.064568</td>\n    </tr>\n    <tr>\n      <th>6</th>\n      <td>74.037495</td>\n      <td>78.808508</td>\n    </tr>\n    <tr>\n      <th>7</th>\n      <td>74.037495</td>\n      <td>77.737144</td>\n    </tr>\n    <tr>\n      <th>8</th>\n      <td>70.664316</td>\n      <td>77.344179</td>\n    </tr>\n    <tr>\n      <th>9</th>\n      <td>70.498120</td>\n      <td>76.254238</td>\n    </tr>\n    <tr>\n      <th rowspan=\"10\" valign=\"top\">ALBA</th>\n      <th>0</th>\n      <td>70.000000</td>\n      <td>70.000000</td>\n    </tr>\n    <tr>\n      <th>1</th>\n      <td>51.800000</td>\n      <td>51.800000</td>\n    </tr>\n    <tr>\n      <th>2</th>\n      <td>61.732000</td>\n      <td>61.438719</td>\n    </tr>\n    <tr>\n      <th>3</th>\n      <td>69.072152</td>\n      <td>68.301663</td>\n    </tr>\n    <tr>\n      <th>4</th>\n      <td>71.894388</td>\n      <td>73.436939</td>\n    </tr>\n    <tr>\n      <th>5</th>\n      <td>62.969360</td>\n      <td>65.560794</td>\n    </tr>\n    <tr>\n      <th>6</th>\n      <td>68.523045</td>\n      <td>69.911330</td>\n    </tr>\n    <tr>\n      <th>7</th>\n      <td>72.708208</td>\n      <td>72.945312</td>\n    </tr>\n    <tr>\n      <th>8</th>\n      <td>69.114705</td>\n      <td>71.058529</td>\n    </tr>\n    <tr>\n      <th>9</th>\n      <td>67.588452</td>\n      <td>66.541475</td>\n    </tr>\n    <tr>\n      <th rowspan=\"10\" valign=\"top\">AOSIS</th>\n      <th>0</th>\n      <td>80.000000</td>\n      <td>80.000000</td>\n    </tr>\n    <tr>\n      <th>1</th>\n      <td>72.000000</td>\n      <td>73.032212</td>\n    </tr>\n    <tr>\n      <th>2</th>\n      <td>67.566876</td>\n      <td>67.945420</td>\n    </tr>\n    <tr>\n      <th>3</th>\n      <td>65.958453</td>\n      <td>68.912001</td>\n    </tr>\n    <tr>\n      <th>4</th>\n      <td>67.366498</td>\n      <td>70.666003</td>\n    </tr>\n    <tr>\n      <th>5</th>\n      <td>68.254149</td>\n      <td>71.179057</td>\n    </tr>\n    <tr>\n      <th>6</th>\n      <td>68.826280</td>\n      <td>70.511546</td>\n    </tr>\n    <tr>\n      <th>7</th>\n      <td>69.332584</td>\n      <td>70.266767</td>\n    </tr>\n    <tr>\n      <th>8</th>\n      <td>69.263356</td>\n      <td>70.900674</td>\n    </tr>\n    <tr>\n      <th>9</th>\n      <td>67.436220</td>\n      <td>70.401565</td>\n    </tr>\n    <tr>\n      <th rowspan=\"10\" valign=\"top\">African_grp</th>\n      <th>0</th>\n      <td>90.000000</td>\n      <td>90.000000</td>\n    </tr>\n    <tr>\n      <th>1</th>\n      <td>76.800000</td>\n      <td>76.800000</td>\n    </tr>\n    <tr>\n      <th>2</th>\n      <td>67.124197</td>\n      <td>67.163727</td>\n    </tr>\n    <tr>\n      <th>3</th>\n      <td>69.830160</td>\n      <td>65.151006</td>\n    </tr>\n    <tr>\n      <th>4</th>\n      <td>61.822125</td>\n      <td>68.311380</td>\n    </tr>\n    <tr>\n      <th>5</th>\n      <td>65.045900</td>\n      <td>66.497266</td>\n    </tr>\n    <tr>\n      <th>6</th>\n      <td>66.732207</td>\n      <td>69.262073</td>\n    </tr>\n    <tr>\n      <th>7</th>\n      <td>67.599868</td>\n      <td>70.032068</td>\n    </tr>\n    <tr>\n      <th>8</th>\n      <td>68.536793</td>\n      <td>70.604407</td>\n    </tr>\n    <tr>\n      <th>9</th>\n      <td>68.821265</td>\n      <td>70.825695</td>\n    </tr>\n    <tr>\n      <th rowspan=\"10\" valign=\"top\">Arab_statess</th>\n      <th>0</th>\n      <td>30.000000</td>\n      <td>30.000000</td>\n    </tr>\n    <tr>\n      <th>1</th>\n      <td>32.819075</td>\n      <td>32.998761</td>\n    </tr>\n    <tr>\n      <th>2</th>\n      <td>33.047961</td>\n      <td>35.252127</td>\n    </tr>\n    <tr>\n      <th>3</th>\n      <td>33.429999</td>\n      <td>35.638860</td>\n    </tr>\n    <tr>\n      <th>4</th>\n      <td>37.567355</td>\n      <td>43.144076</td>\n    </tr>\n    <tr>\n      <th>5</th>\n      <td>37.650264</td>\n      <td>44.385249</td>\n    </tr>\n    <tr>\n      <th>6</th>\n      <td>38.825099</td>\n      <td>48.752249</td>\n    </tr>\n    <tr>\n      <th>7</th>\n      <td>43.004707</td>\n      <td>50.434009</td>\n    </tr>\n    <tr>\n      <th>8</th>\n      <td>43.135885</td>\n      <td>53.685243</td>\n    </tr>\n    <tr>\n      <th>9</th>\n      <td>46.294458</td>\n      <td>56.790111</td>\n    </tr>\n    <tr>\n      <th rowspan=\"10\" valign=\"top\">Brazil</th>\n      <th>0</th>\n      <td>70.000000</td>\n      <td>70.000000</td>\n    </tr>\n    <tr>\n      <th>1</th>\n      <td>59.800000</td>\n      <td>59.800000</td>\n    </tr>\n    <tr>\n      <th>2</th>\n      <td>70.068000</td>\n      <td>70.068000</td>\n    </tr>\n    <tr>\n      <th>3</th>\n      <td>65.674001</td>\n      <td>66.505291</td>\n    </tr>\n    <tr>\n      <th>4</th>\n      <td>73.932381</td>\n      <td>74.242783</td>\n    </tr>\n    <tr>\n      <th>5</th>\n      <td>67.607772</td>\n      <td>67.044157</td>\n    </tr>\n    <tr>\n      <th>6</th>\n      <td>73.535210</td>\n      <td>72.234755</td>\n    </tr>\n    <tr>\n      <th>7</th>\n      <td>66.868992</td>\n      <td>71.888254</td>\n    </tr>\n    <tr>\n      <th>8</th>\n      <td>65.342496</td>\n      <td>64.593810</td>\n    </tr>\n    <tr>\n      <th>9</th>\n      <td>67.187256</td>\n      <td>69.639391</td>\n    </tr>\n    <tr>\n      <th rowspan=\"10\" valign=\"top\">China</th>\n      <th>0</th>\n      <td>60.000000</td>\n      <td>60.000000</td>\n    </tr>\n    <tr>\n      <th>1</th>\n      <td>54.800000</td>\n      <td>54.800000</td>\n    </tr>\n    <tr>\n      <th>2</th>\n      <td>63.952000</td>\n      <td>63.658719</td>\n    </tr>\n    <tr>\n      <th>3</th>\n      <td>70.123347</td>\n      <td>69.944463</td>\n    </tr>\n    <tr>\n      <th>4</th>\n      <td>61.411411</td>\n      <td>63.273179</td>\n    </tr>\n    <tr>\n      <th>5</th>\n      <td>67.852355</td>\n      <td>69.141517</td>\n    </tr>\n    <tr>\n      <th>6</th>\n      <td>72.321510</td>\n      <td>72.565484</td>\n    </tr>\n    <tr>\n      <th>7</th>\n      <td>70.043231</td>\n      <td>70.128691</td>\n    </tr>\n    <tr>\n      <th>8</th>\n      <td>66.671416</td>\n      <td>69.097967</td>\n    </tr>\n    <tr>\n      <th>9</th>\n      <td>70.602019</td>\n      <td>71.785272</td>\n    </tr>\n    <tr>\n      <th rowspan=\"10\" valign=\"top\">EIG</th>\n      <th>0</th>\n      <td>60.000000</td>\n      <td>60.000000</td>\n    </tr>\n    <tr>\n      <th>1</th>\n      <td>54.905842</td>\n      <td>53.832622</td>\n    </tr>\n    <tr>\n      <th>2</th>\n      <td>61.306372</td>\n      <td>59.589445</td>\n    </tr>\n    <tr>\n      <th>3</th>\n      <td>67.610908</td>\n      <td>66.279767</td>\n    </tr>\n    <tr>\n      <th>4</th>\n      <td>72.528446</td>\n      <td>70.256386</td>\n    </tr>\n    <tr>\n      <th>5</th>\n      <td>69.953609</td>\n      <td>69.507988</td>\n    </tr>\n    <tr>\n      <th>6</th>\n      <td>70.197172</td>\n      <td>71.610435</td>\n    </tr>\n    <tr>\n      <th>7</th>\n      <td>70.444868</td>\n      <td>71.022183</td>\n    </tr>\n    <tr>\n      <th>8</th>\n      <td>69.577646</td>\n      <td>70.698407</td>\n    </tr>\n    <tr>\n      <th>9</th>\n      <td>69.205682</td>\n      <td>71.474104</td>\n    </tr>\n    <tr>\n      <th rowspan=\"10\" valign=\"top\">EU28</th>\n      <th>0</th>\n      <td>50.000000</td>\n      <td>50.000000</td>\n    </tr>\n    <tr>\n      <th>1</th>\n      <td>60.400000</td>\n      <td>60.400000</td>\n    </tr>\n    <tr>\n      <th>2</th>\n      <td>68.096000</td>\n      <td>68.096000</td>\n    </tr>\n    <tr>\n      <th>3</th>\n      <td>58.983510</td>\n      <td>59.556593</td>\n    </tr>\n    <tr>\n      <th>4</th>\n      <td>67.038269</td>\n      <td>67.280160</td>\n    </tr>\n    <tr>\n      <th>5</th>\n      <td>72.016231</td>\n      <td>72.106682</td>\n    </tr>\n    <tr>\n      <th>6</th>\n      <td>63.081079</td>\n      <td>64.899110</td>\n    </tr>\n    <tr>\n      <th>7</th>\n      <td>66.662180</td>\n      <td>69.236269</td>\n    </tr>\n    <tr>\n      <th>8</th>\n      <td>70.645465</td>\n      <td>71.939557</td>\n    </tr>\n    <tr>\n      <th>9</th>\n      <td>63.492974</td>\n      <td>67.193435</td>\n    </tr>\n    <tr>\n      <th rowspan=\"10\" valign=\"top\">India</th>\n      <th>0</th>\n      <td>90.000000</td>\n      <td>90.000000</td>\n    </tr>\n    <tr>\n      <th>1</th>\n      <td>89.963355</td>\n      <td>90.000000</td>\n    </tr>\n    <tr>\n      <th>2</th>\n      <td>89.963355</td>\n      <td>90.000000</td>\n    </tr>\n    <tr>\n      <th>3</th>\n      <td>89.963355</td>\n      <td>89.262619</td>\n    </tr>\n    <tr>\n      <th>4</th>\n      <td>84.682276</td>\n      <td>85.843709</td>\n    </tr>\n    <tr>\n      <th>5</th>\n      <td>81.427608</td>\n      <td>81.857300</td>\n    </tr>\n    <tr>\n      <th>6</th>\n      <td>76.854542</td>\n      <td>79.590450</td>\n    </tr>\n    <tr>\n      <th>7</th>\n      <td>74.627629</td>\n      <td>76.327659</td>\n    </tr>\n    <tr>\n      <th>8</th>\n      <td>71.344093</td>\n      <td>72.619010</td>\n    </tr>\n    <tr>\n      <th>9</th>\n      <td>71.344093</td>\n      <td>72.069102</td>\n    </tr>\n    <tr>\n      <th rowspan=\"10\" valign=\"top\">Japan</th>\n      <th>0</th>\n      <td>40.000000</td>\n      <td>40.000000</td>\n    </tr>\n    <tr>\n      <th>1</th>\n      <td>53.000000</td>\n      <td>53.000000</td>\n    </tr>\n    <tr>\n      <th>2</th>\n      <td>62.620000</td>\n      <td>62.620000</td>\n    </tr>\n    <tr>\n      <th>3</th>\n      <td>69.729272</td>\n      <td>69.738800</td>\n    </tr>\n    <tr>\n      <th>4</th>\n      <td>68.226434</td>\n      <td>71.666828</td>\n    </tr>\n    <tr>\n      <th>5</th>\n      <td>70.235304</td>\n      <td>72.338988</td>\n    </tr>\n    <tr>\n      <th>6</th>\n      <td>71.503736</td>\n      <td>65.988536</td>\n    </tr>\n    <tr>\n      <th>7</th>\n      <td>66.602128</td>\n      <td>70.042445</td>\n    </tr>\n    <tr>\n      <th>8</th>\n      <td>68.733174</td>\n      <td>71.467719</td>\n    </tr>\n    <tr>\n      <th>9</th>\n      <td>66.899479</td>\n      <td>71.095248</td>\n    </tr>\n    <tr>\n      <th rowspan=\"10\" valign=\"top\">LDCs_BGD</th>\n      <th>0</th>\n      <td>90.000000</td>\n      <td>90.000000</td>\n    </tr>\n    <tr>\n      <th>1</th>\n      <td>90.000000</td>\n      <td>88.871998</td>\n    </tr>\n    <tr>\n      <th>2</th>\n      <td>87.687952</td>\n      <td>87.834656</td>\n    </tr>\n    <tr>\n      <th>3</th>\n      <td>86.971672</td>\n      <td>85.435252</td>\n    </tr>\n    <tr>\n      <th>4</th>\n      <td>86.184274</td>\n      <td>82.663951</td>\n    </tr>\n    <tr>\n      <th>5</th>\n      <td>85.041412</td>\n      <td>82.045890</td>\n    </tr>\n    <tr>\n      <th>6</th>\n      <td>84.619824</td>\n      <td>81.571819</td>\n    </tr>\n    <tr>\n      <th>7</th>\n      <td>81.982507</td>\n      <td>79.557290</td>\n    </tr>\n    <tr>\n      <th>8</th>\n      <td>81.789121</td>\n      <td>79.361899</td>\n    </tr>\n    <tr>\n      <th>9</th>\n      <td>81.534272</td>\n      <td>79.290775</td>\n    </tr>\n    <tr>\n      <th rowspan=\"10\" valign=\"top\">Russia</th>\n      <th>0</th>\n      <td>0.000000</td>\n      <td>0.000000</td>\n    </tr>\n    <tr>\n      <th>1</th>\n      <td>30.600000</td>\n      <td>27.981414</td>\n    </tr>\n    <tr>\n      <th>2</th>\n      <td>50.796000</td>\n      <td>49.067733</td>\n    </tr>\n    <tr>\n      <th>3</th>\n      <td>64.112901</td>\n      <td>62.984704</td>\n    </tr>\n    <tr>\n      <th>4</th>\n      <td>72.902055</td>\n      <td>71.919195</td>\n    </tr>\n    <tr>\n      <th>5</th>\n      <td>66.409556</td>\n      <td>66.677596</td>\n    </tr>\n    <tr>\n      <th>6</th>\n      <td>72.744387</td>\n      <td>71.992825</td>\n    </tr>\n    <tr>\n      <th>7</th>\n      <td>68.100605</td>\n      <td>69.191889</td>\n    </tr>\n    <tr>\n      <th>8</th>\n      <td>70.089613</td>\n      <td>70.717752</td>\n    </tr>\n    <tr>\n      <th>9</th>\n      <td>68.149616</td>\n      <td>69.163075</td>\n    </tr>\n    <tr>\n      <th rowspan=\"10\" valign=\"top\">USA</th>\n      <th>0</th>\n      <td>40.000000</td>\n      <td>40.000000</td>\n    </tr>\n    <tr>\n      <th>1</th>\n      <td>55.000000</td>\n      <td>55.000000</td>\n    </tr>\n    <tr>\n      <th>2</th>\n      <td>65.500000</td>\n      <td>65.500000</td>\n    </tr>\n    <tr>\n      <th>3</th>\n      <td>72.839006</td>\n      <td>72.850000</td>\n    </tr>\n    <tr>\n      <th>4</th>\n      <td>61.582174</td>\n      <td>69.008054</td>\n    </tr>\n    <tr>\n      <th>5</th>\n      <td>68.962804</td>\n      <td>70.765086</td>\n    </tr>\n    <tr>\n      <th>6</th>\n      <td>73.786387</td>\n      <td>67.927535</td>\n    </tr>\n    <tr>\n      <th>7</th>\n      <td>70.574794</td>\n      <td>69.979482</td>\n    </tr>\n    <tr>\n      <th>8</th>\n      <td>67.623764</td>\n      <td>72.875697</td>\n    </tr>\n    <tr>\n      <th>9</th>\n      <td>69.803518</td>\n      <td>71.619081</td>\n    </tr>\n    <tr>\n      <th rowspan=\"10\" valign=\"top\">Umbrella_min</th>\n      <th>0</th>\n      <td>40.000000</td>\n      <td>40.000000</td>\n    </tr>\n    <tr>\n      <th>1</th>\n      <td>55.000000</td>\n      <td>55.000000</td>\n    </tr>\n    <tr>\n      <th>2</th>\n      <td>65.500000</td>\n      <td>65.500000</td>\n    </tr>\n    <tr>\n      <th>3</th>\n      <td>72.839006</td>\n      <td>72.850000</td>\n    </tr>\n    <tr>\n      <th>4</th>\n      <td>61.016304</td>\n      <td>61.686658</td>\n    </tr>\n    <tr>\n      <th>5</th>\n      <td>68.566695</td>\n      <td>68.933773</td>\n    </tr>\n    <tr>\n      <th>6</th>\n      <td>73.509110</td>\n      <td>72.946828</td>\n    </tr>\n    <tr>\n      <th>7</th>\n      <td>63.103907</td>\n      <td>65.688454</td>\n    </tr>\n    <tr>\n      <th>8</th>\n      <td>68.767487</td>\n      <td>69.871977</td>\n    </tr>\n    <tr>\n      <th>9</th>\n      <td>61.078006</td>\n      <td>72.740511</td>\n    </tr>\n    <tr>\n      <th rowspan=\"75\" valign=\"top\">adapt_legal</th>\n      <th rowspan=\"10\" valign=\"top\">AILAC2</th>\n      <th>0</th>\n      <td>80.000000</td>\n      <td>80.000000</td>\n    </tr>\n    <tr>\n      <th>1</th>\n      <td>80.000000</td>\n      <td>80.000000</td>\n    </tr>\n    <tr>\n      <th>2</th>\n      <td>80.000000</td>\n      <td>80.000000</td>\n    </tr>\n    <tr>\n      <th>3</th>\n      <td>80.000000</td>\n      <td>80.000000</td>\n    </tr>\n    <tr>\n      <th>4</th>\n      <td>80.000000</td>\n      <td>80.000000</td>\n    </tr>\n    <tr>\n      <th>5</th>\n      <td>80.000000</td>\n      <td>80.000000</td>\n    </tr>\n    <tr>\n      <th>6</th>\n      <td>80.000000</td>\n      <td>80.000000</td>\n    </tr>\n    <tr>\n      <th>7</th>\n      <td>80.000000</td>\n      <td>80.000000</td>\n    </tr>\n    <tr>\n      <th>8</th>\n      <td>80.000000</td>\n      <td>80.000000</td>\n    </tr>\n    <tr>\n      <th>9</th>\n      <td>79.888876</td>\n      <td>79.986187</td>\n    </tr>\n    <tr>\n      <th rowspan=\"10\" valign=\"top\">ALBA</th>\n      <th>0</th>\n      <td>80.000000</td>\n      <td>80.000000</td>\n    </tr>\n    <tr>\n      <th>1</th>\n      <td>80.000000</td>\n      <td>80.000000</td>\n    </tr>\n    <tr>\n      <th>2</th>\n      <td>80.000000</td>\n      <td>80.000000</td>\n    </tr>\n    <tr>\n      <th>3</th>\n      <td>80.000000</td>\n      <td>80.000000</td>\n    </tr>\n    <tr>\n      <th>4</th>\n      <td>80.000000</td>\n      <td>80.000000</td>\n    </tr>\n    <tr>\n      <th>5</th>\n      <td>79.152790</td>\n      <td>78.479978</td>\n    </tr>\n    <tr>\n      <th>6</th>\n      <td>78.186971</td>\n      <td>77.811169</td>\n    </tr>\n    <tr>\n      <th>7</th>\n      <td>78.504166</td>\n      <td>78.380265</td>\n    </tr>\n    <tr>\n      <th>8</th>\n      <td>78.602490</td>\n      <td>78.614989</td>\n    </tr>\n    <tr>\n      <th>9</th>\n      <td>78.964002</td>\n      <td>78.975092</td>\n    </tr>\n    <tr>\n      <th rowspan=\"10\" valign=\"top\">AOSIS</th>\n      <th>0</th>\n      <td>70.000000</td>\n      <td>70.000000</td>\n    </tr>\n    <tr>\n      <th>1</th>\n      <td>70.000000</td>\n      <td>70.000000</td>\n    </tr>\n    <tr>\n      <th>2</th>\n      <td>70.000000</td>\n      <td>70.000000</td>\n    </tr>\n    <tr>\n      <th>3</th>\n      <td>72.200000</td>\n      <td>72.200000</td>\n    </tr>\n    <tr>\n      <th>4</th>\n      <td>73.916000</td>\n      <td>73.916000</td>\n    </tr>\n    <tr>\n      <th>5</th>\n      <td>75.254480</td>\n      <td>75.254480</td>\n    </tr>\n    <tr>\n      <th>6</th>\n      <td>76.298494</td>\n      <td>76.298494</td>\n    </tr>\n    <tr>\n      <th>7</th>\n      <td>77.112826</td>\n      <td>77.112826</td>\n    </tr>\n    <tr>\n      <th>8</th>\n      <td>77.748004</td>\n      <td>77.748004</td>\n    </tr>\n    <tr>\n      <th>9</th>\n      <td>78.243443</td>\n      <td>78.243443</td>\n    </tr>\n    <tr>\n      <th rowspan=\"10\" valign=\"top\">African_grp</th>\n      <th>0</th>\n      <td>80.000000</td>\n      <td>80.000000</td>\n    </tr>\n    <tr>\n      <th>1</th>\n      <td>80.000000</td>\n      <td>80.000000</td>\n    </tr>\n    <tr>\n      <th>2</th>\n      <td>80.000000</td>\n      <td>80.000000</td>\n    </tr>\n    <tr>\n      <th>3</th>\n      <td>80.000000</td>\n      <td>80.000000</td>\n    </tr>\n    <tr>\n      <th>4</th>\n      <td>80.000000</td>\n      <td>80.000000</td>\n    </tr>\n    <tr>\n      <th>5</th>\n      <td>80.000000</td>\n      <td>80.000000</td>\n    </tr>\n    <tr>\n      <th>6</th>\n      <td>80.000000</td>\n      <td>80.000000</td>\n    </tr>\n    <tr>\n      <th>7</th>\n      <td>79.918203</td>\n      <td>79.908925</td>\n    </tr>\n    <tr>\n      <th>8</th>\n      <td>79.918203</td>\n      <td>79.908925</td>\n    </tr>\n    <tr>\n      <th>9</th>\n      <td>79.918203</td>\n      <td>79.908925</td>\n    </tr>\n    <tr>\n      <th rowspan=\"10\" valign=\"top\">Arab_statess</th>\n      <th>0</th>\n      <td>80.000000</td>\n      <td>80.000000</td>\n    </tr>\n    <tr>\n      <th>1</th>\n      <td>80.000000</td>\n      <td>80.000000</td>\n    </tr>\n    <tr>\n      <th>2</th>\n      <td>80.000000</td>\n      <td>80.000000</td>\n    </tr>\n    <tr>\n      <th>3</th>\n      <td>80.000000</td>\n      <td>80.000000</td>\n    </tr>\n    <tr>\n      <th>4</th>\n      <td>80.000000</td>\n      <td>79.666488</td>\n    </tr>\n    <tr>\n      <th>5</th>\n      <td>80.000000</td>\n      <td>79.666488</td>\n    </tr>\n    <tr>\n      <th>6</th>\n      <td>79.145806</td>\n      <td>79.239391</td>\n    </tr>\n    <tr>\n      <th>7</th>\n      <td>79.018203</td>\n      <td>79.239391</td>\n    </tr>\n    <tr>\n      <th>8</th>\n      <td>78.955547</td>\n      <td>78.856609</td>\n    </tr>\n    <tr>\n      <th>9</th>\n      <td>78.955547</td>\n      <td>79.034562</td>\n    </tr>\n    <tr>\n      <th rowspan=\"10\" valign=\"top\">Brazil</th>\n      <th>0</th>\n      <td>40.000000</td>\n      <td>40.000000</td>\n    </tr>\n    <tr>\n      <th>1</th>\n      <td>55.200000</td>\n      <td>55.200000</td>\n    </tr>\n    <tr>\n      <th>2</th>\n      <td>64.624000</td>\n      <td>64.624000</td>\n    </tr>\n    <tr>\n      <th>3</th>\n      <td>70.466880</td>\n      <td>70.466880</td>\n    </tr>\n    <tr>\n      <th>4</th>\n      <td>74.089466</td>\n      <td>74.089466</td>\n    </tr>\n    <tr>\n      <th>5</th>\n      <td>76.335469</td>\n      <td>76.335469</td>\n    </tr>\n    <tr>\n      <th>6</th>\n      <td>77.727991</td>\n      <td>77.727991</td>\n    </tr>\n    <tr>\n      <th>7</th>\n      <td>78.591354</td>\n      <td>78.591354</td>\n    </tr>\n    <tr>\n      <th>8</th>\n      <td>79.126640</td>\n      <td>79.093996</td>\n    </tr>\n    <tr>\n      <th>9</th>\n      <td>78.602758</td>\n      <td>78.582519</td>\n    </tr>\n    <tr>\n      <th rowspan=\"10\" valign=\"top\">China</th>\n      <th>0</th>\n      <td>50.000000</td>\n      <td>50.000000</td>\n    </tr>\n    <tr>\n      <th>1</th>\n      <td>61.400000</td>\n      <td>61.400000</td>\n    </tr>\n    <tr>\n      <th>2</th>\n      <td>68.468000</td>\n      <td>68.468000</td>\n    </tr>\n    <tr>\n      <th>3</th>\n      <td>72.850160</td>\n      <td>72.850160</td>\n    </tr>\n    <tr>\n      <th>4</th>\n      <td>75.567099</td>\n      <td>75.567099</td>\n    </tr>\n    <tr>\n      <th>5</th>\n      <td>77.251602</td>\n      <td>77.251602</td>\n    </tr>\n    <tr>\n      <th>6</th>\n      <td>78.295993</td>\n      <td>78.295993</td>\n    </tr>\n    <tr>\n      <th>7</th>\n      <td>78.240230</td>\n      <td>78.240230</td>\n    </tr>\n    <tr>\n      <th>8</th>\n      <td>78.360379</td>\n      <td>78.360379</td>\n    </tr>\n    <tr>\n      <th>9</th>\n      <td>78.983435</td>\n      <td>78.983435</td>\n    </tr>\n    <tr>\n      <th rowspan=\"5\" valign=\"top\">EIG</th>\n      <th>0</th>\n      <td>40.000000</td>\n      <td>40.000000</td>\n    </tr>\n    <tr>\n      <th>1</th>\n      <td>55.200000</td>\n      <td>55.200000</td>\n    </tr>\n    <tr>\n      <th>2</th>\n      <td>64.624000</td>\n      <td>64.624000</td>\n    </tr>\n    <tr>\n      <th>3</th>\n      <td>70.466880</td>\n      <td>70.466880</td>\n    </tr>\n    <tr>\n      <th>4</th>\n      <td>74.089466</td>\n      <td>74.089466</td>\n    </tr>\n    <tr>\n      <th>...</th>\n      <th>...</th>\n      <th>...</th>\n      <td>...</td>\n      <td>...</td>\n    </tr>\n    <tr>\n      <th rowspan=\"75\" valign=\"top\">legal</th>\n      <th rowspan=\"5\" valign=\"top\">EIG</th>\n      <th>5</th>\n      <td>78.076770</td>\n      <td>75.546724</td>\n    </tr>\n    <tr>\n      <th>6</th>\n      <td>70.581450</td>\n      <td>68.479225</td>\n    </tr>\n    <tr>\n      <th>7</th>\n      <td>64.646406</td>\n      <td>62.848656</td>\n    </tr>\n    <tr>\n      <th>8</th>\n      <td>60.517238</td>\n      <td>58.379859</td>\n    </tr>\n    <tr>\n      <th>9</th>\n      <td>56.614309</td>\n      <td>54.845101</td>\n    </tr>\n    <tr>\n      <th rowspan=\"10\" valign=\"top\">EU28</th>\n      <th>0</th>\n      <td>100.000000</td>\n      <td>100.000000</td>\n    </tr>\n    <tr>\n      <th>1</th>\n      <td>89.309332</td>\n      <td>89.000000</td>\n    </tr>\n    <tr>\n      <th>2</th>\n      <td>76.710241</td>\n      <td>79.908551</td>\n    </tr>\n    <tr>\n      <th>3</th>\n      <td>74.401458</td>\n      <td>71.508500</td>\n    </tr>\n    <tr>\n      <th>4</th>\n      <td>66.871609</td>\n      <td>64.589243</td>\n    </tr>\n    <tr>\n      <th>5</th>\n      <td>62.444807</td>\n      <td>60.042920</td>\n    </tr>\n    <tr>\n      <th>6</th>\n      <td>57.638987</td>\n      <td>55.679508</td>\n    </tr>\n    <tr>\n      <th>7</th>\n      <td>53.957781</td>\n      <td>54.628660</td>\n    </tr>\n    <tr>\n      <th>8</th>\n      <td>55.395855</td>\n      <td>53.526399</td>\n    </tr>\n    <tr>\n      <th>9</th>\n      <td>52.229337</td>\n      <td>50.705926</td>\n    </tr>\n    <tr>\n      <th rowspan=\"10\" valign=\"top\">India</th>\n      <th>0</th>\n      <td>20.000000</td>\n      <td>20.000000</td>\n    </tr>\n    <tr>\n      <th>1</th>\n      <td>32.275503</td>\n      <td>34.929249</td>\n    </tr>\n    <tr>\n      <th>2</th>\n      <td>47.174892</td>\n      <td>48.144815</td>\n    </tr>\n    <tr>\n      <th>3</th>\n      <td>55.780085</td>\n      <td>57.260899</td>\n    </tr>\n    <tr>\n      <th>4</th>\n      <td>60.514161</td>\n      <td>62.584346</td>\n    </tr>\n    <tr>\n      <th>5</th>\n      <td>57.820526</td>\n      <td>57.628403</td>\n    </tr>\n    <tr>\n      <th>6</th>\n      <td>58.415399</td>\n      <td>56.979947</td>\n    </tr>\n    <tr>\n      <th>7</th>\n      <td>57.618916</td>\n      <td>55.594244</td>\n    </tr>\n    <tr>\n      <th>8</th>\n      <td>55.768511</td>\n      <td>52.274539</td>\n    </tr>\n    <tr>\n      <th>9</th>\n      <td>52.520008</td>\n      <td>49.729475</td>\n    </tr>\n    <tr>\n      <th rowspan=\"10\" valign=\"top\">Japan</th>\n      <th>0</th>\n      <td>70.000000</td>\n      <td>70.000000</td>\n    </tr>\n    <tr>\n      <th>1</th>\n      <td>58.000000</td>\n      <td>58.000000</td>\n    </tr>\n    <tr>\n      <th>2</th>\n      <td>65.488000</td>\n      <td>60.573098</td>\n    </tr>\n    <tr>\n      <th>3</th>\n      <td>61.092854</td>\n      <td>61.072230</td>\n    </tr>\n    <tr>\n      <th>4</th>\n      <td>67.679776</td>\n      <td>59.984745</td>\n    </tr>\n    <tr>\n      <th>5</th>\n      <td>66.974631</td>\n      <td>61.857917</td>\n    </tr>\n    <tr>\n      <th>6</th>\n      <td>62.495816</td>\n      <td>61.167581</td>\n    </tr>\n    <tr>\n      <th>7</th>\n      <td>59.057415</td>\n      <td>56.165692</td>\n    </tr>\n    <tr>\n      <th>8</th>\n      <td>54.701131</td>\n      <td>56.165692</td>\n    </tr>\n    <tr>\n      <th>9</th>\n      <td>53.870224</td>\n      <td>54.001524</td>\n    </tr>\n    <tr>\n      <th rowspan=\"10\" valign=\"top\">LDCs_BGD</th>\n      <th>0</th>\n      <td>100.000000</td>\n      <td>100.000000</td>\n    </tr>\n    <tr>\n      <th>1</th>\n      <td>88.000000</td>\n      <td>88.000000</td>\n    </tr>\n    <tr>\n      <th>2</th>\n      <td>78.400000</td>\n      <td>78.400000</td>\n    </tr>\n    <tr>\n      <th>3</th>\n      <td>70.720000</td>\n      <td>72.619364</td>\n    </tr>\n    <tr>\n      <th>4</th>\n      <td>64.610974</td>\n      <td>66.106958</td>\n    </tr>\n    <tr>\n      <th>5</th>\n      <td>59.725064</td>\n      <td>60.897033</td>\n    </tr>\n    <tr>\n      <th>6</th>\n      <td>55.900086</td>\n      <td>56.759473</td>\n    </tr>\n    <tr>\n      <th>7</th>\n      <td>56.058600</td>\n      <td>58.151233</td>\n    </tr>\n    <tr>\n      <th>8</th>\n      <td>55.250333</td>\n      <td>54.621921</td>\n    </tr>\n    <tr>\n      <th>9</th>\n      <td>52.400785</td>\n      <td>52.988420</td>\n    </tr>\n    <tr>\n      <th rowspan=\"10\" valign=\"top\">Russia</th>\n      <th>0</th>\n      <td>50.000000</td>\n      <td>50.000000</td>\n    </tr>\n    <tr>\n      <th>1</th>\n      <td>50.000000</td>\n      <td>50.000000</td>\n    </tr>\n    <tr>\n      <th>2</th>\n      <td>60.215853</td>\n      <td>58.632661</td>\n    </tr>\n    <tr>\n      <th>3</th>\n      <td>66.027170</td>\n      <td>65.408928</td>\n    </tr>\n    <tr>\n      <th>4</th>\n      <td>62.953045</td>\n      <td>62.964520</td>\n    </tr>\n    <tr>\n      <th>5</th>\n      <td>62.813791</td>\n      <td>61.780432</td>\n    </tr>\n    <tr>\n      <th>6</th>\n      <td>62.790731</td>\n      <td>61.284585</td>\n    </tr>\n    <tr>\n      <th>7</th>\n      <td>61.598233</td>\n      <td>59.871804</td>\n    </tr>\n    <tr>\n      <th>8</th>\n      <td>61.580054</td>\n      <td>60.731691</td>\n    </tr>\n    <tr>\n      <th>9</th>\n      <td>59.750816</td>\n      <td>56.709661</td>\n    </tr>\n    <tr>\n      <th rowspan=\"10\" valign=\"top\">USA</th>\n      <th>0</th>\n      <td>40.000000</td>\n      <td>40.000000</td>\n    </tr>\n    <tr>\n      <th>1</th>\n      <td>40.000000</td>\n      <td>40.000000</td>\n    </tr>\n    <tr>\n      <th>2</th>\n      <td>40.000000</td>\n      <td>40.000000</td>\n    </tr>\n    <tr>\n      <th>3</th>\n      <td>40.174871</td>\n      <td>40.057335</td>\n    </tr>\n    <tr>\n      <th>4</th>\n      <td>40.181425</td>\n      <td>40.057335</td>\n    </tr>\n    <tr>\n      <th>5</th>\n      <td>40.600170</td>\n      <td>40.209230</td>\n    </tr>\n    <tr>\n      <th>6</th>\n      <td>40.906231</td>\n      <td>40.326379</td>\n    </tr>\n    <tr>\n      <th>7</th>\n      <td>40.906231</td>\n      <td>40.504673</td>\n    </tr>\n    <tr>\n      <th>8</th>\n      <td>41.002591</td>\n      <td>40.706066</td>\n    </tr>\n    <tr>\n      <th>9</th>\n      <td>41.016665</td>\n      <td>40.706066</td>\n    </tr>\n    <tr>\n      <th rowspan=\"10\" valign=\"top\">Umbrella_min</th>\n      <th>0</th>\n      <td>70.000000</td>\n      <td>70.000000</td>\n    </tr>\n    <tr>\n      <th>1</th>\n      <td>70.000000</td>\n      <td>68.721243</td>\n    </tr>\n    <tr>\n      <th>2</th>\n      <td>65.868768</td>\n      <td>67.040348</td>\n    </tr>\n    <tr>\n      <th>3</th>\n      <td>65.868768</td>\n      <td>66.202498</td>\n    </tr>\n    <tr>\n      <th>4</th>\n      <td>64.802260</td>\n      <td>61.949637</td>\n    </tr>\n    <tr>\n      <th>5</th>\n      <td>63.112956</td>\n      <td>61.676506</td>\n    </tr>\n    <tr>\n      <th>6</th>\n      <td>59.721384</td>\n      <td>57.383051</td>\n    </tr>\n    <tr>\n      <th>7</th>\n      <td>55.958353</td>\n      <td>53.971717</td>\n    </tr>\n    <tr>\n      <th>8</th>\n      <td>52.947929</td>\n      <td>51.278308</td>\n    </tr>\n    <tr>\n      <th>9</th>\n      <td>53.271504</td>\n      <td>51.278308</td>\n    </tr>\n    <tr>\n      <th rowspan=\"150\" valign=\"top\">mrv</th>\n      <th rowspan=\"10\" valign=\"top\">AILAC2</th>\n      <th>0</th>\n      <td>85.000000</td>\n      <td>85.000000</td>\n    </tr>\n    <tr>\n      <th>1</th>\n      <td>84.578205</td>\n      <td>83.854581</td>\n    </tr>\n    <tr>\n      <th>2</th>\n      <td>78.582564</td>\n      <td>79.149312</td>\n    </tr>\n    <tr>\n      <th>3</th>\n      <td>74.971268</td>\n      <td>76.454086</td>\n    </tr>\n    <tr>\n      <th>4</th>\n      <td>70.705743</td>\n      <td>71.584531</td>\n    </tr>\n    <tr>\n      <th>5</th>\n      <td>60.505442</td>\n      <td>62.887207</td>\n    </tr>\n    <tr>\n      <th>6</th>\n      <td>59.131001</td>\n      <td>56.161381</td>\n    </tr>\n    <tr>\n      <th>7</th>\n      <td>51.960153</td>\n      <td>62.032257</td>\n    </tr>\n    <tr>\n      <th>8</th>\n      <td>61.469634</td>\n      <td>62.577799</td>\n    </tr>\n    <tr>\n      <th>9</th>\n      <td>60.034047</td>\n      <td>61.629382</td>\n    </tr>\n    <tr>\n      <th rowspan=\"10\" valign=\"top\">ALBA</th>\n      <th>0</th>\n      <td>0.000000</td>\n      <td>0.000000</td>\n    </tr>\n    <tr>\n      <th>1</th>\n      <td>34.000000</td>\n      <td>34.000000</td>\n    </tr>\n    <tr>\n      <th>2</th>\n      <td>56.440000</td>\n      <td>56.440000</td>\n    </tr>\n    <tr>\n      <th>3</th>\n      <td>71.250400</td>\n      <td>55.223033</td>\n    </tr>\n    <tr>\n      <th>4</th>\n      <td>52.554640</td>\n      <td>56.762690</td>\n    </tr>\n    <tr>\n      <th>5</th>\n      <td>68.686063</td>\n      <td>56.613194</td>\n    </tr>\n    <tr>\n      <th>6</th>\n      <td>57.622760</td>\n      <td>64.902209</td>\n    </tr>\n    <tr>\n      <th>7</th>\n      <td>59.245303</td>\n      <td>51.334584</td>\n    </tr>\n    <tr>\n      <th>8</th>\n      <td>59.936872</td>\n      <td>67.273462</td>\n    </tr>\n    <tr>\n      <th>9</th>\n      <td>61.280423</td>\n      <td>53.627707</td>\n    </tr>\n    <tr>\n      <th rowspan=\"10\" valign=\"top\">AOSIS</th>\n      <th>0</th>\n      <td>80.000000</td>\n      <td>80.000000</td>\n    </tr>\n    <tr>\n      <th>1</th>\n      <td>64.000000</td>\n      <td>64.000000</td>\n    </tr>\n    <tr>\n      <th>2</th>\n      <td>52.069257</td>\n      <td>52.064248</td>\n    </tr>\n    <tr>\n      <th>3</th>\n      <td>61.655406</td>\n      <td>61.484592</td>\n    </tr>\n    <tr>\n      <th>4</th>\n      <td>52.576899</td>\n      <td>51.947596</td>\n    </tr>\n    <tr>\n      <th>5</th>\n      <td>62.061519</td>\n      <td>61.391271</td>\n    </tr>\n    <tr>\n      <th>6</th>\n      <td>54.030041</td>\n      <td>60.677055</td>\n    </tr>\n    <tr>\n      <th>7</th>\n      <td>61.333958</td>\n      <td>60.053730</td>\n    </tr>\n    <tr>\n      <th>8</th>\n      <td>56.290624</td>\n      <td>59.733204</td>\n    </tr>\n    <tr>\n      <th>9</th>\n      <td>61.446532</td>\n      <td>60.655729</td>\n    </tr>\n    <tr>\n      <th rowspan=\"10\" valign=\"top\">African_grp</th>\n      <th>0</th>\n      <td>50.000000</td>\n      <td>50.000000</td>\n    </tr>\n    <tr>\n      <th>1</th>\n      <td>62.000000</td>\n      <td>62.000000</td>\n    </tr>\n    <tr>\n      <th>2</th>\n      <td>48.163109</td>\n      <td>48.157097</td>\n    </tr>\n    <tr>\n      <th>3</th>\n      <td>60.603962</td>\n      <td>60.399227</td>\n    </tr>\n    <tr>\n      <th>4</th>\n      <td>49.962101</td>\n      <td>49.215319</td>\n    </tr>\n    <tr>\n      <th>5</th>\n      <td>61.971197</td>\n      <td>61.203475</td>\n    </tr>\n    <tr>\n      <th>6</th>\n      <td>58.809561</td>\n      <td>61.818992</td>\n    </tr>\n    <tr>\n      <th>7</th>\n      <td>50.281689</td>\n      <td>62.524826</td>\n    </tr>\n    <tr>\n      <th>8</th>\n      <td>60.363413</td>\n      <td>60.609664</td>\n    </tr>\n    <tr>\n      <th>9</th>\n      <td>61.120327</td>\n      <td>61.906150</td>\n    </tr>\n    <tr>\n      <th rowspan=\"10\" valign=\"top\">Arab_statess</th>\n      <th>0</th>\n      <td>0.000000</td>\n      <td>0.000000</td>\n    </tr>\n    <tr>\n      <th>1</th>\n      <td>27.225479</td>\n      <td>25.900000</td>\n    </tr>\n    <tr>\n      <th>2</th>\n      <td>47.602345</td>\n      <td>44.548000</td>\n    </tr>\n    <tr>\n      <th>3</th>\n      <td>62.273688</td>\n      <td>59.841032</td>\n    </tr>\n    <tr>\n      <th>4</th>\n      <td>49.390660</td>\n      <td>57.985503</td>\n    </tr>\n    <tr>\n      <th>5</th>\n      <td>63.561275</td>\n      <td>64.241808</td>\n    </tr>\n    <tr>\n      <th>6</th>\n      <td>51.897275</td>\n      <td>61.644226</td>\n    </tr>\n    <tr>\n      <th>7</th>\n      <td>65.366038</td>\n      <td>62.516633</td>\n    </tr>\n    <tr>\n      <th>8</th>\n      <td>53.772878</td>\n      <td>61.378284</td>\n    </tr>\n    <tr>\n      <th>9</th>\n      <td>66.578588</td>\n      <td>62.675638</td>\n    </tr>\n    <tr>\n      <th rowspan=\"10\" valign=\"top\">Brazil</th>\n      <th>0</th>\n      <td>50.000000</td>\n      <td>50.000000</td>\n    </tr>\n    <tr>\n      <th>1</th>\n      <td>64.000000</td>\n      <td>64.000000</td>\n    </tr>\n    <tr>\n      <th>2</th>\n      <td>61.368000</td>\n      <td>61.368000</td>\n    </tr>\n    <tr>\n      <th>3</th>\n      <td>57.670630</td>\n      <td>57.591196</td>\n    </tr>\n    <tr>\n      <th>4</th>\n      <td>69.522854</td>\n      <td>69.232133</td>\n    </tr>\n    <tr>\n      <th>5</th>\n      <td>55.573642</td>\n      <td>59.262194</td>\n    </tr>\n    <tr>\n      <th>6</th>\n      <td>65.288588</td>\n      <td>57.154275</td>\n    </tr>\n    <tr>\n      <th>7</th>\n      <td>57.937178</td>\n      <td>61.889116</td>\n    </tr>\n    <tr>\n      <th>8</th>\n      <td>54.338812</td>\n      <td>58.684479</td>\n    </tr>\n    <tr>\n      <th>9</th>\n      <td>66.986061</td>\n      <td>62.938368</td>\n    </tr>\n    <tr>\n      <th rowspan=\"10\" valign=\"top\">China</th>\n      <th>0</th>\n      <td>0.000000</td>\n      <td>0.000000</td>\n    </tr>\n    <tr>\n      <th>1</th>\n      <td>4.346285</td>\n      <td>4.321240</td>\n    </tr>\n    <tr>\n      <th>2</th>\n      <td>11.580723</td>\n      <td>11.744176</td>\n    </tr>\n    <tr>\n      <th>3</th>\n      <td>16.262872</td>\n      <td>13.799609</td>\n    </tr>\n    <tr>\n      <th>4</th>\n      <td>19.704240</td>\n      <td>19.452545</td>\n    </tr>\n    <tr>\n      <th>5</th>\n      <td>21.904131</td>\n      <td>22.500300</td>\n    </tr>\n    <tr>\n      <th>6</th>\n      <td>23.276761</td>\n      <td>24.997431</td>\n    </tr>\n    <tr>\n      <th>7</th>\n      <td>23.961895</td>\n      <td>24.997431</td>\n    </tr>\n    <tr>\n      <th>8</th>\n      <td>25.963297</td>\n      <td>27.138890</td>\n    </tr>\n    <tr>\n      <th>9</th>\n      <td>26.001412</td>\n      <td>28.531141</td>\n    </tr>\n    <tr>\n      <th rowspan=\"10\" valign=\"top\">EIG</th>\n      <th>0</th>\n      <td>85.000000</td>\n      <td>85.000000</td>\n    </tr>\n    <tr>\n      <th>1</th>\n      <td>84.332735</td>\n      <td>84.760750</td>\n    </tr>\n    <tr>\n      <th>2</th>\n      <td>82.784217</td>\n      <td>84.328139</td>\n    </tr>\n    <tr>\n      <th>3</th>\n      <td>76.876418</td>\n      <td>82.705464</td>\n    </tr>\n    <tr>\n      <th>4</th>\n      <td>76.876418</td>\n      <td>79.655229</td>\n    </tr>\n    <tr>\n      <th>5</th>\n      <td>67.791410</td>\n      <td>74.776504</td>\n    </tr>\n    <tr>\n      <th>6</th>\n      <td>67.791410</td>\n      <td>73.660168</td>\n    </tr>\n    <tr>\n      <th>7</th>\n      <td>66.722993</td>\n      <td>73.008416</td>\n    </tr>\n    <tr>\n      <th>8</th>\n      <td>66.722993</td>\n      <td>72.955583</td>\n    </tr>\n    <tr>\n      <th>9</th>\n      <td>66.002472</td>\n      <td>69.930561</td>\n    </tr>\n    <tr>\n      <th rowspan=\"10\" valign=\"top\">EU28</th>\n      <th>0</th>\n      <td>100.000000</td>\n      <td>100.000000</td>\n    </tr>\n    <tr>\n      <th>1</th>\n      <td>100.000000</td>\n      <td>100.000000</td>\n    </tr>\n    <tr>\n      <th>2</th>\n      <td>100.000000</td>\n      <td>99.165970</td>\n    </tr>\n    <tr>\n      <th>3</th>\n      <td>100.000000</td>\n      <td>99.165970</td>\n    </tr>\n    <tr>\n      <th>4</th>\n      <td>100.000000</td>\n      <td>99.165970</td>\n    </tr>\n    <tr>\n      <th>5</th>\n      <td>100.000000</td>\n      <td>99.165970</td>\n    </tr>\n    <tr>\n      <th>6</th>\n      <td>100.000000</td>\n      <td>99.165970</td>\n    </tr>\n    <tr>\n      <th>7</th>\n      <td>99.507559</td>\n      <td>98.213636</td>\n    </tr>\n    <tr>\n      <th>8</th>\n      <td>99.507559</td>\n      <td>98.213636</td>\n    </tr>\n    <tr>\n      <th>9</th>\n      <td>99.507559</td>\n      <td>98.037958</td>\n    </tr>\n    <tr>\n      <th rowspan=\"10\" valign=\"top\">India</th>\n      <th>0</th>\n      <td>0.000000</td>\n      <td>0.000000</td>\n    </tr>\n    <tr>\n      <th>1</th>\n      <td>28.000000</td>\n      <td>28.000000</td>\n    </tr>\n    <tr>\n      <th>2</th>\n      <td>48.160000</td>\n      <td>48.160000</td>\n    </tr>\n    <tr>\n      <th>3</th>\n      <td>62.675200</td>\n      <td>62.441672</td>\n    </tr>\n    <tr>\n      <th>4</th>\n      <td>49.679748</td>\n      <td>48.821894</td>\n    </tr>\n    <tr>\n      <th>5</th>\n      <td>63.769419</td>\n      <td>62.918235</td>\n    </tr>\n    <tr>\n      <th>6</th>\n      <td>52.047138</td>\n      <td>51.601214</td>\n    </tr>\n    <tr>\n      <th>7</th>\n      <td>65.473939</td>\n      <td>64.919345</td>\n    </tr>\n    <tr>\n      <th>8</th>\n      <td>53.850567</td>\n      <td>53.741209</td>\n    </tr>\n    <tr>\n      <th>9</th>\n      <td>66.634525</td>\n      <td>62.185014</td>\n    </tr>\n    <tr>\n      <th rowspan=\"10\" valign=\"top\">Japan</th>\n      <th>0</th>\n      <td>100.000000</td>\n      <td>100.000000</td>\n    </tr>\n    <tr>\n      <th>1</th>\n      <td>94.519309</td>\n      <td>94.346605</td>\n    </tr>\n    <tr>\n      <th>2</th>\n      <td>74.681244</td>\n      <td>80.197249</td>\n    </tr>\n    <tr>\n      <th>3</th>\n      <td>71.967192</td>\n      <td>77.774520</td>\n    </tr>\n    <tr>\n      <th>4</th>\n      <td>63.462376</td>\n      <td>77.774520</td>\n    </tr>\n    <tr>\n      <th>5</th>\n      <td>63.292859</td>\n      <td>70.044861</td>\n    </tr>\n    <tr>\n      <th>6</th>\n      <td>54.187339</td>\n      <td>61.457557</td>\n    </tr>\n    <tr>\n      <th>7</th>\n      <td>60.215472</td>\n      <td>60.256001</td>\n    </tr>\n    <tr>\n      <th>8</th>\n      <td>61.499997</td>\n      <td>61.786825</td>\n    </tr>\n    <tr>\n      <th>9</th>\n      <td>53.681923</td>\n      <td>60.790004</td>\n    </tr>\n    <tr>\n      <th rowspan=\"10\" valign=\"top\">LDCs_BGD</th>\n      <th>0</th>\n      <td>70.000000</td>\n      <td>70.000000</td>\n    </tr>\n    <tr>\n      <th>1</th>\n      <td>54.600000</td>\n      <td>54.600000</td>\n    </tr>\n    <tr>\n      <th>2</th>\n      <td>64.588000</td>\n      <td>64.588000</td>\n    </tr>\n    <tr>\n      <th>3</th>\n      <td>52.926399</td>\n      <td>52.962359</td>\n    </tr>\n    <tr>\n      <th>4</th>\n      <td>63.282591</td>\n      <td>63.127153</td>\n    </tr>\n    <tr>\n      <th>5</th>\n      <td>53.695354</td>\n      <td>57.486204</td>\n    </tr>\n    <tr>\n      <th>6</th>\n      <td>63.882376</td>\n      <td>66.655753</td>\n    </tr>\n    <tr>\n      <th>7</th>\n      <td>54.949141</td>\n      <td>57.490922</td>\n    </tr>\n    <tr>\n      <th>8</th>\n      <td>64.751993</td>\n      <td>66.449919</td>\n    </tr>\n    <tr>\n      <th>9</th>\n      <td>56.218480</td>\n      <td>58.801075</td>\n    </tr>\n    <tr>\n      <th rowspan=\"10\" valign=\"top\">Russia</th>\n      <th>0</th>\n      <td>50.000000</td>\n      <td>50.000000</td>\n    </tr>\n    <tr>\n      <th>1</th>\n      <td>66.000000</td>\n      <td>61.296726</td>\n    </tr>\n    <tr>\n      <th>2</th>\n      <td>55.441648</td>\n      <td>51.180450</td>\n    </tr>\n    <tr>\n      <th>3</th>\n      <td>69.700320</td>\n      <td>66.535817</td>\n    </tr>\n    <tr>\n      <th>4</th>\n      <td>52.600337</td>\n      <td>49.660230</td>\n    </tr>\n    <tr>\n      <th>5</th>\n      <td>67.768229</td>\n      <td>65.502067</td>\n    </tr>\n    <tr>\n      <th>6</th>\n      <td>53.091718</td>\n      <td>55.326138</td>\n    </tr>\n    <tr>\n      <th>7</th>\n      <td>56.994716</td>\n      <td>61.024385</td>\n    </tr>\n    <tr>\n      <th>8</th>\n      <td>70.598826</td>\n      <td>54.322915</td>\n    </tr>\n    <tr>\n      <th>9</th>\n      <td>57.957111</td>\n      <td>67.480936</td>\n    </tr>\n    <tr>\n      <th rowspan=\"10\" valign=\"top\">USA</th>\n      <th>0</th>\n      <td>70.000000</td>\n      <td>70.000000</td>\n    </tr>\n    <tr>\n      <th>1</th>\n      <td>55.444754</td>\n      <td>57.744644</td>\n    </tr>\n    <tr>\n      <th>2</th>\n      <td>64.426845</td>\n      <td>55.739651</td>\n    </tr>\n    <tr>\n      <th>3</th>\n      <td>54.501396</td>\n      <td>55.104224</td>\n    </tr>\n    <tr>\n      <th>4</th>\n      <td>59.629966</td>\n      <td>60.283736</td>\n    </tr>\n    <tr>\n      <th>5</th>\n      <td>52.584337</td>\n      <td>60.362483</td>\n    </tr>\n    <tr>\n      <th>6</th>\n      <td>55.942741</td>\n      <td>63.826405</td>\n    </tr>\n    <tr>\n      <th>7</th>\n      <td>64.186613</td>\n      <td>60.164542</td>\n    </tr>\n    <tr>\n      <th>8</th>\n      <td>58.601177</td>\n      <td>61.316964</td>\n    </tr>\n    <tr>\n      <th>9</th>\n      <td>61.024273</td>\n      <td>61.383430</td>\n    </tr>\n    <tr>\n      <th rowspan=\"10\" valign=\"top\">Umbrella_min</th>\n      <th>0</th>\n      <td>70.000000</td>\n      <td>70.000000</td>\n    </tr>\n    <tr>\n      <th>1</th>\n      <td>54.600000</td>\n      <td>54.600000</td>\n    </tr>\n    <tr>\n      <th>2</th>\n      <td>59.313742</td>\n      <td>57.790798</td>\n    </tr>\n    <tr>\n      <th>3</th>\n      <td>56.934546</td>\n      <td>52.106309</td>\n    </tr>\n    <tr>\n      <th>4</th>\n      <td>54.424414</td>\n      <td>54.760990</td>\n    </tr>\n    <tr>\n      <th>5</th>\n      <td>57.703952</td>\n      <td>61.412460</td>\n    </tr>\n    <tr>\n      <th>6</th>\n      <td>53.862135</td>\n      <td>52.851785</td>\n    </tr>\n    <tr>\n      <th>7</th>\n      <td>56.450272</td>\n      <td>57.429629</td>\n    </tr>\n    <tr>\n      <th>8</th>\n      <td>59.332710</td>\n      <td>57.726097</td>\n    </tr>\n    <tr>\n      <th>9</th>\n      <td>55.996475</td>\n      <td>59.164554</td>\n    </tr>\n    <tr>\n      <th rowspan=\"150\" valign=\"top\">progress</th>\n      <th rowspan=\"10\" valign=\"top\">AILAC2</th>\n      <th>0</th>\n      <td>80.000000</td>\n      <td>80.000000</td>\n    </tr>\n    <tr>\n      <th>1</th>\n      <td>62.400000</td>\n      <td>62.400000</td>\n    </tr>\n    <tr>\n      <th>2</th>\n      <td>51.328967</td>\n      <td>51.148477</td>\n    </tr>\n    <tr>\n      <th>3</th>\n      <td>41.885588</td>\n      <td>43.137844</td>\n    </tr>\n    <tr>\n      <th>4</th>\n      <td>47.006861</td>\n      <td>43.372149</td>\n    </tr>\n    <tr>\n      <th>5</th>\n      <td>43.859184</td>\n      <td>44.044297</td>\n    </tr>\n    <tr>\n      <th>6</th>\n      <td>40.552063</td>\n      <td>40.855364</td>\n    </tr>\n    <tr>\n      <th>7</th>\n      <td>44.680450</td>\n      <td>39.821128</td>\n    </tr>\n    <tr>\n      <th>8</th>\n      <td>42.163859</td>\n      <td>38.759406</td>\n    </tr>\n    <tr>\n      <th>9</th>\n      <td>40.462921</td>\n      <td>35.169292</td>\n    </tr>\n    <tr>\n      <th rowspan=\"10\" valign=\"top\">ALBA</th>\n      <th>0</th>\n      <td>0.000000</td>\n      <td>0.000000</td>\n    </tr>\n    <tr>\n      <th>1</th>\n      <td>20.800000</td>\n      <td>20.800000</td>\n    </tr>\n    <tr>\n      <th>2</th>\n      <td>38.148257</td>\n      <td>37.661673</td>\n    </tr>\n    <tr>\n      <th>3</th>\n      <td>47.722565</td>\n      <td>47.044442</td>\n    </tr>\n    <tr>\n      <th>4</th>\n      <td>42.994671</td>\n      <td>35.738332</td>\n    </tr>\n    <tr>\n      <th>5</th>\n      <td>36.347587</td>\n      <td>42.046121</td>\n    </tr>\n    <tr>\n      <th>6</th>\n      <td>42.776480</td>\n      <td>40.362455</td>\n    </tr>\n    <tr>\n      <th>7</th>\n      <td>43.164546</td>\n      <td>38.508971</td>\n    </tr>\n    <tr>\n      <th>8</th>\n      <td>35.112627</td>\n      <td>36.015917</td>\n    </tr>\n    <tr>\n      <th>9</th>\n      <td>40.949835</td>\n      <td>35.153372</td>\n    </tr>\n    <tr>\n      <th rowspan=\"10\" valign=\"top\">AOSIS</th>\n      <th>0</th>\n      <td>100.000000</td>\n      <td>100.000000</td>\n    </tr>\n    <tr>\n      <th>1</th>\n      <td>84.000000</td>\n      <td>84.000000</td>\n    </tr>\n    <tr>\n      <th>2</th>\n      <td>76.269948</td>\n      <td>72.506385</td>\n    </tr>\n    <tr>\n      <th>3</th>\n      <td>69.568258</td>\n      <td>65.654458</td>\n    </tr>\n    <tr>\n      <th>4</th>\n      <td>62.878533</td>\n      <td>62.233292</td>\n    </tr>\n    <tr>\n      <th>5</th>\n      <td>61.074097</td>\n      <td>59.672159</td>\n    </tr>\n    <tr>\n      <th>6</th>\n      <td>59.317456</td>\n      <td>54.939043</td>\n    </tr>\n    <tr>\n      <th>7</th>\n      <td>57.761954</td>\n      <td>54.289598</td>\n    </tr>\n    <tr>\n      <th>8</th>\n      <td>57.563426</td>\n      <td>52.615505</td>\n    </tr>\n    <tr>\n      <th>9</th>\n      <td>55.348625</td>\n      <td>52.384861</td>\n    </tr>\n    <tr>\n      <th rowspan=\"10\" valign=\"top\">African_grp</th>\n      <th>0</th>\n      <td>100.000000</td>\n      <td>100.000000</td>\n    </tr>\n    <tr>\n      <th>1</th>\n      <td>100.000000</td>\n      <td>100.000000</td>\n    </tr>\n    <tr>\n      <th>2</th>\n      <td>87.600000</td>\n      <td>95.337203</td>\n    </tr>\n    <tr>\n      <th>3</th>\n      <td>82.873575</td>\n      <td>89.657529</td>\n    </tr>\n    <tr>\n      <th>4</th>\n      <td>73.088654</td>\n      <td>74.879680</td>\n    </tr>\n    <tr>\n      <th>5</th>\n      <td>61.308022</td>\n      <td>62.433150</td>\n    </tr>\n    <tr>\n      <th>6</th>\n      <td>50.408274</td>\n      <td>51.794318</td>\n    </tr>\n    <tr>\n      <th>7</th>\n      <td>48.445262</td>\n      <td>43.283252</td>\n    </tr>\n    <tr>\n      <th>8</th>\n      <td>41.195335</td>\n      <td>38.931653</td>\n    </tr>\n    <tr>\n      <th>9</th>\n      <td>37.030298</td>\n      <td>37.685009</td>\n    </tr>\n    <tr>\n      <th rowspan=\"10\" valign=\"top\">Arab_statess</th>\n      <th>0</th>\n      <td>0.000000</td>\n      <td>0.000000</td>\n    </tr>\n    <tr>\n      <th>1</th>\n      <td>14.400000</td>\n      <td>14.340875</td>\n    </tr>\n    <tr>\n      <th>2</th>\n      <td>27.562332</td>\n      <td>27.176983</td>\n    </tr>\n    <tr>\n      <th>3</th>\n      <td>36.329702</td>\n      <td>36.783489</td>\n    </tr>\n    <tr>\n      <th>4</th>\n      <td>41.732297</td>\n      <td>41.935577</td>\n    </tr>\n    <tr>\n      <th>5</th>\n      <td>45.071278</td>\n      <td>40.418877</td>\n    </tr>\n    <tr>\n      <th>6</th>\n      <td>38.184119</td>\n      <td>39.513505</td>\n    </tr>\n    <tr>\n      <th>7</th>\n      <td>40.562209</td>\n      <td>37.971060</td>\n    </tr>\n    <tr>\n      <th>8</th>\n      <td>35.456224</td>\n      <td>37.189177</td>\n    </tr>\n    <tr>\n      <th>9</th>\n      <td>39.435521</td>\n      <td>35.700780</td>\n    </tr>\n    <tr>\n      <th rowspan=\"10\" valign=\"top\">Brazil</th>\n      <th>0</th>\n      <td>30.000000</td>\n      <td>30.000000</td>\n    </tr>\n    <tr>\n      <th>1</th>\n      <td>30.000000</td>\n      <td>30.097749</td>\n    </tr>\n    <tr>\n      <th>2</th>\n      <td>30.000000</td>\n      <td>30.097749</td>\n    </tr>\n    <tr>\n      <th>3</th>\n      <td>30.000000</td>\n      <td>30.097749</td>\n    </tr>\n    <tr>\n      <th>4</th>\n      <td>33.073030</td>\n      <td>31.728312</td>\n    </tr>\n    <tr>\n      <th>5</th>\n      <td>33.073030</td>\n      <td>33.726171</td>\n    </tr>\n    <tr>\n      <th>6</th>\n      <td>35.667439</td>\n      <td>34.353195</td>\n    </tr>\n    <tr>\n      <th>7</th>\n      <td>37.934660</td>\n      <td>38.065134</td>\n    </tr>\n    <tr>\n      <th>8</th>\n      <td>42.214111</td>\n      <td>38.685316</td>\n    </tr>\n    <tr>\n      <th>9</th>\n      <td>41.736425</td>\n      <td>35.688134</td>\n    </tr>\n    <tr>\n      <th rowspan=\"10\" valign=\"top\">China</th>\n      <th>0</th>\n      <td>0.000000</td>\n      <td>0.000000</td>\n    </tr>\n    <tr>\n      <th>1</th>\n      <td>12.077123</td>\n      <td>11.256715</td>\n    </tr>\n    <tr>\n      <th>2</th>\n      <td>23.190678</td>\n      <td>21.605203</td>\n    </tr>\n    <tr>\n      <th>3</th>\n      <td>29.538358</td>\n      <td>27.721811</td>\n    </tr>\n    <tr>\n      <th>4</th>\n      <td>32.699238</td>\n      <td>30.844254</td>\n    </tr>\n    <tr>\n      <th>5</th>\n      <td>35.597057</td>\n      <td>34.022297</td>\n    </tr>\n    <tr>\n      <th>6</th>\n      <td>40.319326</td>\n      <td>38.767545</td>\n    </tr>\n    <tr>\n      <th>7</th>\n      <td>38.910537</td>\n      <td>38.908278</td>\n    </tr>\n    <tr>\n      <th>8</th>\n      <td>37.455047</td>\n      <td>34.129101</td>\n    </tr>\n    <tr>\n      <th>9</th>\n      <td>37.920844</td>\n      <td>36.677935</td>\n    </tr>\n    <tr>\n      <th rowspan=\"10\" valign=\"top\">EIG</th>\n      <th>0</th>\n      <td>80.000000</td>\n      <td>80.000000</td>\n    </tr>\n    <tr>\n      <th>1</th>\n      <td>64.000000</td>\n      <td>64.000000</td>\n    </tr>\n    <tr>\n      <th>2</th>\n      <td>51.440758</td>\n      <td>51.666184</td>\n    </tr>\n    <tr>\n      <th>3</th>\n      <td>41.468135</td>\n      <td>42.044827</td>\n    </tr>\n    <tr>\n      <th>4</th>\n      <td>46.554231</td>\n      <td>44.619657</td>\n    </tr>\n    <tr>\n      <th>5</th>\n      <td>43.557651</td>\n      <td>41.864576</td>\n    </tr>\n    <tr>\n      <th>6</th>\n      <td>38.373555</td>\n      <td>37.370416</td>\n    </tr>\n    <tr>\n      <th>7</th>\n      <td>39.996837</td>\n      <td>40.884141</td>\n    </tr>\n    <tr>\n      <th>8</th>\n      <td>41.338046</td>\n      <td>40.685626</td>\n    </tr>\n    <tr>\n      <th>9</th>\n      <td>42.578148</td>\n      <td>37.565040</td>\n    </tr>\n    <tr>\n      <th rowspan=\"10\" valign=\"top\">EU28</th>\n      <th>0</th>\n      <td>65.000000</td>\n      <td>65.000000</td>\n    </tr>\n    <tr>\n      <th>1</th>\n      <td>64.827152</td>\n      <td>65.000000</td>\n    </tr>\n    <tr>\n      <th>2</th>\n      <td>64.827152</td>\n      <td>59.871007</td>\n    </tr>\n    <tr>\n      <th>3</th>\n      <td>60.266686</td>\n      <td>54.918976</td>\n    </tr>\n    <tr>\n      <th>4</th>\n      <td>58.602093</td>\n      <td>53.041059</td>\n    </tr>\n    <tr>\n      <th>5</th>\n      <td>54.175321</td>\n      <td>48.661075</td>\n    </tr>\n    <tr>\n      <th>6</th>\n      <td>48.585247</td>\n      <td>47.638319</td>\n    </tr>\n    <tr>\n      <th>7</th>\n      <td>44.366739</td>\n      <td>42.964457</td>\n    </tr>\n    <tr>\n      <th>8</th>\n      <td>42.644390</td>\n      <td>41.505371</td>\n    </tr>\n    <tr>\n      <th>9</th>\n      <td>37.577137</td>\n      <td>41.428480</td>\n    </tr>\n    <tr>\n      <th rowspan=\"10\" valign=\"top\">India</th>\n      <th>0</th>\n      <td>0.000000</td>\n      <td>0.000000</td>\n    </tr>\n    <tr>\n      <th>1</th>\n      <td>1.203788</td>\n      <td>2.330919</td>\n    </tr>\n    <tr>\n      <th>2</th>\n      <td>1.577646</td>\n      <td>3.559401</td>\n    </tr>\n    <tr>\n      <th>3</th>\n      <td>1.577646</td>\n      <td>3.559401</td>\n    </tr>\n    <tr>\n      <th>4</th>\n      <td>3.568222</td>\n      <td>5.116436</td>\n    </tr>\n    <tr>\n      <th>5</th>\n      <td>6.809281</td>\n      <td>9.238989</td>\n    </tr>\n    <tr>\n      <th>6</th>\n      <td>8.770920</td>\n      <td>9.238989</td>\n    </tr>\n    <tr>\n      <th>7</th>\n      <td>12.195628</td>\n      <td>10.324925</td>\n    </tr>\n    <tr>\n      <th>8</th>\n      <td>13.664464</td>\n      <td>11.058355</td>\n    </tr>\n    <tr>\n      <th>9</th>\n      <td>15.396064</td>\n      <td>11.404495</td>\n    </tr>\n    <tr>\n      <th rowspan=\"10\" valign=\"top\">Japan</th>\n      <th>0</th>\n      <td>50.000000</td>\n      <td>50.000000</td>\n    </tr>\n    <tr>\n      <th>1</th>\n      <td>38.000000</td>\n      <td>38.000000</td>\n    </tr>\n    <tr>\n      <th>2</th>\n      <td>49.885775</td>\n      <td>48.704855</td>\n    </tr>\n    <tr>\n      <th>3</th>\n      <td>38.291824</td>\n      <td>37.869946</td>\n    </tr>\n    <tr>\n      <th>4</th>\n      <td>45.798169</td>\n      <td>48.258440</td>\n    </tr>\n    <tr>\n      <th>5</th>\n      <td>35.662981</td>\n      <td>37.904359</td>\n    </tr>\n    <tr>\n      <th>6</th>\n      <td>41.943518</td>\n      <td>43.128631</td>\n    </tr>\n    <tr>\n      <th>7</th>\n      <td>33.982094</td>\n      <td>34.995117</td>\n    </tr>\n    <tr>\n      <th>8</th>\n      <td>39.689261</td>\n      <td>39.625793</td>\n    </tr>\n    <tr>\n      <th>9</th>\n      <td>38.162751</td>\n      <td>35.467326</td>\n    </tr>\n    <tr>\n      <th rowspan=\"10\" valign=\"top\">LDCs_BGD</th>\n      <th>0</th>\n      <td>100.000000</td>\n      <td>100.000000</td>\n    </tr>\n    <tr>\n      <th>1</th>\n      <td>87.524064</td>\n      <td>85.652588</td>\n    </tr>\n    <tr>\n      <th>2</th>\n      <td>74.563822</td>\n      <td>73.749248</td>\n    </tr>\n    <tr>\n      <th>3</th>\n      <td>66.344119</td>\n      <td>65.406201</td>\n    </tr>\n    <tr>\n      <th>4</th>\n      <td>60.282191</td>\n      <td>59.376699</td>\n    </tr>\n    <tr>\n      <th>5</th>\n      <td>54.903101</td>\n      <td>53.091246</td>\n    </tr>\n    <tr>\n      <th>6</th>\n      <td>51.395731</td>\n      <td>49.641459</td>\n    </tr>\n    <tr>\n      <th>7</th>\n      <td>49.203251</td>\n      <td>47.287963</td>\n    </tr>\n    <tr>\n      <th>8</th>\n      <td>47.602146</td>\n      <td>44.613087</td>\n    </tr>\n    <tr>\n      <th>9</th>\n      <td>44.177951</td>\n      <td>41.467757</td>\n    </tr>\n    <tr>\n      <th rowspan=\"10\" valign=\"top\">Russia</th>\n      <th>0</th>\n      <td>30.000000</td>\n      <td>30.000000</td>\n    </tr>\n    <tr>\n      <th>1</th>\n      <td>56.600000</td>\n      <td>56.600000</td>\n    </tr>\n    <tr>\n      <th>2</th>\n      <td>35.549440</td>\n      <td>35.977749</td>\n    </tr>\n    <tr>\n      <th>3</th>\n      <td>55.328653</td>\n      <td>58.534342</td>\n    </tr>\n    <tr>\n      <th>4</th>\n      <td>34.903270</td>\n      <td>37.643864</td>\n    </tr>\n    <tr>\n      <th>5</th>\n      <td>49.413716</td>\n      <td>51.793474</td>\n    </tr>\n    <tr>\n      <th>6</th>\n      <td>34.494266</td>\n      <td>35.622770</td>\n    </tr>\n    <tr>\n      <th>7</th>\n      <td>43.927078</td>\n      <td>42.962954</td>\n    </tr>\n    <tr>\n      <th>8</th>\n      <td>37.183710</td>\n      <td>35.294927</td>\n    </tr>\n    <tr>\n      <th>9</th>\n      <td>35.718846</td>\n      <td>33.653516</td>\n    </tr>\n    <tr>\n      <th rowspan=\"10\" valign=\"top\">USA</th>\n      <th>0</th>\n      <td>40.000000</td>\n      <td>40.000000</td>\n    </tr>\n    <tr>\n      <th>1</th>\n      <td>54.400000</td>\n      <td>54.400000</td>\n    </tr>\n    <tr>\n      <th>2</th>\n      <td>41.632909</td>\n      <td>41.903421</td>\n    </tr>\n    <tr>\n      <th>3</th>\n      <td>52.665011</td>\n      <td>53.495474</td>\n    </tr>\n    <tr>\n      <th>4</th>\n      <td>40.404043</td>\n      <td>41.510816</td>\n    </tr>\n    <tr>\n      <th>5</th>\n      <td>48.248350</td>\n      <td>41.746908</td>\n    </tr>\n    <tr>\n      <th>6</th>\n      <td>44.522357</td>\n      <td>42.535309</td>\n    </tr>\n    <tr>\n      <th>7</th>\n      <td>37.329824</td>\n      <td>38.685368</td>\n    </tr>\n    <tr>\n      <th>8</th>\n      <td>42.233536</td>\n      <td>40.149826</td>\n    </tr>\n    <tr>\n      <th>9</th>\n      <td>38.744050</td>\n      <td>36.972449</td>\n    </tr>\n    <tr>\n      <th rowspan=\"10\" valign=\"top\">Umbrella_min</th>\n      <th>0</th>\n      <td>50.000000</td>\n      <td>50.000000</td>\n    </tr>\n    <tr>\n      <th>1</th>\n      <td>38.000000</td>\n      <td>38.000000</td>\n    </tr>\n    <tr>\n      <th>2</th>\n      <td>49.885775</td>\n      <td>44.543110</td>\n    </tr>\n    <tr>\n      <th>3</th>\n      <td>38.291824</td>\n      <td>34.707020</td>\n    </tr>\n    <tr>\n      <th>4</th>\n      <td>44.888538</td>\n      <td>45.168694</td>\n    </tr>\n    <tr>\n      <th>5</th>\n      <td>34.971662</td>\n      <td>35.556152</td>\n    </tr>\n    <tr>\n      <th>6</th>\n      <td>41.418115</td>\n      <td>41.343994</td>\n    </tr>\n    <tr>\n      <th>7</th>\n      <td>36.818769</td>\n      <td>38.848082</td>\n    </tr>\n    <tr>\n      <th>8</th>\n      <td>36.853038</td>\n      <td>37.351196</td>\n    </tr>\n    <tr>\n      <th>9</th>\n      <td>41.823531</td>\n      <td>38.570422</td>\n    </tr>\n  </tbody>\n</table>\n<p>1810 rows × 2 columns</p>\n</div>",
      "text/plain": "                                         postion            \np                                            0.0         0.8\nissue         actor        iteration                        \nadapt_finance AILAC2       0          100.000000  100.000000\n                           1          100.000000   91.721128\n                           2           99.488934   91.721128\n                           3           96.172169   88.488307\n                           4           96.099094   87.073341\n                           5           94.120767   85.983586\n                           6           94.016475   84.179748\n                           7           93.890829   84.113822\n                           8           93.704827   81.835062\n                           9           93.662545   80.427747\n              ALBA         0          100.000000  100.000000\n                           1           76.000000   76.000000\n                           2           61.271859   61.628823\n                           3           70.443957   54.394162\n                           4           60.737408   61.050061\n                           5           68.465401   66.394699\n                           6           59.286853   58.145102\n                           7           67.621962   64.393417\n                           8           61.703422   58.668848\n                           9           59.718496   64.228739\n              AOSIS        0          100.000000  100.000000\n                           1           91.600000   91.609512\n                           2           85.566933   82.984181\n                           3           82.172579   81.854279\n                           4           76.989556   79.677917\n                           5           75.897727   77.008925\n                           6           71.711638   74.271311\n                           7           70.791160   72.783143\n                           8           68.976852   71.118467\n                           9           67.303245   70.215577\n              African_grp  0          100.000000  100.000000\n                           1           87.400000   90.442958\n                           2           77.068000   79.563226\n                           3           68.595760   71.731254\n                           4           61.648523   64.284223\n                           5           67.849626   60.302637\n                           6           63.916676   62.685074\n                           7           61.896701   66.554115\n                           8           61.628941   61.871763\n                           9           59.170566   64.725687\n              Arab_statess 0           50.000000   50.000000\n                           1           59.000000   59.000000\n                           2           66.380000   65.165445\n                           3           59.934398   59.240622\n                           4           66.457197   64.505205\n                           5           60.963993   63.609526\n                           6           66.932212   62.657402\n                           7           60.395210   66.531424\n                           8           66.424422   61.853156\n                           9           62.604334   65.449899\n              Brazil       0           50.000000   50.000000\n                           1           65.000000   65.000000\n                           2           49.889824   50.336029\n                           3           60.652020   60.248558\n                           4           70.784349   68.720483\n                           5           58.549044   57.274591\n                           6           66.182612   63.850848\n                           7           55.512489   61.731236\n                           8           61.418961   60.691049\n                           9           65.913333   65.755301\n              China        0           50.000000   50.000000\n                           1           64.000000   64.000000\n                           2           50.177169   50.593627\n                           3           63.984463   62.109328\n                           4           54.468814   61.328471\n                           5           66.125292   60.427759\n                           6           56.072216   67.583391\n                           7           61.364858   61.227495\n                           8           64.918968   67.126728\n                           9           56.860255   61.488474\n              EIG          0           40.000000   40.000000\n                           1           51.676973   48.743296\n                           2           58.985028   54.931326\n                           3           66.987395   61.724198\n                           4           59.589916   66.402995\n                           5           63.589677   61.528493\n                           6           66.451127   62.986468\n                           7           62.582844   63.880141\n                           8           60.221547   61.336707\n                           9           61.972608   63.715914\n              EU28         0           40.000000   40.000000\n                           1           55.600000   55.600000\n                           2           65.249423   65.389642\n                           3           57.812358   56.203226\n                           4           66.178862   64.597347\n                           5           60.063614   64.162212\n                           6           64.623642   62.351796\n                           7           55.781534   61.337594\n                           8           64.045307   61.900480\n                           9           56.789368   66.133119\n              India        0          100.000000  100.000000\n                           1           88.217248   91.191552\n                           2           87.994675   88.358446\n                           3           84.052963   85.864762\n                           4           84.052963   82.272687\n                           5           77.329069   76.928187\n                           6           73.568920   73.272969\n                           7           67.758475   70.382163\n                           8           66.923240   67.667093\n                           9           62.713900   68.020881\n              Japan        0           30.000000   30.000000\n                           1           30.000000   30.000000\n                           2           30.000000   30.057271\n                           3           30.000000   30.358856\n                           4           30.000000   30.567511\n                           5           30.221448   32.021379\n                           6           30.615534   35.011529\n                           7           33.168585   40.541046\n                           8           36.137850   46.990106\n                           9           42.530327   51.867114\n              LDCs_BGD     0          100.000000  100.000000\n                           1           91.600000   90.676349\n                           2           85.763810   82.575271\n                           3           77.956876   75.222751\n                           4           72.625786   75.335413\n                           5           70.143093   70.769995\n                           6           68.238742   68.078995\n                           7           67.612142   67.052378\n                           8           65.425367   66.024500\n                           9           63.614837   66.079031\n              Russia       0            0.000000    0.000000\n                           1           38.000000   38.000000\n                           2           61.560000   58.995939\n                           3           75.972995   71.431511\n                           4           62.826637   55.823902\n                           5           62.999648   67.698689\n                           6           66.306985   65.959051\n                           7           60.283695   60.042025\n                           8           64.008311   69.189308\n                           9           63.738915   63.728441\n              USA          0            0.000000    0.000000\n                           1           14.632748   16.120098\n                           2           33.413543   32.785849\n                           3           46.141913   45.751610\n                           4           57.148570   55.153684\n                           5           62.416774   60.995452\n                           6           63.123245   65.254238\n                           7           63.998403   61.001318\n                           8           60.461693   64.024489\n                           9           64.257566   63.511540\n              Umbrella_min 0           30.000000   30.000000\n                           1           35.216058   32.888082\n                           2           41.706669   40.635360\n                           3           43.094168   44.840125\n                           4           44.629799   46.471724\n                           5           46.351520   50.341512\n                           6           47.049651   50.387929\n                           7           52.500364   55.981445\n                           8           54.752555   57.797340\n                           9           56.933403   59.407989\nadapt_inst    AILAC2       0           80.000000   80.000000\n                           1           80.000000   80.000000\n                           2           79.424032   79.516341\n                           3           79.407818   79.516341\n                           4           77.913328   79.193488\n                           5           76.177522   79.064568\n                           6           74.037495   78.808508\n                           7           74.037495   77.737144\n                           8           70.664316   77.344179\n                           9           70.498120   76.254238\n              ALBA         0           70.000000   70.000000\n                           1           51.800000   51.800000\n                           2           61.732000   61.438719\n                           3           69.072152   68.301663\n                           4           71.894388   73.436939\n                           5           62.969360   65.560794\n                           6           68.523045   69.911330\n                           7           72.708208   72.945312\n                           8           69.114705   71.058529\n                           9           67.588452   66.541475\n              AOSIS        0           80.000000   80.000000\n                           1           72.000000   73.032212\n                           2           67.566876   67.945420\n                           3           65.958453   68.912001\n                           4           67.366498   70.666003\n                           5           68.254149   71.179057\n                           6           68.826280   70.511546\n                           7           69.332584   70.266767\n                           8           69.263356   70.900674\n                           9           67.436220   70.401565\n              African_grp  0           90.000000   90.000000\n                           1           76.800000   76.800000\n                           2           67.124197   67.163727\n                           3           69.830160   65.151006\n                           4           61.822125   68.311380\n                           5           65.045900   66.497266\n                           6           66.732207   69.262073\n                           7           67.599868   70.032068\n                           8           68.536793   70.604407\n                           9           68.821265   70.825695\n              Arab_statess 0           30.000000   30.000000\n                           1           32.819075   32.998761\n                           2           33.047961   35.252127\n                           3           33.429999   35.638860\n                           4           37.567355   43.144076\n                           5           37.650264   44.385249\n                           6           38.825099   48.752249\n                           7           43.004707   50.434009\n                           8           43.135885   53.685243\n                           9           46.294458   56.790111\n              Brazil       0           70.000000   70.000000\n                           1           59.800000   59.800000\n                           2           70.068000   70.068000\n                           3           65.674001   66.505291\n                           4           73.932381   74.242783\n                           5           67.607772   67.044157\n                           6           73.535210   72.234755\n                           7           66.868992   71.888254\n                           8           65.342496   64.593810\n                           9           67.187256   69.639391\n              China        0           60.000000   60.000000\n                           1           54.800000   54.800000\n                           2           63.952000   63.658719\n                           3           70.123347   69.944463\n                           4           61.411411   63.273179\n                           5           67.852355   69.141517\n                           6           72.321510   72.565484\n                           7           70.043231   70.128691\n                           8           66.671416   69.097967\n                           9           70.602019   71.785272\n              EIG          0           60.000000   60.000000\n                           1           54.905842   53.832622\n                           2           61.306372   59.589445\n                           3           67.610908   66.279767\n                           4           72.528446   70.256386\n                           5           69.953609   69.507988\n                           6           70.197172   71.610435\n                           7           70.444868   71.022183\n                           8           69.577646   70.698407\n                           9           69.205682   71.474104\n              EU28         0           50.000000   50.000000\n                           1           60.400000   60.400000\n                           2           68.096000   68.096000\n                           3           58.983510   59.556593\n                           4           67.038269   67.280160\n                           5           72.016231   72.106682\n                           6           63.081079   64.899110\n                           7           66.662180   69.236269\n                           8           70.645465   71.939557\n                           9           63.492974   67.193435\n              India        0           90.000000   90.000000\n                           1           89.963355   90.000000\n                           2           89.963355   90.000000\n                           3           89.963355   89.262619\n                           4           84.682276   85.843709\n                           5           81.427608   81.857300\n                           6           76.854542   79.590450\n                           7           74.627629   76.327659\n                           8           71.344093   72.619010\n                           9           71.344093   72.069102\n              Japan        0           40.000000   40.000000\n                           1           53.000000   53.000000\n                           2           62.620000   62.620000\n                           3           69.729272   69.738800\n                           4           68.226434   71.666828\n                           5           70.235304   72.338988\n                           6           71.503736   65.988536\n                           7           66.602128   70.042445\n                           8           68.733174   71.467719\n                           9           66.899479   71.095248\n              LDCs_BGD     0           90.000000   90.000000\n                           1           90.000000   88.871998\n                           2           87.687952   87.834656\n                           3           86.971672   85.435252\n                           4           86.184274   82.663951\n                           5           85.041412   82.045890\n                           6           84.619824   81.571819\n                           7           81.982507   79.557290\n                           8           81.789121   79.361899\n                           9           81.534272   79.290775\n              Russia       0            0.000000    0.000000\n                           1           30.600000   27.981414\n                           2           50.796000   49.067733\n                           3           64.112901   62.984704\n                           4           72.902055   71.919195\n                           5           66.409556   66.677596\n                           6           72.744387   71.992825\n                           7           68.100605   69.191889\n                           8           70.089613   70.717752\n                           9           68.149616   69.163075\n              USA          0           40.000000   40.000000\n                           1           55.000000   55.000000\n                           2           65.500000   65.500000\n                           3           72.839006   72.850000\n                           4           61.582174   69.008054\n                           5           68.962804   70.765086\n                           6           73.786387   67.927535\n                           7           70.574794   69.979482\n                           8           67.623764   72.875697\n                           9           69.803518   71.619081\n              Umbrella_min 0           40.000000   40.000000\n                           1           55.000000   55.000000\n                           2           65.500000   65.500000\n                           3           72.839006   72.850000\n                           4           61.016304   61.686658\n                           5           68.566695   68.933773\n                           6           73.509110   72.946828\n                           7           63.103907   65.688454\n                           8           68.767487   69.871977\n                           9           61.078006   72.740511\nadapt_legal   AILAC2       0           80.000000   80.000000\n                           1           80.000000   80.000000\n                           2           80.000000   80.000000\n                           3           80.000000   80.000000\n                           4           80.000000   80.000000\n                           5           80.000000   80.000000\n                           6           80.000000   80.000000\n                           7           80.000000   80.000000\n                           8           80.000000   80.000000\n                           9           79.888876   79.986187\n              ALBA         0           80.000000   80.000000\n                           1           80.000000   80.000000\n                           2           80.000000   80.000000\n                           3           80.000000   80.000000\n                           4           80.000000   80.000000\n                           5           79.152790   78.479978\n                           6           78.186971   77.811169\n                           7           78.504166   78.380265\n                           8           78.602490   78.614989\n                           9           78.964002   78.975092\n              AOSIS        0           70.000000   70.000000\n                           1           70.000000   70.000000\n                           2           70.000000   70.000000\n                           3           72.200000   72.200000\n                           4           73.916000   73.916000\n                           5           75.254480   75.254480\n                           6           76.298494   76.298494\n                           7           77.112826   77.112826\n                           8           77.748004   77.748004\n                           9           78.243443   78.243443\n              African_grp  0           80.000000   80.000000\n                           1           80.000000   80.000000\n                           2           80.000000   80.000000\n                           3           80.000000   80.000000\n                           4           80.000000   80.000000\n                           5           80.000000   80.000000\n                           6           80.000000   80.000000\n                           7           79.918203   79.908925\n                           8           79.918203   79.908925\n                           9           79.918203   79.908925\n              Arab_statess 0           80.000000   80.000000\n                           1           80.000000   80.000000\n                           2           80.000000   80.000000\n                           3           80.000000   80.000000\n                           4           80.000000   79.666488\n                           5           80.000000   79.666488\n                           6           79.145806   79.239391\n                           7           79.018203   79.239391\n                           8           78.955547   78.856609\n                           9           78.955547   79.034562\n              Brazil       0           40.000000   40.000000\n                           1           55.200000   55.200000\n                           2           64.624000   64.624000\n                           3           70.466880   70.466880\n                           4           74.089466   74.089466\n                           5           76.335469   76.335469\n                           6           77.727991   77.727991\n                           7           78.591354   78.591354\n                           8           79.126640   79.093996\n                           9           78.602758   78.582519\n              China        0           50.000000   50.000000\n                           1           61.400000   61.400000\n                           2           68.468000   68.468000\n                           3           72.850160   72.850160\n                           4           75.567099   75.567099\n                           5           77.251602   77.251602\n                           6           78.295993   78.295993\n                           7           78.240230   78.240230\n                           8           78.360379   78.360379\n                           9           78.983435   78.983435\n              EIG          0           40.000000   40.000000\n                           1           55.200000   55.200000\n                           2           64.624000   64.624000\n                           3           70.466880   70.466880\n                           4           74.089466   74.089466\n...                                          ...         ...\nlegal         EIG          5           78.076770   75.546724\n                           6           70.581450   68.479225\n                           7           64.646406   62.848656\n                           8           60.517238   58.379859\n                           9           56.614309   54.845101\n              EU28         0          100.000000  100.000000\n                           1           89.309332   89.000000\n                           2           76.710241   79.908551\n                           3           74.401458   71.508500\n                           4           66.871609   64.589243\n                           5           62.444807   60.042920\n                           6           57.638987   55.679508\n                           7           53.957781   54.628660\n                           8           55.395855   53.526399\n                           9           52.229337   50.705926\n              India        0           20.000000   20.000000\n                           1           32.275503   34.929249\n                           2           47.174892   48.144815\n                           3           55.780085   57.260899\n                           4           60.514161   62.584346\n                           5           57.820526   57.628403\n                           6           58.415399   56.979947\n                           7           57.618916   55.594244\n                           8           55.768511   52.274539\n                           9           52.520008   49.729475\n              Japan        0           70.000000   70.000000\n                           1           58.000000   58.000000\n                           2           65.488000   60.573098\n                           3           61.092854   61.072230\n                           4           67.679776   59.984745\n                           5           66.974631   61.857917\n                           6           62.495816   61.167581\n                           7           59.057415   56.165692\n                           8           54.701131   56.165692\n                           9           53.870224   54.001524\n              LDCs_BGD     0          100.000000  100.000000\n                           1           88.000000   88.000000\n                           2           78.400000   78.400000\n                           3           70.720000   72.619364\n                           4           64.610974   66.106958\n                           5           59.725064   60.897033\n                           6           55.900086   56.759473\n                           7           56.058600   58.151233\n                           8           55.250333   54.621921\n                           9           52.400785   52.988420\n              Russia       0           50.000000   50.000000\n                           1           50.000000   50.000000\n                           2           60.215853   58.632661\n                           3           66.027170   65.408928\n                           4           62.953045   62.964520\n                           5           62.813791   61.780432\n                           6           62.790731   61.284585\n                           7           61.598233   59.871804\n                           8           61.580054   60.731691\n                           9           59.750816   56.709661\n              USA          0           40.000000   40.000000\n                           1           40.000000   40.000000\n                           2           40.000000   40.000000\n                           3           40.174871   40.057335\n                           4           40.181425   40.057335\n                           5           40.600170   40.209230\n                           6           40.906231   40.326379\n                           7           40.906231   40.504673\n                           8           41.002591   40.706066\n                           9           41.016665   40.706066\n              Umbrella_min 0           70.000000   70.000000\n                           1           70.000000   68.721243\n                           2           65.868768   67.040348\n                           3           65.868768   66.202498\n                           4           64.802260   61.949637\n                           5           63.112956   61.676506\n                           6           59.721384   57.383051\n                           7           55.958353   53.971717\n                           8           52.947929   51.278308\n                           9           53.271504   51.278308\nmrv           AILAC2       0           85.000000   85.000000\n                           1           84.578205   83.854581\n                           2           78.582564   79.149312\n                           3           74.971268   76.454086\n                           4           70.705743   71.584531\n                           5           60.505442   62.887207\n                           6           59.131001   56.161381\n                           7           51.960153   62.032257\n                           8           61.469634   62.577799\n                           9           60.034047   61.629382\n              ALBA         0            0.000000    0.000000\n                           1           34.000000   34.000000\n                           2           56.440000   56.440000\n                           3           71.250400   55.223033\n                           4           52.554640   56.762690\n                           5           68.686063   56.613194\n                           6           57.622760   64.902209\n                           7           59.245303   51.334584\n                           8           59.936872   67.273462\n                           9           61.280423   53.627707\n              AOSIS        0           80.000000   80.000000\n                           1           64.000000   64.000000\n                           2           52.069257   52.064248\n                           3           61.655406   61.484592\n                           4           52.576899   51.947596\n                           5           62.061519   61.391271\n                           6           54.030041   60.677055\n                           7           61.333958   60.053730\n                           8           56.290624   59.733204\n                           9           61.446532   60.655729\n              African_grp  0           50.000000   50.000000\n                           1           62.000000   62.000000\n                           2           48.163109   48.157097\n                           3           60.603962   60.399227\n                           4           49.962101   49.215319\n                           5           61.971197   61.203475\n                           6           58.809561   61.818992\n                           7           50.281689   62.524826\n                           8           60.363413   60.609664\n                           9           61.120327   61.906150\n              Arab_statess 0            0.000000    0.000000\n                           1           27.225479   25.900000\n                           2           47.602345   44.548000\n                           3           62.273688   59.841032\n                           4           49.390660   57.985503\n                           5           63.561275   64.241808\n                           6           51.897275   61.644226\n                           7           65.366038   62.516633\n                           8           53.772878   61.378284\n                           9           66.578588   62.675638\n              Brazil       0           50.000000   50.000000\n                           1           64.000000   64.000000\n                           2           61.368000   61.368000\n                           3           57.670630   57.591196\n                           4           69.522854   69.232133\n                           5           55.573642   59.262194\n                           6           65.288588   57.154275\n                           7           57.937178   61.889116\n                           8           54.338812   58.684479\n                           9           66.986061   62.938368\n              China        0            0.000000    0.000000\n                           1            4.346285    4.321240\n                           2           11.580723   11.744176\n                           3           16.262872   13.799609\n                           4           19.704240   19.452545\n                           5           21.904131   22.500300\n                           6           23.276761   24.997431\n                           7           23.961895   24.997431\n                           8           25.963297   27.138890\n                           9           26.001412   28.531141\n              EIG          0           85.000000   85.000000\n                           1           84.332735   84.760750\n                           2           82.784217   84.328139\n                           3           76.876418   82.705464\n                           4           76.876418   79.655229\n                           5           67.791410   74.776504\n                           6           67.791410   73.660168\n                           7           66.722993   73.008416\n                           8           66.722993   72.955583\n                           9           66.002472   69.930561\n              EU28         0          100.000000  100.000000\n                           1          100.000000  100.000000\n                           2          100.000000   99.165970\n                           3          100.000000   99.165970\n                           4          100.000000   99.165970\n                           5          100.000000   99.165970\n                           6          100.000000   99.165970\n                           7           99.507559   98.213636\n                           8           99.507559   98.213636\n                           9           99.507559   98.037958\n              India        0            0.000000    0.000000\n                           1           28.000000   28.000000\n                           2           48.160000   48.160000\n                           3           62.675200   62.441672\n                           4           49.679748   48.821894\n                           5           63.769419   62.918235\n                           6           52.047138   51.601214\n                           7           65.473939   64.919345\n                           8           53.850567   53.741209\n                           9           66.634525   62.185014\n              Japan        0          100.000000  100.000000\n                           1           94.519309   94.346605\n                           2           74.681244   80.197249\n                           3           71.967192   77.774520\n                           4           63.462376   77.774520\n                           5           63.292859   70.044861\n                           6           54.187339   61.457557\n                           7           60.215472   60.256001\n                           8           61.499997   61.786825\n                           9           53.681923   60.790004\n              LDCs_BGD     0           70.000000   70.000000\n                           1           54.600000   54.600000\n                           2           64.588000   64.588000\n                           3           52.926399   52.962359\n                           4           63.282591   63.127153\n                           5           53.695354   57.486204\n                           6           63.882376   66.655753\n                           7           54.949141   57.490922\n                           8           64.751993   66.449919\n                           9           56.218480   58.801075\n              Russia       0           50.000000   50.000000\n                           1           66.000000   61.296726\n                           2           55.441648   51.180450\n                           3           69.700320   66.535817\n                           4           52.600337   49.660230\n                           5           67.768229   65.502067\n                           6           53.091718   55.326138\n                           7           56.994716   61.024385\n                           8           70.598826   54.322915\n                           9           57.957111   67.480936\n              USA          0           70.000000   70.000000\n                           1           55.444754   57.744644\n                           2           64.426845   55.739651\n                           3           54.501396   55.104224\n                           4           59.629966   60.283736\n                           5           52.584337   60.362483\n                           6           55.942741   63.826405\n                           7           64.186613   60.164542\n                           8           58.601177   61.316964\n                           9           61.024273   61.383430\n              Umbrella_min 0           70.000000   70.000000\n                           1           54.600000   54.600000\n                           2           59.313742   57.790798\n                           3           56.934546   52.106309\n                           4           54.424414   54.760990\n                           5           57.703952   61.412460\n                           6           53.862135   52.851785\n                           7           56.450272   57.429629\n                           8           59.332710   57.726097\n                           9           55.996475   59.164554\nprogress      AILAC2       0           80.000000   80.000000\n                           1           62.400000   62.400000\n                           2           51.328967   51.148477\n                           3           41.885588   43.137844\n                           4           47.006861   43.372149\n                           5           43.859184   44.044297\n                           6           40.552063   40.855364\n                           7           44.680450   39.821128\n                           8           42.163859   38.759406\n                           9           40.462921   35.169292\n              ALBA         0            0.000000    0.000000\n                           1           20.800000   20.800000\n                           2           38.148257   37.661673\n                           3           47.722565   47.044442\n                           4           42.994671   35.738332\n                           5           36.347587   42.046121\n                           6           42.776480   40.362455\n                           7           43.164546   38.508971\n                           8           35.112627   36.015917\n                           9           40.949835   35.153372\n              AOSIS        0          100.000000  100.000000\n                           1           84.000000   84.000000\n                           2           76.269948   72.506385\n                           3           69.568258   65.654458\n                           4           62.878533   62.233292\n                           5           61.074097   59.672159\n                           6           59.317456   54.939043\n                           7           57.761954   54.289598\n                           8           57.563426   52.615505\n                           9           55.348625   52.384861\n              African_grp  0          100.000000  100.000000\n                           1          100.000000  100.000000\n                           2           87.600000   95.337203\n                           3           82.873575   89.657529\n                           4           73.088654   74.879680\n                           5           61.308022   62.433150\n                           6           50.408274   51.794318\n                           7           48.445262   43.283252\n                           8           41.195335   38.931653\n                           9           37.030298   37.685009\n              Arab_statess 0            0.000000    0.000000\n                           1           14.400000   14.340875\n                           2           27.562332   27.176983\n                           3           36.329702   36.783489\n                           4           41.732297   41.935577\n                           5           45.071278   40.418877\n                           6           38.184119   39.513505\n                           7           40.562209   37.971060\n                           8           35.456224   37.189177\n                           9           39.435521   35.700780\n              Brazil       0           30.000000   30.000000\n                           1           30.000000   30.097749\n                           2           30.000000   30.097749\n                           3           30.000000   30.097749\n                           4           33.073030   31.728312\n                           5           33.073030   33.726171\n                           6           35.667439   34.353195\n                           7           37.934660   38.065134\n                           8           42.214111   38.685316\n                           9           41.736425   35.688134\n              China        0            0.000000    0.000000\n                           1           12.077123   11.256715\n                           2           23.190678   21.605203\n                           3           29.538358   27.721811\n                           4           32.699238   30.844254\n                           5           35.597057   34.022297\n                           6           40.319326   38.767545\n                           7           38.910537   38.908278\n                           8           37.455047   34.129101\n                           9           37.920844   36.677935\n              EIG          0           80.000000   80.000000\n                           1           64.000000   64.000000\n                           2           51.440758   51.666184\n                           3           41.468135   42.044827\n                           4           46.554231   44.619657\n                           5           43.557651   41.864576\n                           6           38.373555   37.370416\n                           7           39.996837   40.884141\n                           8           41.338046   40.685626\n                           9           42.578148   37.565040\n              EU28         0           65.000000   65.000000\n                           1           64.827152   65.000000\n                           2           64.827152   59.871007\n                           3           60.266686   54.918976\n                           4           58.602093   53.041059\n                           5           54.175321   48.661075\n                           6           48.585247   47.638319\n                           7           44.366739   42.964457\n                           8           42.644390   41.505371\n                           9           37.577137   41.428480\n              India        0            0.000000    0.000000\n                           1            1.203788    2.330919\n                           2            1.577646    3.559401\n                           3            1.577646    3.559401\n                           4            3.568222    5.116436\n                           5            6.809281    9.238989\n                           6            8.770920    9.238989\n                           7           12.195628   10.324925\n                           8           13.664464   11.058355\n                           9           15.396064   11.404495\n              Japan        0           50.000000   50.000000\n                           1           38.000000   38.000000\n                           2           49.885775   48.704855\n                           3           38.291824   37.869946\n                           4           45.798169   48.258440\n                           5           35.662981   37.904359\n                           6           41.943518   43.128631\n                           7           33.982094   34.995117\n                           8           39.689261   39.625793\n                           9           38.162751   35.467326\n              LDCs_BGD     0          100.000000  100.000000\n                           1           87.524064   85.652588\n                           2           74.563822   73.749248\n                           3           66.344119   65.406201\n                           4           60.282191   59.376699\n                           5           54.903101   53.091246\n                           6           51.395731   49.641459\n                           7           49.203251   47.287963\n                           8           47.602146   44.613087\n                           9           44.177951   41.467757\n              Russia       0           30.000000   30.000000\n                           1           56.600000   56.600000\n                           2           35.549440   35.977749\n                           3           55.328653   58.534342\n                           4           34.903270   37.643864\n                           5           49.413716   51.793474\n                           6           34.494266   35.622770\n                           7           43.927078   42.962954\n                           8           37.183710   35.294927\n                           9           35.718846   33.653516\n              USA          0           40.000000   40.000000\n                           1           54.400000   54.400000\n                           2           41.632909   41.903421\n                           3           52.665011   53.495474\n                           4           40.404043   41.510816\n                           5           48.248350   41.746908\n                           6           44.522357   42.535309\n                           7           37.329824   38.685368\n                           8           42.233536   40.149826\n                           9           38.744050   36.972449\n              Umbrella_min 0           50.000000   50.000000\n                           1           38.000000   38.000000\n                           2           49.885775   44.543110\n                           3           38.291824   34.707020\n                           4           44.888538   45.168694\n                           5           34.971662   35.556152\n                           6           41.418115   41.343994\n                           7           36.818769   38.848082\n                           8           36.853038   37.351196\n                           9           41.823531   38.570422\n\n[1810 rows x 2 columns]"
     },
     "metadata": {},
     "output_type": "execute_result",
     "execution_count": 23
    }
   ],
   "source": [
    "table"
   ]
  },
  {
   "cell_type": "code",
   "execution_count": 24,
   "metadata": {
    "scrolled": false,
    "pycharm": {
     "is_executing": false
    }
   },
   "outputs": [
    {
     "data": {
      "text/html": "<hr><h1><center>AILAC2</center></h1>",
      "text/plain": "<IPython.core.display.HTML object>"
     },
     "metadata": {},
     "output_type": "display_data"
    },
    {
     "evalue": "index 3 is out of bounds for axis 0 with size 3",
     "traceback": [
      "\u001b[0;31m---------------------------------------------------------------------------\u001b[0m",
      "\u001b[0;31mIndexError\u001b[0m                                Traceback (most recent call last)",
      "\u001b[0;32m<ipython-input-24-55a566c96b95>\u001b[0m in \u001b[0;36m<module>\u001b[0;34m()\u001b[0m\n\u001b[1;32m     18\u001b[0m \u001b[0;34m\u001b[0m\u001b[0m\n\u001b[1;32m     19\u001b[0m         \u001b[0msubset\u001b[0m \u001b[0;34m=\u001b[0m \u001b[0mtable\u001b[0m\u001b[0;34m.\u001b[0m\u001b[0mquery\u001b[0m\u001b[0;34m(\u001b[0m\u001b[0;34m'actor == [\"{}\"] and issue == [\"{}\"]'\u001b[0m\u001b[0;34m.\u001b[0m\u001b[0mformat\u001b[0m\u001b[0;34m(\u001b[0m\u001b[0mactor\u001b[0m\u001b[0;34m,\u001b[0m \u001b[0missue\u001b[0m\u001b[0;34m[\u001b[0m\u001b[0;36m0\u001b[0m\u001b[0;34m]\u001b[0m\u001b[0;34m)\u001b[0m\u001b[0;34m)\u001b[0m\u001b[0;34m\u001b[0m\u001b[0m\n\u001b[0;32m---> 20\u001b[0;31m         \u001b[0msubchart\u001b[0m \u001b[0;34m=\u001b[0m \u001b[0maxes\u001b[0m\u001b[0;34m[\u001b[0m\u001b[0mrow\u001b[0m\u001b[0;34m,\u001b[0m \u001b[0mcol\u001b[0m\u001b[0;34m]\u001b[0m\u001b[0;34m\u001b[0m\u001b[0m\n\u001b[0m\u001b[1;32m     21\u001b[0m         \u001b[0msubchart\u001b[0m\u001b[0;34m.\u001b[0m\u001b[0mplot\u001b[0m\u001b[0;34m(\u001b[0m\u001b[0msubset\u001b[0m\u001b[0;34m.\u001b[0m\u001b[0mvalues\u001b[0m\u001b[0;34m)\u001b[0m\u001b[0;34m\u001b[0m\u001b[0m\n\u001b[1;32m     22\u001b[0m         \u001b[0msubchart\u001b[0m\u001b[0;34m.\u001b[0m\u001b[0mset_ylim\u001b[0m\u001b[0;34m(\u001b[0m\u001b[0;36m0\u001b[0m\u001b[0;34m,\u001b[0m \u001b[0;36m110\u001b[0m\u001b[0;34m)\u001b[0m\u001b[0;34m\u001b[0m\u001b[0m\n",
      "\u001b[0;31mIndexError\u001b[0m: index 3 is out of bounds for axis 0 with size 3"
     ],
     "ename": "IndexError",
     "output_type": "error"
    },
    {
     "data": {
      "image/png": "[encoded data removed]",
      "text/plain": "<Figure size 1080x1080 with 5 Axes>"
     },
     "metadata": {},
     "output_type": "display_data"
    }
   ],
   "source": [
    "cursor = conn.execute('SELECT `name`, `id`, lower, upper FROM issue WHERE data_set_id = ? ORDER BY `name`', [data_set_id])\n",
    "issues = cursor.fetchall()\n",
    "\n",
    "cursor = conn.execute('SELECT `name`, `id` FROM actor WHERE data_set_id = ? ORDER BY `name`', [data_set_id])\n",
    "actors = cursor.fetchall()\n",
    "\n",
    "for actor, actor_id in actors:\n",
    "    \n",
    "    fig, axes = plt.subplots(3, 2, figsize=(15,15))  # a figure with a 2x2 grid of Axes    \n",
    "    i = 0\n",
    "    fig.delaxes(axes[2,1])\n",
    "    display(HTML('<hr><h1><center>{}</center></h1>'.format(actor)))\n",
    "    for issue in issues:\n",
    "        \n",
    "        row = int(i / 2)\n",
    "        col = i % 2\n",
    "        \n",
    "        subset = table.query('actor == [\"{}\"] and issue == [\"{}\"]'.format(actor, issue[0]))\n",
    "        subchart = axes[row, col]\n",
    "        subchart.plot(subset.values)\n",
    "        subchart.set_ylim(0, 110)        \n",
    "        subchart.set_title(issue[0])\n",
    "        subchart.set_ylabel('Issue score')\n",
    "        subchart.set_xlabel('Negotiation round (iteration)')\n",
    "        \n",
    "        i+=1\n",
    "        \n",
    "    \n",
    "    plt.tight_layout()\n",
    "    plt.show()\n",
    "    "
   ]
  },
  {
   "cell_type": "code",
   "execution_count": null,
   "metadata": {
    "pycharm": {
     "is_executing": false
    }
   },
   "outputs": [],
   "source": []
  }
 ],
 "metadata": {
  "kernelspec": {
   "display_name": "Python 3",
   "language": "python",
   "name": "python3"
  },
  "language_info": {
   "codemirror_mode": {
    "name": "ipython",
    "version": 3
   },
   "file_extension": ".py",
   "mimetype": "text/x-python",
   "name": "python",
   "nbconvert_exporter": "python",
   "pygments_lexer": "ipython3",
   "version": "3.5.2"
  },
  "widgets": {
   "application/vnd.jupyter.widget-state+json": {
    "state": {
     "0106c8e19d714070add39ce8c6d73b83": {
      "model_module": "@jupyter-widgets/controls",
      "model_module_version": "1.0.0",
      "model_name": "DescriptionStyleModel",
      "state": {
       "_model_module_version": "1.0.0",
       "description_width": ""
      }
     },
     "05ffd955194744c0931e197349bda24f": {
      "model_module": "@jupyter-widgets/controls",
      "model_module_version": "1.0.0",
      "model_name": "DropdownModel",
      "state": {
       "_model_module_version": "1.0.0",
       "_options_labels": [
        "sample_data"
       ],
       "_view_module_version": "1.0.0",
       "description": "Select issue to analyze:",
       "index": 0,
       "layout": "IPY_MODEL_da298dc1df5e4f37b66ee3ccc5207925",
       "style": "IPY_MODEL_55e5ac3ffc044f14ba3b84c02cc8871b"
      }
     },
     "0690aa319f674bcebabbe7fd26745c8c": {
      "model_module": "@jupyter-widgets/controls",
      "model_module_version": "1.0.0",
      "model_name": "DropdownModel",
      "state": {
       "_model_module_version": "1.0.0",
       "_options_labels": [
        "sample_data"
       ],
       "_view_module_version": "1.0.0",
       "description": "Select issue to analyze:",
       "index": 0,
       "layout": "IPY_MODEL_124abcde0a444e8a9f518d82f8273c79",
       "style": "IPY_MODEL_7ab7143893ed413ca5d3f8c49749a7aa"
      }
     },
     "078b1bc0862e440ebee776e7cc6f2ca1": {
      "model_module": "@jupyter-widgets/controls",
      "model_module_version": "1.0.0",
      "model_name": "DropdownModel",
      "state": {
       "_model_module_version": "1.0.0",
       "_view_module_version": "1.0.0",
       "description": "Select issue to analyze:",
       "index": null,
       "layout": "IPY_MODEL_aaa070ab3e4b43e3bb8ad5c819cac38c",
       "style": "IPY_MODEL_3d50bc3e39fc434db6c260e86da08c41"
      }
     },
     "0a2cc3cab12d48db8c1c17e93e60995c": {
      "model_module": "@jupyter-widgets/base",
      "model_module_version": "1.0.0",
      "model_name": "LayoutModel",
      "state": {}
     },
     "0ab57299fd0f43ada8a7a252e70a5edf": {
      "model_module": "@jupyter-widgets/controls",
      "model_module_version": "1.0.0",
      "model_name": "DescriptionStyleModel",
      "state": {
       "_model_module_version": "1.0.0",
       "description_width": ""
      }
     },
     "0ca6d24c7b6a4b6ea0edf957368b0663": {
      "model_module": "@jupyter-widgets/base",
      "model_module_version": "1.0.0",
      "model_name": "LayoutModel",
      "state": {}
     },
     "0d987e90ff7c49898248c93fe4517bad": {
      "model_module": "@jupyter-widgets/controls",
      "model_module_version": "1.0.0",
      "model_name": "DropdownModel",
      "state": {
       "_model_module_version": "1.0.0",
       "_options_labels": [
        "0.1",
        "0.2",
        "0.3"
       ],
       "_view_module_version": "1.0.0",
       "description": "Select run:",
       "index": 2,
       "layout": "IPY_MODEL_4f4a8afc467a4ae6afc610c8f48e3306",
       "style": "IPY_MODEL_4c8bbaa2e79a4121833bbb0f29517d6c"
      }
     },
     "0f4d1c3da1d44cafab21de52277ce867": {
      "model_module": "@jupyter-widgets/controls",
      "model_module_version": "1.0.0",
      "model_name": "DescriptionStyleModel",
      "state": {
       "_model_module_version": "1.0.0",
       "description_width": ""
      }
     },
     "107743c285324bbdb88ddede4d318a02": {
      "model_module": "@jupyter-widgets/controls",
      "model_module_version": "1.0.0",
      "model_name": "DropdownModel",
      "state": {
       "_model_module_version": "1.0.0",
       "_options_labels": [
        "sample_data"
       ],
       "_view_module_version": "1.0.0",
       "description": "Select issue to analyze:",
       "index": 0,
       "layout": "IPY_MODEL_977b546ae6b74f9ab297675c203b0194",
       "style": "IPY_MODEL_0ab57299fd0f43ada8a7a252e70a5edf"
      }
     },
     "124abcde0a444e8a9f518d82f8273c79": {
      "model_module": "@jupyter-widgets/base",
      "model_module_version": "1.0.0",
      "model_name": "LayoutModel",
      "state": {}
     },
     "15d1bad56b81403fba9ff137717ff7bf": {
      "model_module": "@jupyter-widgets/controls",
      "model_module_version": "1.0.0",
      "model_name": "DescriptionStyleModel",
      "state": {
       "_model_module_version": "1.0.0",
       "description_width": ""
      }
     },
     "1652d0fbd6f147c899fbbb1f00254606": {
      "model_module": "@jupyter-widgets/base",
      "model_module_version": "1.0.0",
      "model_name": "LayoutModel",
      "state": {}
     },
     "1aa61d142aa24d90bf8fd37252c037e5": {
      "model_module": "@jupyter-widgets/controls",
      "model_module_version": "1.0.0",
      "model_name": "DropdownModel",
      "state": {
       "_model_module_version": "1.0.0",
       "_view_module_version": "1.0.0",
       "description": "Select dataset:",
       "index": null,
       "layout": "IPY_MODEL_2dd1298dfdda465790c55b05dd55f832",
       "style": "IPY_MODEL_d57a7c688b01494590d03abcc98d16ad"
      }
     },
     "1d3c88c3f9144bf3902709f17343eecb": {
      "model_module": "@jupyter-widgets/base",
      "model_module_version": "1.0.0",
      "model_name": "LayoutModel",
      "state": {}
     },
     "1dd2992ac3644fddaa7f723bd87568ee": {
      "model_module": "@jupyter-widgets/base",
      "model_module_version": "1.0.0",
      "model_name": "LayoutModel",
      "state": {}
     },
     "21451bdbd1b14f2bba0ed14f279bc375": {
      "model_module": "@jupyter-widgets/controls",
      "model_module_version": "1.0.0",
      "model_name": "DropdownModel",
      "state": {
       "_model_module_version": "1.0.0",
       "_options_labels": [
        "0.1",
        "0.2",
        "0.3"
       ],
       "_view_module_version": "1.0.0",
       "description": "Select run:",
       "index": 0,
       "layout": "IPY_MODEL_a2d1aeed6e1b4a1fabc71e5a27ef872e",
       "style": "IPY_MODEL_3319572e841e4ef28805dc407495bc42"
      }
     },
     "21dd35190f0342e8a7681c6d9167b49e": {
      "model_module": "@jupyter-widgets/controls",
      "model_module_version": "1.0.0",
      "model_name": "DescriptionStyleModel",
      "state": {
       "_model_module_version": "1.0.0",
       "description_width": ""
      }
     },
     "249a851e18df4f3883bc5dee8b162f2b": {
      "model_module": "@jupyter-widgets/controls",
      "model_module_version": "1.0.0",
      "model_name": "DropdownModel",
      "state": {
       "_model_module_version": "1.0.0",
       "_options_labels": [
        "0.1",
        "0.2",
        "0.3"
       ],
       "_view_module_version": "1.0.0",
       "description": "Select run:",
       "index": 0,
       "layout": "IPY_MODEL_c2d364ec438944e4b4f64f39d8d999bf",
       "style": "IPY_MODEL_8de84a3800f84174876233ae13266698"
      }
     },
     "283758d2ac7f4717ad22331a664b6b43": {
      "model_module": "@jupyter-widgets/controls",
      "model_module_version": "1.0.0",
      "model_name": "DropdownModel",
      "state": {
       "_model_module_version": "1.0.0",
       "_options_labels": [
        "sample_data"
       ],
       "_view_module_version": "1.0.0",
       "description": "Select dataset:",
       "index": 0,
       "layout": "IPY_MODEL_0a2cc3cab12d48db8c1c17e93e60995c",
       "style": "IPY_MODEL_7b8633c702d6438ea3bb31515ce9620e"
      }
     },
     "29386762f0704e4daaf9e341557aa058": {
      "model_module": "@jupyter-widgets/controls",
      "model_module_version": "1.0.0",
      "model_name": "DescriptionStyleModel",
      "state": {
       "_model_module_version": "1.0.0",
       "description_width": ""
      }
     },
     "2bfb3a1234d441c88260fa3f26acdf84": {
      "model_module": "@jupyter-widgets/controls",
      "model_module_version": "1.0.0",
      "model_name": "DropdownModel",
      "state": {
       "_model_module_version": "1.0.0",
       "_options_labels": [
        "0.2",
        "0.1",
        "0.3"
       ],
       "_view_module_version": "1.0.0",
       "description": "Select run:",
       "index": 2,
       "layout": "IPY_MODEL_d9ea472045434d0597ae657cb774a867",
       "style": "IPY_MODEL_6701605bc1c84d299d629ebdd9b3dc30"
      }
     },
     "2dd1298dfdda465790c55b05dd55f832": {
      "model_module": "@jupyter-widgets/base",
      "model_module_version": "1.0.0",
      "model_name": "LayoutModel",
      "state": {}
     },
     "2f4c7e67fa3d4a7cb0cdc53c2a07951b": {
      "model_module": "@jupyter-widgets/controls",
      "model_module_version": "1.0.0",
      "model_name": "DescriptionStyleModel",
      "state": {
       "_model_module_version": "1.0.0",
       "description_width": ""
      }
     },
     "3319572e841e4ef28805dc407495bc42": {
      "model_module": "@jupyter-widgets/controls",
      "model_module_version": "1.0.0",
      "model_name": "DescriptionStyleModel",
      "state": {
       "_model_module_version": "1.0.0",
       "description_width": ""
      }
     },
     "333dd7d63a7e4de2a9bf29cdd18239a6": {
      "model_module": "@jupyter-widgets/base",
      "model_module_version": "1.0.0",
      "model_name": "LayoutModel",
      "state": {}
     },
     "342765ce373f4e959850528ca701255b": {
      "model_module": "@jupyter-widgets/base",
      "model_module_version": "1.0.0",
      "model_name": "LayoutModel",
      "state": {}
     },
     "35688b5062f949aeb61767c7e8c91237": {
      "model_module": "@jupyter-widgets/controls",
      "model_module_version": "1.0.0",
      "model_name": "DropdownModel",
      "state": {
       "_model_module_version": "1.0.0",
       "_options_labels": [
        "0.1",
        "0.2",
        "0.3"
       ],
       "_view_module_version": "1.0.0",
       "description": "Select run:",
       "index": 2,
       "layout": "IPY_MODEL_c1c41ba92ccb4a7aa070a18379bb8b54",
       "style": "IPY_MODEL_5b0b436c6848492eb819e24c4cc5b64d"
      }
     },
     "37cf316a4cce427aa41a056f4e05fc38": {
      "model_module": "@jupyter-widgets/base",
      "model_module_version": "1.0.0",
      "model_name": "LayoutModel",
      "state": {}
     },
     "3ae524dd45cd409096b3152405a24780": {
      "model_module": "@jupyter-widgets/base",
      "model_module_version": "1.0.0",
      "model_name": "LayoutModel",
      "state": {}
     },
     "3cea50c2e1e64b98918d63075e18e1cd": {
      "model_module": "@jupyter-widgets/controls",
      "model_module_version": "1.0.0",
      "model_name": "DropdownModel",
      "state": {
       "_model_module_version": "1.0.0",
       "_options_labels": [
        "sample_data"
       ],
       "_view_module_version": "1.0.0",
       "description": "Select dataset:",
       "index": 0,
       "layout": "IPY_MODEL_77db4041b206492582801e866a501856",
       "style": "IPY_MODEL_594fee376c094cee972f665d89416c1a"
      }
     },
     "3d50bc3e39fc434db6c260e86da08c41": {
      "model_module": "@jupyter-widgets/controls",
      "model_module_version": "1.0.0",
      "model_name": "DescriptionStyleModel",
      "state": {
       "_model_module_version": "1.0.0",
       "description_width": ""
      }
     },
     "442861bf08d341d4a7c693a347eb6d93": {
      "model_module": "@jupyter-widgets/controls",
      "model_module_version": "1.0.0",
      "model_name": "DescriptionStyleModel",
      "state": {
       "_model_module_version": "1.0.0",
       "description_width": ""
      }
     },
     "4c8bbaa2e79a4121833bbb0f29517d6c": {
      "model_module": "@jupyter-widgets/controls",
      "model_module_version": "1.0.0",
      "model_name": "DescriptionStyleModel",
      "state": {
       "_model_module_version": "1.0.0",
       "description_width": ""
      }
     },
     "4cc898a656e74bc5b5cbf73b0555ce05": {
      "model_module": "@jupyter-widgets/base",
      "model_module_version": "1.0.0",
      "model_name": "LayoutModel",
      "state": {}
     },
     "4ce859bdba3f490b99cad4defab030de": {
      "model_module": "@jupyter-widgets/base",
      "model_module_version": "1.0.0",
      "model_name": "LayoutModel",
      "state": {}
     },
     "4f4a8afc467a4ae6afc610c8f48e3306": {
      "model_module": "@jupyter-widgets/base",
      "model_module_version": "1.0.0",
      "model_name": "LayoutModel",
      "state": {}
     },
     "513adcb8dcfc4815958253d0dff162b8": {
      "model_module": "@jupyter-widgets/base",
      "model_module_version": "1.0.0",
      "model_name": "LayoutModel",
      "state": {}
     },
     "52cc08d324914e448f57254e109598db": {
      "model_module": "@jupyter-widgets/controls",
      "model_module_version": "1.0.0",
      "model_name": "DropdownModel",
      "state": {
       "_model_module_version": "1.0.0",
       "_options_labels": [
        "0.1",
        "0.2",
        "0.3"
       ],
       "_view_module_version": "1.0.0",
       "description": "Select run:",
       "index": 1,
       "layout": "IPY_MODEL_1652d0fbd6f147c899fbbb1f00254606",
       "style": "IPY_MODEL_75e12fee95044378926c075997e78fdc"
      }
     },
     "55e5ac3ffc044f14ba3b84c02cc8871b": {
      "model_module": "@jupyter-widgets/controls",
      "model_module_version": "1.0.0",
      "model_name": "DescriptionStyleModel",
      "state": {
       "_model_module_version": "1.0.0",
       "description_width": ""
      }
     },
     "56306b79c967455386522906ac691bfa": {
      "model_module": "@jupyter-widgets/base",
      "model_module_version": "1.0.0",
      "model_name": "LayoutModel",
      "state": {}
     },
     "594fee376c094cee972f665d89416c1a": {
      "model_module": "@jupyter-widgets/controls",
      "model_module_version": "1.0.0",
      "model_name": "DescriptionStyleModel",
      "state": {
       "_model_module_version": "1.0.0",
       "description_width": ""
      }
     },
     "5b0b436c6848492eb819e24c4cc5b64d": {
      "model_module": "@jupyter-widgets/controls",
      "model_module_version": "1.0.0",
      "model_name": "DescriptionStyleModel",
      "state": {
       "_model_module_version": "1.0.0",
       "description_width": ""
      }
     },
     "5d286befe1904019824ac36fa5eb7191": {
      "model_module": "@jupyter-widgets/controls",
      "model_module_version": "1.0.0",
      "model_name": "DescriptionStyleModel",
      "state": {
       "_model_module_version": "1.0.0",
       "description_width": ""
      }
     },
     "629802ad002446fc88180cc49a7ddde7": {
      "model_module": "@jupyter-widgets/controls",
      "model_module_version": "1.0.0",
      "model_name": "DescriptionStyleModel",
      "state": {
       "_model_module_version": "1.0.0",
       "description_width": ""
      }
     },
     "6701605bc1c84d299d629ebdd9b3dc30": {
      "model_module": "@jupyter-widgets/controls",
      "model_module_version": "1.0.0",
      "model_name": "DescriptionStyleModel",
      "state": {
       "_model_module_version": "1.0.0",
       "description_width": ""
      }
     },
     "6a7d975636b043feaac4d405b289f134": {
      "model_module": "@jupyter-widgets/base",
      "model_module_version": "1.0.0",
      "model_name": "LayoutModel",
      "state": {}
     },
     "6c49b7be01894973a27358371814cbed": {
      "model_module": "@jupyter-widgets/base",
      "model_module_version": "1.0.0",
      "model_name": "LayoutModel",
      "state": {}
     },
     "72ffc40ea2574b06967f298557a07e14": {
      "model_module": "@jupyter-widgets/controls",
      "model_module_version": "1.0.0",
      "model_name": "DropdownModel",
      "state": {
       "_model_module_version": "1.0.0",
       "_options_labels": [
        "sample_data"
       ],
       "_view_module_version": "1.0.0",
       "description": "Select dataset:",
       "index": 0,
       "layout": "IPY_MODEL_aad6c8e63d274c5d952eda64345e36ff",
       "style": "IPY_MODEL_a22458a6739d41deabea201d5a3f0cde"
      }
     },
     "7357ca54c03c43a8afce6f8964123f85": {
      "model_module": "@jupyter-widgets/controls",
      "model_module_version": "1.0.0",
      "model_name": "DropdownModel",
      "state": {
       "_model_module_version": "1.0.0",
       "_options_labels": [
        "sample_data"
       ],
       "_view_module_version": "1.0.0",
       "description": "Select run:",
       "index": 0,
       "layout": "IPY_MODEL_caf8ce746d3c45f8b3d5c9c6c49c3fa4",
       "style": "IPY_MODEL_2f4c7e67fa3d4a7cb0cdc53c2a07951b"
      }
     },
     "75e12fee95044378926c075997e78fdc": {
      "model_module": "@jupyter-widgets/controls",
      "model_module_version": "1.0.0",
      "model_name": "DescriptionStyleModel",
      "state": {
       "_model_module_version": "1.0.0",
       "description_width": ""
      }
     },
     "76547b317ae149b8bfdf53e5ad5aa059": {
      "model_module": "@jupyter-widgets/controls",
      "model_module_version": "1.0.0",
      "model_name": "DescriptionStyleModel",
      "state": {
       "_model_module_version": "1.0.0",
       "description_width": ""
      }
     },
     "77db4041b206492582801e866a501856": {
      "model_module": "@jupyter-widgets/base",
      "model_module_version": "1.0.0",
      "model_name": "LayoutModel",
      "state": {}
     },
     "796d5227473947b1afeca6db2fe8b877": {
      "model_module": "@jupyter-widgets/controls",
      "model_module_version": "1.0.0",
      "model_name": "DropdownModel",
      "state": {
       "_model_module_version": "1.0.0",
       "_options_labels": [
        "0.1",
        "0.2",
        "0.3"
       ],
       "_view_module_version": "1.0.0",
       "description": "Select run:",
       "index": 1,
       "layout": "IPY_MODEL_0ca6d24c7b6a4b6ea0edf957368b0663",
       "style": "IPY_MODEL_da91ab2b1eae4581aae8a76e09c47da8"
      }
     },
     "7ab7143893ed413ca5d3f8c49749a7aa": {
      "model_module": "@jupyter-widgets/controls",
      "model_module_version": "1.0.0",
      "model_name": "DescriptionStyleModel",
      "state": {
       "_model_module_version": "1.0.0",
       "description_width": ""
      }
     },
     "7b791c33d5a5452b90597099968bc3bc": {
      "model_module": "@jupyter-widgets/controls",
      "model_module_version": "1.0.0",
      "model_name": "DropdownModel",
      "state": {
       "_model_module_version": "1.0.0",
       "_options_labels": [
        "sample_data"
       ],
       "_view_module_version": "1.0.0",
       "description": "Select run:",
       "index": 0,
       "layout": "IPY_MODEL_56306b79c967455386522906ac691bfa",
       "style": "IPY_MODEL_29386762f0704e4daaf9e341557aa058"
      }
     },
     "7b8633c702d6438ea3bb31515ce9620e": {
      "model_module": "@jupyter-widgets/controls",
      "model_module_version": "1.0.0",
      "model_name": "DescriptionStyleModel",
      "state": {
       "_model_module_version": "1.0.0",
       "description_width": ""
      }
     },
     "7ba3834ca0e14f9eb7f518bc600aa58c": {
      "model_module": "@jupyter-widgets/controls",
      "model_module_version": "1.0.0",
      "model_name": "DescriptionStyleModel",
      "state": {
       "_model_module_version": "1.0.0",
       "description_width": ""
      }
     },
     "7c49f8a34fe643949df8140e618aa51b": {
      "model_module": "@jupyter-widgets/controls",
      "model_module_version": "1.0.0",
      "model_name": "DescriptionStyleModel",
      "state": {
       "_model_module_version": "1.0.0",
       "description_width": ""
      }
     },
     "805f57cae2174f208228db1d94e33dca": {
      "model_module": "@jupyter-widgets/controls",
      "model_module_version": "1.0.0",
      "model_name": "DropdownModel",
      "state": {
       "_model_module_version": "1.0.0",
       "_options_labels": [
        "0.1",
        "0.2",
        "0.3"
       ],
       "_view_module_version": "1.0.0",
       "description": "Select run:",
       "index": 1,
       "layout": "IPY_MODEL_4ce859bdba3f490b99cad4defab030de",
       "style": "IPY_MODEL_0f4d1c3da1d44cafab21de52277ce867"
      }
     },
     "834faaba9c1249faa5454399b126cf3d": {
      "model_module": "@jupyter-widgets/controls",
      "model_module_version": "1.0.0",
      "model_name": "DropdownModel",
      "state": {
       "_model_module_version": "1.0.0",
       "_options_labels": [
        "0.1",
        "0.2",
        "0.3"
       ],
       "_view_module_version": "1.0.0",
       "description": "Select run:",
       "index": 2,
       "layout": "IPY_MODEL_a3def36ee2514aafa0d99cc1f744228d",
       "style": "IPY_MODEL_88c0f88622b342abbe1588026500b6db"
      }
     },
     "86e74f59a2484ab0915657d1af126fcf": {
      "model_module": "@jupyter-widgets/controls",
      "model_module_version": "1.0.0",
      "model_name": "DescriptionStyleModel",
      "state": {
       "_model_module_version": "1.0.0",
       "description_width": ""
      }
     },
     "88c0f88622b342abbe1588026500b6db": {
      "model_module": "@jupyter-widgets/controls",
      "model_module_version": "1.0.0",
      "model_name": "DescriptionStyleModel",
      "state": {
       "_model_module_version": "1.0.0",
       "description_width": ""
      }
     },
     "89955f83fb72421191ed80cef44ff278": {
      "model_module": "@jupyter-widgets/controls",
      "model_module_version": "1.0.0",
      "model_name": "DescriptionStyleModel",
      "state": {
       "_model_module_version": "1.0.0",
       "description_width": ""
      }
     },
     "8de84a3800f84174876233ae13266698": {
      "model_module": "@jupyter-widgets/controls",
      "model_module_version": "1.0.0",
      "model_name": "DescriptionStyleModel",
      "state": {
       "_model_module_version": "1.0.0",
       "description_width": ""
      }
     },
     "8e50d8fe437249bfba86e4bfd13a9395": {
      "model_module": "@jupyter-widgets/base",
      "model_module_version": "1.0.0",
      "model_name": "LayoutModel",
      "state": {}
     },
     "8ec5952b2824482d94d6c3788e434aa3": {
      "model_module": "@jupyter-widgets/base",
      "model_module_version": "1.0.0",
      "model_name": "LayoutModel",
      "state": {}
     },
     "975bd430f60548bd9872d438743666b5": {
      "model_module": "@jupyter-widgets/controls",
      "model_module_version": "1.0.0",
      "model_name": "DescriptionStyleModel",
      "state": {
       "_model_module_version": "1.0.0",
       "description_width": ""
      }
     },
     "977b546ae6b74f9ab297675c203b0194": {
      "model_module": "@jupyter-widgets/base",
      "model_module_version": "1.0.0",
      "model_name": "LayoutModel",
      "state": {}
     },
     "9d5525406bad48b883d779bec7baaf58": {
      "model_module": "@jupyter-widgets/controls",
      "model_module_version": "1.0.0",
      "model_name": "DescriptionStyleModel",
      "state": {
       "_model_module_version": "1.0.0",
       "description_width": ""
      }
     },
     "a22458a6739d41deabea201d5a3f0cde": {
      "model_module": "@jupyter-widgets/controls",
      "model_module_version": "1.0.0",
      "model_name": "DescriptionStyleModel",
      "state": {
       "_model_module_version": "1.0.0",
       "description_width": ""
      }
     },
     "a2d1aeed6e1b4a1fabc71e5a27ef872e": {
      "model_module": "@jupyter-widgets/base",
      "model_module_version": "1.0.0",
      "model_name": "LayoutModel",
      "state": {}
     },
     "a3def36ee2514aafa0d99cc1f744228d": {
      "model_module": "@jupyter-widgets/base",
      "model_module_version": "1.0.0",
      "model_name": "LayoutModel",
      "state": {}
     },
     "a6f63f432cd546eda5d2f8a532fc6492": {
      "model_module": "@jupyter-widgets/base",
      "model_module_version": "1.0.0",
      "model_name": "LayoutModel",
      "state": {}
     },
     "aaa070ab3e4b43e3bb8ad5c819cac38c": {
      "model_module": "@jupyter-widgets/base",
      "model_module_version": "1.0.0",
      "model_name": "LayoutModel",
      "state": {}
     },
     "aad6c8e63d274c5d952eda64345e36ff": {
      "model_module": "@jupyter-widgets/base",
      "model_module_version": "1.0.0",
      "model_name": "LayoutModel",
      "state": {}
     },
     "adddc69584df4086a2587d64ad06c1ff": {
      "model_module": "@jupyter-widgets/controls",
      "model_module_version": "1.0.0",
      "model_name": "DropdownModel",
      "state": {
       "_model_module_version": "1.0.0",
       "_options_labels": [
        "0.1",
        "0.2",
        "0.3"
       ],
       "_view_module_version": "1.0.0",
       "description": "Select run:",
       "index": 0,
       "layout": "IPY_MODEL_afd75a2aae6b49dfaf20241a7b13a606",
       "style": "IPY_MODEL_975bd430f60548bd9872d438743666b5"
      }
     },
     "afd75a2aae6b49dfaf20241a7b13a606": {
      "model_module": "@jupyter-widgets/base",
      "model_module_version": "1.0.0",
      "model_name": "LayoutModel",
      "state": {}
     },
     "c0b13973daf844f5b929fb7d4b6b08af": {
      "model_module": "@jupyter-widgets/controls",
      "model_module_version": "1.0.0",
      "model_name": "DropdownModel",
      "state": {
       "_model_module_version": "1.0.0",
       "_options_labels": [
        "sample_data"
       ],
       "_view_module_version": "1.0.0",
       "description": "Select dataset:",
       "index": 0,
       "layout": "IPY_MODEL_8ec5952b2824482d94d6c3788e434aa3",
       "style": "IPY_MODEL_76547b317ae149b8bfdf53e5ad5aa059"
      }
     },
     "c10ae543a4d940d7bd8d35d1813aa21f": {
      "model_module": "@jupyter-widgets/controls",
      "model_module_version": "1.0.0",
      "model_name": "DropdownModel",
      "state": {
       "_model_module_version": "1.0.0",
       "_options_labels": [
        "0.1",
        "0.2",
        "0.3"
       ],
       "_view_module_version": "1.0.0",
       "description": "Select run:",
       "index": 1,
       "layout": "IPY_MODEL_333dd7d63a7e4de2a9bf29cdd18239a6",
       "style": "IPY_MODEL_7c49f8a34fe643949df8140e618aa51b"
      }
     },
     "c150219ec0114c3fbe4a6d30d490ee10": {
      "model_module": "@jupyter-widgets/controls",
      "model_module_version": "1.0.0",
      "model_name": "DescriptionStyleModel",
      "state": {
       "_model_module_version": "1.0.0",
       "description_width": ""
      }
     },
     "c1c41ba92ccb4a7aa070a18379bb8b54": {
      "model_module": "@jupyter-widgets/base",
      "model_module_version": "1.0.0",
      "model_name": "LayoutModel",
      "state": {}
     },
     "c2d364ec438944e4b4f64f39d8d999bf": {
      "model_module": "@jupyter-widgets/base",
      "model_module_version": "1.0.0",
      "model_name": "LayoutModel",
      "state": {}
     },
     "c54011c2975a4cf5930e0d02b3718167": {
      "model_module": "@jupyter-widgets/controls",
      "model_module_version": "1.0.0",
      "model_name": "DropdownModel",
      "state": {
       "_model_module_version": "1.0.0",
       "_options_labels": [
        "sample_data"
       ],
       "_view_module_version": "1.0.0",
       "description": "Select dataset:",
       "index": 0,
       "layout": "IPY_MODEL_4cc898a656e74bc5b5cbf73b0555ce05",
       "style": "IPY_MODEL_c57c4ff0e7234db594f9959c8bc33113"
      }
     },
     "c57c4ff0e7234db594f9959c8bc33113": {
      "model_module": "@jupyter-widgets/controls",
      "model_module_version": "1.0.0",
      "model_name": "DescriptionStyleModel",
      "state": {
       "_model_module_version": "1.0.0",
       "description_width": ""
      }
     },
     "c80a30d437d8454d8fdbe11978ac0778": {
      "model_module": "@jupyter-widgets/controls",
      "model_module_version": "1.0.0",
      "model_name": "DescriptionStyleModel",
      "state": {
       "_model_module_version": "1.0.0",
       "description_width": ""
      }
     },
     "caf8ce746d3c45f8b3d5c9c6c49c3fa4": {
      "model_module": "@jupyter-widgets/base",
      "model_module_version": "1.0.0",
      "model_name": "LayoutModel",
      "state": {}
     },
     "ce113d102ae64ec690faa61e1fbb5696": {
      "model_module": "@jupyter-widgets/controls",
      "model_module_version": "1.0.0",
      "model_name": "DropdownModel",
      "state": {
       "_model_module_version": "1.0.0",
       "_options_labels": [
        "0.1",
        "0.2",
        "0.3"
       ],
       "_view_module_version": "1.0.0",
       "description": "Select run:",
       "index": 0,
       "layout": "IPY_MODEL_37cf316a4cce427aa41a056f4e05fc38",
       "style": "IPY_MODEL_89955f83fb72421191ed80cef44ff278"
      }
     },
     "cff86e5af9ef4675af58115cfe8845ce": {
      "model_module": "@jupyter-widgets/controls",
      "model_module_version": "1.0.0",
      "model_name": "DropdownModel",
      "state": {
       "_model_module_version": "1.0.0",
       "_options_labels": [
        "sample_data"
       ],
       "_view_module_version": "1.0.0",
       "description": "Select dataset:",
       "index": 0,
       "layout": "IPY_MODEL_342765ce373f4e959850528ca701255b",
       "style": "IPY_MODEL_c80a30d437d8454d8fdbe11978ac0778"
      }
     },
     "d09eb1968e9e45aaa3b20dbb0183097f": {
      "model_module": "@jupyter-widgets/base",
      "model_module_version": "1.0.0",
      "model_name": "LayoutModel",
      "state": {}
     },
     "d266536d10534ef2bcb927630fa12c39": {
      "model_module": "@jupyter-widgets/controls",
      "model_module_version": "1.0.0",
      "model_name": "DropdownModel",
      "state": {
       "_model_module_version": "1.0.0",
       "_options_labels": [
        "0.1",
        "0.2",
        "0.3"
       ],
       "_view_module_version": "1.0.0",
       "description": "Select run:",
       "index": 1,
       "layout": "IPY_MODEL_3ae524dd45cd409096b3152405a24780",
       "style": "IPY_MODEL_21dd35190f0342e8a7681c6d9167b49e"
      }
     },
     "d57a7c688b01494590d03abcc98d16ad": {
      "model_module": "@jupyter-widgets/controls",
      "model_module_version": "1.0.0",
      "model_name": "DescriptionStyleModel",
      "state": {
       "_model_module_version": "1.0.0",
       "description_width": ""
      }
     },
     "d6107a85081b4318bfc64abbe7084f25": {
      "model_module": "@jupyter-widgets/controls",
      "model_module_version": "1.0.0",
      "model_name": "DropdownModel",
      "state": {
       "_model_module_version": "1.0.0",
       "_options_labels": [
        "0.1",
        "0.2",
        "0.3"
       ],
       "_view_module_version": "1.0.0",
       "description": "Select run:",
       "index": 0,
       "layout": "IPY_MODEL_6c49b7be01894973a27358371814cbed",
       "style": "IPY_MODEL_442861bf08d341d4a7c693a347eb6d93"
      }
     },
     "d9cbcd6c60cf41689900185fc710c942": {
      "model_module": "@jupyter-widgets/controls",
      "model_module_version": "1.0.0",
      "model_name": "DropdownModel",
      "state": {
       "_model_module_version": "1.0.0",
       "_options_labels": [
        "0.1",
        "0.2",
        "0.3"
       ],
       "_view_module_version": "1.0.0",
       "description": "Select run:",
       "index": 0,
       "layout": "IPY_MODEL_8e50d8fe437249bfba86e4bfd13a9395",
       "style": "IPY_MODEL_629802ad002446fc88180cc49a7ddde7"
      }
     },
     "d9ea472045434d0597ae657cb774a867": {
      "model_module": "@jupyter-widgets/base",
      "model_module_version": "1.0.0",
      "model_name": "LayoutModel",
      "state": {}
     },
     "da298dc1df5e4f37b66ee3ccc5207925": {
      "model_module": "@jupyter-widgets/base",
      "model_module_version": "1.0.0",
      "model_name": "LayoutModel",
      "state": {}
     },
     "da91ab2b1eae4581aae8a76e09c47da8": {
      "model_module": "@jupyter-widgets/controls",
      "model_module_version": "1.0.0",
      "model_name": "DescriptionStyleModel",
      "state": {
       "_model_module_version": "1.0.0",
       "description_width": ""
      }
     },
     "dbfc90f70f1e491e832029633a4136de": {
      "model_module": "@jupyter-widgets/controls",
      "model_module_version": "1.0.0",
      "model_name": "DropdownModel",
      "state": {
       "_model_module_version": "1.0.0",
       "_options_labels": [
        "0.1",
        "0.2",
        "0.3"
       ],
       "_view_module_version": "1.0.0",
       "description": "Select run:",
       "index": 1,
       "layout": "IPY_MODEL_1d3c88c3f9144bf3902709f17343eecb",
       "style": "IPY_MODEL_c150219ec0114c3fbe4a6d30d490ee10"
      }
     },
     "e0cf1711ca744fdb875198ea9d362c7b": {
      "model_module": "@jupyter-widgets/controls",
      "model_module_version": "1.0.0",
      "model_name": "DropdownModel",
      "state": {
       "_model_module_version": "1.0.0",
       "_options_labels": [
        "0.1",
        "0.2",
        "0.3"
       ],
       "_view_module_version": "1.0.0",
       "description": "Select run:",
       "index": 0,
       "layout": "IPY_MODEL_a6f63f432cd546eda5d2f8a532fc6492",
       "style": "IPY_MODEL_0106c8e19d714070add39ce8c6d73b83"
      }
     },
     "e14db258bc534592a1629d4c4bddb325": {
      "model_module": "@jupyter-widgets/controls",
      "model_module_version": "1.0.0",
      "model_name": "DropdownModel",
      "state": {
       "_model_module_version": "1.0.0",
       "_options_labels": [
        "sample_data"
       ],
       "_view_module_version": "1.0.0",
       "description": "Select dataset:",
       "index": 0,
       "layout": "IPY_MODEL_d09eb1968e9e45aaa3b20dbb0183097f",
       "style": "IPY_MODEL_9d5525406bad48b883d779bec7baaf58"
      }
     },
     "ef2576fc06f24749a39578baa357e6d9": {
      "model_module": "@jupyter-widgets/base",
      "model_module_version": "1.0.0",
      "model_name": "LayoutModel",
      "state": {}
     },
     "f2ed9ad9b8c54dc0b0adfc949583770a": {
      "model_module": "@jupyter-widgets/controls",
      "model_module_version": "1.0.0",
      "model_name": "DropdownModel",
      "state": {
       "_model_module_version": "1.0.0",
       "_options_labels": [
        "sample_data"
       ],
       "_view_module_version": "1.0.0",
       "description": "Select dataset:",
       "index": 0,
       "layout": "IPY_MODEL_1dd2992ac3644fddaa7f723bd87568ee",
       "style": "IPY_MODEL_7ba3834ca0e14f9eb7f518bc600aa58c"
      }
     },
     "f4068b4164324ed7810c09e498fb2474": {
      "model_module": "@jupyter-widgets/controls",
      "model_module_version": "1.0.0",
      "model_name": "DropdownModel",
      "state": {
       "_model_module_version": "1.0.0",
       "_options_labels": [
        "0.1",
        "0.2",
        "0.3"
       ],
       "_view_module_version": "1.0.0",
       "description": "Select run:",
       "index": 2,
       "layout": "IPY_MODEL_ef2576fc06f24749a39578baa357e6d9",
       "style": "IPY_MODEL_5d286befe1904019824ac36fa5eb7191"
      }
     },
     "fb0bbbc5ed6e4082b82a72a3d8a26978": {
      "model_module": "@jupyter-widgets/controls",
      "model_module_version": "1.0.0",
      "model_name": "DropdownModel",
      "state": {
       "_model_module_version": "1.0.0",
       "_options_labels": [
        "sample_data"
       ],
       "_view_module_version": "1.0.0",
       "description": "Select dataset:",
       "index": 0,
       "layout": "IPY_MODEL_513adcb8dcfc4815958253d0dff162b8",
       "style": "IPY_MODEL_15d1bad56b81403fba9ff137717ff7bf"
      }
     },
     "fe51d25424bb45f49e633a859be38020": {
      "model_module": "@jupyter-widgets/controls",
      "model_module_version": "1.0.0",
      "model_name": "DropdownModel",
      "state": {
       "_model_module_version": "1.0.0",
       "_options_labels": [
        "sample_data"
       ],
       "_view_module_version": "1.0.0",
       "description": "Select dataset:",
       "index": 0,
       "layout": "IPY_MODEL_6a7d975636b043feaac4d405b289f134",
       "style": "IPY_MODEL_86e74f59a2484ab0915657d1af126fcf"
      }
     }
    },
    "version_major": 2,
    "version_minor": 0
   }
  },
  "pycharm": {
   "stem_cell": {
    "cell_type": "raw",
    "source": [],
    "metadata": {
     "collapsed": false
    }
   }
  }
 },
 "nbformat": 4,
 "nbformat_minor": 2
}