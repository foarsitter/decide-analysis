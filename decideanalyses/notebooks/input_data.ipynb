{
 "cells": [
  {
   "cell_type": "code",
   "execution_count": 7,
   "metadata": {
    "pycharm": {
     "is_executing": false
    }
   },
   "outputs": [],
   "source": [
    "import numpy as np\n",
    "import pandas as pd\n",
    "import matplotlib.pyplot as plt\n",
    "import sqlite3\n",
    "import ipywidgets as widget\n",
    "from decideanalyses import settings\n",
    "%matplotlib inline\n",
    "\n",
    "conn = sqlite3.connect(settings.DATABASE_URL)\n"
   ]
  },
  {
   "cell_type": "code",
   "execution_count": 8,
   "metadata": {
    "pycharm": {
     "is_executing": false
    }
   },
   "outputs": [],
   "source": [
    "df = pd.read_sql(\"\"\"\n",
    "SELECT i2.name as issue, a.name as actor, ai.position, ai.salience, ai.power FROM actorissue ai\n",
    "  JOIN iteration i on ai.iteration_id = i.id\n",
    "  JOIN repetition r on i.repetition_id = r.id\n",
    "  JOIN modelrun m on r.model_run_id = m.id\n",
    "  JOIN actor a on ai.actor_id = a.id\n",
    "  JOIN issue i2 on ai.issue_id = i2.id\n",
    "WHERE r.pointer = 1 and ai.type = 'before' and i.pointer = 0\n",
    "GROUP BY ai.issue_id, ai.actor_id, i2.name, ai.position\n",
    "ORDER BY i2.name, ai.position;\n",
    "\"\"\", conn)"
   ]
  },
  {
   "cell_type": "code",
   "execution_count": 9,
   "metadata": {
    "pycharm": {
     "is_executing": false
    }
   },
   "outputs": [
    {
     "data": {
      "text/plain": "             issue         actor  position  salience  power\n0    adapt_finance        Russia         0      0.30   0.35\n1    adapt_finance           USA         0      0.70   1.00\n2    adapt_finance        Russia         0      0.30   0.60\n3    adapt_finance           USA         0      0.70   1.00\n4    adapt_finance  Umbrella_min        30      0.75   0.30\n..             ...           ...       ...       ...    ...\n357       progress         AOSIS       100      0.85   0.10\n358       progress      LDCs_BGD       100      0.85   0.10\n359       progress   African_grp       100      0.75   0.25\n360       progress         AOSIS       100      0.85   0.50\n361       progress      LDCs_BGD       100      0.85   0.50\n\n[362 rows x 5 columns]",
      "text/html": "<div>\n<style scoped>\n    .dataframe tbody tr th:only-of-type {\n        vertical-align: middle;\n    }\n\n    .dataframe tbody tr th {\n        vertical-align: top;\n    }\n\n    .dataframe thead th {\n        text-align: right;\n    }\n</style>\n<table border=\"1\" class=\"dataframe\">\n  <thead>\n    <tr style=\"text-align: right;\">\n      <th></th>\n      <th>issue</th>\n      <th>actor</th>\n      <th>position</th>\n      <th>salience</th>\n      <th>power</th>\n    </tr>\n  </thead>\n  <tbody>\n    <tr>\n      <th>0</th>\n      <td>adapt_finance</td>\n      <td>Russia</td>\n      <td>0</td>\n      <td>0.30</td>\n      <td>0.35</td>\n    </tr>\n    <tr>\n      <th>1</th>\n      <td>adapt_finance</td>\n      <td>USA</td>\n      <td>0</td>\n      <td>0.70</td>\n      <td>1.00</td>\n    </tr>\n    <tr>\n      <th>2</th>\n      <td>adapt_finance</td>\n      <td>Russia</td>\n      <td>0</td>\n      <td>0.30</td>\n      <td>0.60</td>\n    </tr>\n    <tr>\n      <th>3</th>\n      <td>adapt_finance</td>\n      <td>USA</td>\n      <td>0</td>\n      <td>0.70</td>\n      <td>1.00</td>\n    </tr>\n    <tr>\n      <th>4</th>\n      <td>adapt_finance</td>\n      <td>Umbrella_min</td>\n      <td>30</td>\n      <td>0.75</td>\n      <td>0.30</td>\n    </tr>\n    <tr>\n      <th>...</th>\n      <td>...</td>\n      <td>...</td>\n      <td>...</td>\n      <td>...</td>\n      <td>...</td>\n    </tr>\n    <tr>\n      <th>357</th>\n      <td>progress</td>\n      <td>AOSIS</td>\n      <td>100</td>\n      <td>0.85</td>\n      <td>0.10</td>\n    </tr>\n    <tr>\n      <th>358</th>\n      <td>progress</td>\n      <td>LDCs_BGD</td>\n      <td>100</td>\n      <td>0.85</td>\n      <td>0.10</td>\n    </tr>\n    <tr>\n      <th>359</th>\n      <td>progress</td>\n      <td>African_grp</td>\n      <td>100</td>\n      <td>0.75</td>\n      <td>0.25</td>\n    </tr>\n    <tr>\n      <th>360</th>\n      <td>progress</td>\n      <td>AOSIS</td>\n      <td>100</td>\n      <td>0.85</td>\n      <td>0.50</td>\n    </tr>\n    <tr>\n      <th>361</th>\n      <td>progress</td>\n      <td>LDCs_BGD</td>\n      <td>100</td>\n      <td>0.85</td>\n      <td>0.50</td>\n    </tr>\n  </tbody>\n</table>\n<p>362 rows × 5 columns</p>\n</div>"
     },
     "metadata": {},
     "output_type": "execute_result",
     "execution_count": 9
    }
   ],
   "source": [
    "df"
   ]
  }
 ],
 "metadata": {
  "kernelspec": {
   "display_name": "Python 3",
   "language": "python",
   "name": "python3"
  },
  "language_info": {
   "codemirror_mode": {
    "name": "ipython",
    "version": 3
   },
   "file_extension": ".py",
   "mimetype": "text/x-python",
   "name": "python",
   "nbconvert_exporter": "python",
   "pygments_lexer": "ipython3",
   "version": "3.5.2"
  },
  "pycharm": {
   "stem_cell": {
    "cell_type": "raw",
    "source": [],
    "metadata": {
     "collapsed": false
    }
   }
  }
 },
 "nbformat": 4,
 "nbformat_minor": 1
}