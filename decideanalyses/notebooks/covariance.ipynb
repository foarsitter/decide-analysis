{
 "cells": [
  {
   "cell_type": "markdown",
   "metadata": {},
   "source": [
    "Compares the differences in the Nash Bargaining Issue, grouped by issue and p-values. \n",
    "\n",
    "This notebook relies on an database connection. \n",
    "\n",
    "Set the variable `model_run_ids` either in this file, in the settings as default or in the .env (recommended). "
   ]
  },
  {
   "cell_type": "code",
   "execution_count": 1,
   "metadata": {
    "pycharm": {
     "is_executing": false
    }
   },
   "outputs": [],
   "source": [
    "import sqlite3\n",
    "\n",
    "import pandas as pd\n",
    "\n",
    "from decideanalyses import settings\n",
    "%matplotlib inline\n",
    "from IPython.core.display import display, HTML\n",
    "\n",
    "pd.set_option('display.max_rows', 500)\n",
    "pd.set_option('display.max_columns', 500)\n"
   ]
  },
  {
   "cell_type": "code",
   "execution_count": 2,
   "metadata": {
    "pycharm": {
     "is_executing": false
    }
   },
   "outputs": [],
   "source": [
    "database_connection = sqlite3.connect(settings.DATABASE_URL)\n",
    "model_run_ids = settings.MODEL_RUN_IDS\n",
    "model_run_id_param =  ','.join(model_run_ids)\n"
   ]
  },
  {
   "cell_type": "code",
   "execution_count": 3,
   "metadata": {
    "pycharm": {
     "is_executing": false
    }
   },
   "outputs": [],
   "source": [
    "sql = \"\"\"SELECT a.p                              as p,\n",
    "       a.issue                          as issue,\n",
    "       a.repetion || '-' || a.iteration as pointer,\n",
    "       a.numerator / a.denominator      AS nbs\n",
    "FROM (SELECT sum(ai.position * ai.power * ai.salience) AS numerator,\n",
    "             sum(ai.salience * ai.power)               AS denominator,\n",
    "             r.pointer                                 AS repetion,\n",
    "             i2.pointer                                AS iteration,\n",
    "             m.p,\n",
    "             i.name                                    as issue\n",
    "      FROM actorissue ai\n",
    "               LEFT JOIN issue i ON ai.issue_id = i.id\n",
    "               LEFT JOIN actor a ON ai.actor_id = a.id\n",
    "               LEFT JOIN iteration i2 ON ai.iteration_id = i2.id\n",
    "               LEFT JOIN repetition r ON i2.repetition_id = r.id\n",
    "               LEFT JOIN modelrun m ON r.model_run_id = m.id\n",
    "      WHERE ai.type = 'before'\n",
    "        AND i2.pointer = 9\n",
    "        AND m.id IN (%s)\n",
    "      GROUP BY m.id, r.id, i2.id, i.id) a\"\"\" % model_run_id_param"
   ]
  },
  {
   "cell_type": "code",
   "execution_count": 4,
   "outputs": [],
   "source": [
    "df = pd.read_sql(\n",
    "    sql=sql, \n",
    "    con=database_connection, \n",
    "    index_col=['p'],\n",
    "    columns=['issue']\n",
    ")\n"
   ],
   "metadata": {
    "collapsed": false,
    "pycharm": {
     "name": "#%%\n",
     "is_executing": false
    }
   }
  },
  {
   "cell_type": "markdown",
   "metadata": {},
   "source": [
    "# Covariance\n",
    "Covariance of the NBS between the issues, grouped by p-value "
   ]
  },
  {
   "cell_type": "code",
   "execution_count": 5,
   "metadata": {
    "pycharm": {
     "is_executing": false,
     "name": "#%%\n"
    }
   },
   "outputs": [
    {
     "data": {
      "text/plain": "<IPython.core.display.HTML object>",
      "text/html": "<h1>p=0.0</h1>"
     },
     "metadata": {},
     "output_type": "display_data"
    },
    {
     "data": {
      "text/plain": "issue            adapt_finance  adapt_inst  adapt_legal  amb2050  amb2100  \\\nissue                                                                       \nadapt_finance          0.21972    -0.25007      0.04165 -0.70949 -0.05279   \nadapt_inst            -0.25007     0.28461     -0.04740  0.80749  0.06008   \nadapt_legal            0.04165    -0.04740      0.00789 -0.13448 -0.01001   \namb2050               -0.70949     0.80749     -0.13448  2.29102  0.17045   \namb2100               -0.05279     0.06008     -0.01001  0.17045  0.01268   \ndifferentiation        0.26573    -0.30243      0.05037 -0.85806 -0.06384   \neaa                    0.35538    -0.40447      0.06736 -1.14757 -0.08538   \nfinance_vol            0.13620    -0.15501      0.02582 -0.43980 -0.03272   \nfinance_who            0.10118    -0.11516      0.01918 -0.32672 -0.02431   \nld                    -0.42273     0.48112     -0.08013  1.36502  0.10156   \nlegal                 -0.33946     0.38635     -0.06434  1.09616  0.08155   \nmrv                   -0.70733     0.80504     -0.13407  2.28406  0.16993   \nprogress               0.41959    -0.47754      0.07953 -1.35489 -0.10080   \n\nissue            differentiation      eaa  finance_vol  finance_who       ld  \\\nissue                                                                          \nadapt_finance            0.26573  0.35538      0.13620      0.10118 -0.42273   \nadapt_inst              -0.30243 -0.40447     -0.15501     -0.11516  0.48112   \nadapt_legal              0.05037  0.06736      0.02582      0.01918 -0.08013   \namb2050                 -0.85806 -1.14757     -0.43980     -0.32672  1.36502   \namb2100                 -0.06384 -0.08538     -0.03272     -0.02431  0.10156   \ndifferentiation          0.32137  0.42980      0.16472      0.12237 -0.51124   \neaa                      0.42980  0.57481      0.22030      0.16365 -0.68374   \nfinance_vol              0.16472  0.22030      0.08443      0.06272 -0.26204   \nfinance_who              0.12237  0.16365      0.06272      0.04659 -0.19467   \nld                      -0.51124 -0.68374     -0.26204     -0.19467  0.81330   \nlegal                   -0.41055 -0.54906     -0.21043     -0.15632  0.65311   \nmrv                     -0.85545 -1.14408     -0.43847     -0.32573  1.36088   \nprogress                 0.50745  0.67866      0.26010      0.19322 -0.80726   \n\nissue              legal      mrv  progress  \nissue                                        \nadapt_finance   -0.33946 -0.70733   0.41959  \nadapt_inst       0.38635  0.80504  -0.47754  \nadapt_legal     -0.06434 -0.13407   0.07953  \namb2050          1.09616  2.28406  -1.35489  \namb2100          0.08155  0.16993  -0.10080  \ndifferentiation -0.41055 -0.85545   0.50745  \neaa             -0.54906 -1.14408   0.67866  \nfinance_vol     -0.21043 -0.43847   0.26010  \nfinance_who     -0.15632 -0.32573   0.19322  \nld               0.65311  1.36088  -0.80726  \nlegal            0.52447  1.09283  -0.64826  \nmrv              1.09283  2.27712  -1.35077  \nprogress        -0.64826 -1.35077   0.80127  ",
      "text/html": "<div>\n<style scoped>\n    .dataframe tbody tr th:only-of-type {\n        vertical-align: middle;\n    }\n\n    .dataframe tbody tr th {\n        vertical-align: top;\n    }\n\n    .dataframe thead th {\n        text-align: right;\n    }\n</style>\n<table border=\"1\" class=\"dataframe\">\n  <thead>\n    <tr style=\"text-align: right;\">\n      <th>issue</th>\n      <th>adapt_finance</th>\n      <th>adapt_inst</th>\n      <th>adapt_legal</th>\n      <th>amb2050</th>\n      <th>amb2100</th>\n      <th>differentiation</th>\n      <th>eaa</th>\n      <th>finance_vol</th>\n      <th>finance_who</th>\n      <th>ld</th>\n      <th>legal</th>\n      <th>mrv</th>\n      <th>progress</th>\n    </tr>\n    <tr>\n      <th>issue</th>\n      <th></th>\n      <th></th>\n      <th></th>\n      <th></th>\n      <th></th>\n      <th></th>\n      <th></th>\n      <th></th>\n      <th></th>\n      <th></th>\n      <th></th>\n      <th></th>\n      <th></th>\n    </tr>\n  </thead>\n  <tbody>\n    <tr>\n      <th>adapt_finance</th>\n      <td>0.21972</td>\n      <td>-0.25007</td>\n      <td>0.04165</td>\n      <td>-0.70949</td>\n      <td>-0.05279</td>\n      <td>0.26573</td>\n      <td>0.35538</td>\n      <td>0.13620</td>\n      <td>0.10118</td>\n      <td>-0.42273</td>\n      <td>-0.33946</td>\n      <td>-0.70733</td>\n      <td>0.41959</td>\n    </tr>\n    <tr>\n      <th>adapt_inst</th>\n      <td>-0.25007</td>\n      <td>0.28461</td>\n      <td>-0.04740</td>\n      <td>0.80749</td>\n      <td>0.06008</td>\n      <td>-0.30243</td>\n      <td>-0.40447</td>\n      <td>-0.15501</td>\n      <td>-0.11516</td>\n      <td>0.48112</td>\n      <td>0.38635</td>\n      <td>0.80504</td>\n      <td>-0.47754</td>\n    </tr>\n    <tr>\n      <th>adapt_legal</th>\n      <td>0.04165</td>\n      <td>-0.04740</td>\n      <td>0.00789</td>\n      <td>-0.13448</td>\n      <td>-0.01001</td>\n      <td>0.05037</td>\n      <td>0.06736</td>\n      <td>0.02582</td>\n      <td>0.01918</td>\n      <td>-0.08013</td>\n      <td>-0.06434</td>\n      <td>-0.13407</td>\n      <td>0.07953</td>\n    </tr>\n    <tr>\n      <th>amb2050</th>\n      <td>-0.70949</td>\n      <td>0.80749</td>\n      <td>-0.13448</td>\n      <td>2.29102</td>\n      <td>0.17045</td>\n      <td>-0.85806</td>\n      <td>-1.14757</td>\n      <td>-0.43980</td>\n      <td>-0.32672</td>\n      <td>1.36502</td>\n      <td>1.09616</td>\n      <td>2.28406</td>\n      <td>-1.35489</td>\n    </tr>\n    <tr>\n      <th>amb2100</th>\n      <td>-0.05279</td>\n      <td>0.06008</td>\n      <td>-0.01001</td>\n      <td>0.17045</td>\n      <td>0.01268</td>\n      <td>-0.06384</td>\n      <td>-0.08538</td>\n      <td>-0.03272</td>\n      <td>-0.02431</td>\n      <td>0.10156</td>\n      <td>0.08155</td>\n      <td>0.16993</td>\n      <td>-0.10080</td>\n    </tr>\n    <tr>\n      <th>differentiation</th>\n      <td>0.26573</td>\n      <td>-0.30243</td>\n      <td>0.05037</td>\n      <td>-0.85806</td>\n      <td>-0.06384</td>\n      <td>0.32137</td>\n      <td>0.42980</td>\n      <td>0.16472</td>\n      <td>0.12237</td>\n      <td>-0.51124</td>\n      <td>-0.41055</td>\n      <td>-0.85545</td>\n      <td>0.50745</td>\n    </tr>\n    <tr>\n      <th>eaa</th>\n      <td>0.35538</td>\n      <td>-0.40447</td>\n      <td>0.06736</td>\n      <td>-1.14757</td>\n      <td>-0.08538</td>\n      <td>0.42980</td>\n      <td>0.57481</td>\n      <td>0.22030</td>\n      <td>0.16365</td>\n      <td>-0.68374</td>\n      <td>-0.54906</td>\n      <td>-1.14408</td>\n      <td>0.67866</td>\n    </tr>\n    <tr>\n      <th>finance_vol</th>\n      <td>0.13620</td>\n      <td>-0.15501</td>\n      <td>0.02582</td>\n      <td>-0.43980</td>\n      <td>-0.03272</td>\n      <td>0.16472</td>\n      <td>0.22030</td>\n      <td>0.08443</td>\n      <td>0.06272</td>\n      <td>-0.26204</td>\n      <td>-0.21043</td>\n      <td>-0.43847</td>\n      <td>0.26010</td>\n    </tr>\n    <tr>\n      <th>finance_who</th>\n      <td>0.10118</td>\n      <td>-0.11516</td>\n      <td>0.01918</td>\n      <td>-0.32672</td>\n      <td>-0.02431</td>\n      <td>0.12237</td>\n      <td>0.16365</td>\n      <td>0.06272</td>\n      <td>0.04659</td>\n      <td>-0.19467</td>\n      <td>-0.15632</td>\n      <td>-0.32573</td>\n      <td>0.19322</td>\n    </tr>\n    <tr>\n      <th>ld</th>\n      <td>-0.42273</td>\n      <td>0.48112</td>\n      <td>-0.08013</td>\n      <td>1.36502</td>\n      <td>0.10156</td>\n      <td>-0.51124</td>\n      <td>-0.68374</td>\n      <td>-0.26204</td>\n      <td>-0.19467</td>\n      <td>0.81330</td>\n      <td>0.65311</td>\n      <td>1.36088</td>\n      <td>-0.80726</td>\n    </tr>\n    <tr>\n      <th>legal</th>\n      <td>-0.33946</td>\n      <td>0.38635</td>\n      <td>-0.06434</td>\n      <td>1.09616</td>\n      <td>0.08155</td>\n      <td>-0.41055</td>\n      <td>-0.54906</td>\n      <td>-0.21043</td>\n      <td>-0.15632</td>\n      <td>0.65311</td>\n      <td>0.52447</td>\n      <td>1.09283</td>\n      <td>-0.64826</td>\n    </tr>\n    <tr>\n      <th>mrv</th>\n      <td>-0.70733</td>\n      <td>0.80504</td>\n      <td>-0.13407</td>\n      <td>2.28406</td>\n      <td>0.16993</td>\n      <td>-0.85545</td>\n      <td>-1.14408</td>\n      <td>-0.43847</td>\n      <td>-0.32573</td>\n      <td>1.36088</td>\n      <td>1.09283</td>\n      <td>2.27712</td>\n      <td>-1.35077</td>\n    </tr>\n    <tr>\n      <th>progress</th>\n      <td>0.41959</td>\n      <td>-0.47754</td>\n      <td>0.07953</td>\n      <td>-1.35489</td>\n      <td>-0.10080</td>\n      <td>0.50745</td>\n      <td>0.67866</td>\n      <td>0.26010</td>\n      <td>0.19322</td>\n      <td>-0.80726</td>\n      <td>-0.64826</td>\n      <td>-1.35077</td>\n      <td>0.80127</td>\n    </tr>\n  </tbody>\n</table>\n</div>"
     },
     "metadata": {},
     "output_type": "display_data"
    },
    {
     "data": {
      "text/plain": "<IPython.core.display.HTML object>",
      "text/html": "<h1>p=0.8</h1>"
     },
     "metadata": {},
     "output_type": "display_data"
    },
    {
     "data": {
      "text/plain": "issue            adapt_finance  adapt_inst  adapt_legal  amb2050  amb2100  \\\nissue                                                                       \nadapt_finance          0.05394    -0.42312      0.00435 -0.07386  0.27443   \nadapt_inst            -0.42312     3.31927     -0.03415  0.57943 -2.15284   \nadapt_legal            0.00435    -0.03415      0.00035 -0.00596  0.02215   \namb2050               -0.07386     0.57943     -0.00596  0.10115 -0.37581   \namb2100                0.27443    -2.15284      0.02215 -0.37581  1.39630   \ndifferentiation       -0.76974     6.03838     -0.06213  1.05409 -3.91642   \neaa                    0.41970    -3.29245      0.03388 -0.57475  2.13544   \nfinance_vol            0.38303    -3.00474      0.03092 -0.52452  1.94883   \nfinance_who            0.26104    -2.04776      0.02107 -0.35747  1.32815   \nld                    -0.27879     2.18701     -0.02250  0.38177 -1.41847   \nlegal                  0.31843    -2.49800      0.02570 -0.43606  1.62017   \nmrv                   -1.02461     8.03780     -0.08271  1.40311 -5.21321   \nprogress              -0.18497     1.45106     -0.01493  0.25330 -0.94114   \n\nissue            differentiation      eaa  finance_vol  finance_who       ld  \\\nissue                                                                          \nadapt_finance           -0.76974  0.41970      0.38303      0.26104 -0.27879   \nadapt_inst               6.03838 -3.29245     -3.00474     -2.04776  2.18701   \nadapt_legal             -0.06213  0.03388      0.03092      0.02107 -0.02250   \namb2050                  1.05409 -0.57475     -0.52452     -0.35747  0.38177   \namb2100                 -3.91642  2.13544      1.94883      1.32815 -1.41847   \ndifferentiation         10.98496 -5.98960     -5.46619     -3.72527  3.97859   \neaa                     -5.98960  3.26585      2.98046      2.03122 -2.16934   \nfinance_vol             -5.46619  2.98046      2.72001      1.85372 -1.97977   \nfinance_who             -3.72527  2.03122      1.85372      1.26333 -1.34924   \nld                       3.97859 -2.16934     -1.97977     -1.34924  1.44099   \nlegal                   -4.54434  2.47782      2.26129      1.54110 -1.64589   \nmrv                     14.62229 -7.97286     -7.27614     -4.95878  5.29597   \nprogress                 2.63975 -1.43934     -1.31356     -0.89521  0.95608   \n\nissue              legal       mrv  progress  \nissue                                         \nadapt_finance    0.31843  -1.02461  -0.18497  \nadapt_inst      -2.49800   8.03780   1.45106  \nadapt_legal      0.02570  -0.08271  -0.01493  \namb2050         -0.43606   1.40311   0.25330  \namb2100          1.62017  -5.21321  -0.94114  \ndifferentiation -4.54434  14.62229   2.63975  \neaa              2.47782  -7.97286  -1.43934  \nfinance_vol      2.26129  -7.27614  -1.31356  \nfinance_who      1.54110  -4.95878  -0.89521  \nld              -1.64589   5.29597   0.95608  \nlegal            1.87993  -6.04905  -1.09203  \nmrv             -6.04905  19.46399   3.51382  \nprogress        -1.09203   3.51382   0.63435  ",
      "text/html": "<div>\n<style scoped>\n    .dataframe tbody tr th:only-of-type {\n        vertical-align: middle;\n    }\n\n    .dataframe tbody tr th {\n        vertical-align: top;\n    }\n\n    .dataframe thead th {\n        text-align: right;\n    }\n</style>\n<table border=\"1\" class=\"dataframe\">\n  <thead>\n    <tr style=\"text-align: right;\">\n      <th>issue</th>\n      <th>adapt_finance</th>\n      <th>adapt_inst</th>\n      <th>adapt_legal</th>\n      <th>amb2050</th>\n      <th>amb2100</th>\n      <th>differentiation</th>\n      <th>eaa</th>\n      <th>finance_vol</th>\n      <th>finance_who</th>\n      <th>ld</th>\n      <th>legal</th>\n      <th>mrv</th>\n      <th>progress</th>\n    </tr>\n    <tr>\n      <th>issue</th>\n      <th></th>\n      <th></th>\n      <th></th>\n      <th></th>\n      <th></th>\n      <th></th>\n      <th></th>\n      <th></th>\n      <th></th>\n      <th></th>\n      <th></th>\n      <th></th>\n      <th></th>\n    </tr>\n  </thead>\n  <tbody>\n    <tr>\n      <th>adapt_finance</th>\n      <td>0.05394</td>\n      <td>-0.42312</td>\n      <td>0.00435</td>\n      <td>-0.07386</td>\n      <td>0.27443</td>\n      <td>-0.76974</td>\n      <td>0.41970</td>\n      <td>0.38303</td>\n      <td>0.26104</td>\n      <td>-0.27879</td>\n      <td>0.31843</td>\n      <td>-1.02461</td>\n      <td>-0.18497</td>\n    </tr>\n    <tr>\n      <th>adapt_inst</th>\n      <td>-0.42312</td>\n      <td>3.31927</td>\n      <td>-0.03415</td>\n      <td>0.57943</td>\n      <td>-2.15284</td>\n      <td>6.03838</td>\n      <td>-3.29245</td>\n      <td>-3.00474</td>\n      <td>-2.04776</td>\n      <td>2.18701</td>\n      <td>-2.49800</td>\n      <td>8.03780</td>\n      <td>1.45106</td>\n    </tr>\n    <tr>\n      <th>adapt_legal</th>\n      <td>0.00435</td>\n      <td>-0.03415</td>\n      <td>0.00035</td>\n      <td>-0.00596</td>\n      <td>0.02215</td>\n      <td>-0.06213</td>\n      <td>0.03388</td>\n      <td>0.03092</td>\n      <td>0.02107</td>\n      <td>-0.02250</td>\n      <td>0.02570</td>\n      <td>-0.08271</td>\n      <td>-0.01493</td>\n    </tr>\n    <tr>\n      <th>amb2050</th>\n      <td>-0.07386</td>\n      <td>0.57943</td>\n      <td>-0.00596</td>\n      <td>0.10115</td>\n      <td>-0.37581</td>\n      <td>1.05409</td>\n      <td>-0.57475</td>\n      <td>-0.52452</td>\n      <td>-0.35747</td>\n      <td>0.38177</td>\n      <td>-0.43606</td>\n      <td>1.40311</td>\n      <td>0.25330</td>\n    </tr>\n    <tr>\n      <th>amb2100</th>\n      <td>0.27443</td>\n      <td>-2.15284</td>\n      <td>0.02215</td>\n      <td>-0.37581</td>\n      <td>1.39630</td>\n      <td>-3.91642</td>\n      <td>2.13544</td>\n      <td>1.94883</td>\n      <td>1.32815</td>\n      <td>-1.41847</td>\n      <td>1.62017</td>\n      <td>-5.21321</td>\n      <td>-0.94114</td>\n    </tr>\n    <tr>\n      <th>differentiation</th>\n      <td>-0.76974</td>\n      <td>6.03838</td>\n      <td>-0.06213</td>\n      <td>1.05409</td>\n      <td>-3.91642</td>\n      <td>10.98496</td>\n      <td>-5.98960</td>\n      <td>-5.46619</td>\n      <td>-3.72527</td>\n      <td>3.97859</td>\n      <td>-4.54434</td>\n      <td>14.62229</td>\n      <td>2.63975</td>\n    </tr>\n    <tr>\n      <th>eaa</th>\n      <td>0.41970</td>\n      <td>-3.29245</td>\n      <td>0.03388</td>\n      <td>-0.57475</td>\n      <td>2.13544</td>\n      <td>-5.98960</td>\n      <td>3.26585</td>\n      <td>2.98046</td>\n      <td>2.03122</td>\n      <td>-2.16934</td>\n      <td>2.47782</td>\n      <td>-7.97286</td>\n      <td>-1.43934</td>\n    </tr>\n    <tr>\n      <th>finance_vol</th>\n      <td>0.38303</td>\n      <td>-3.00474</td>\n      <td>0.03092</td>\n      <td>-0.52452</td>\n      <td>1.94883</td>\n      <td>-5.46619</td>\n      <td>2.98046</td>\n      <td>2.72001</td>\n      <td>1.85372</td>\n      <td>-1.97977</td>\n      <td>2.26129</td>\n      <td>-7.27614</td>\n      <td>-1.31356</td>\n    </tr>\n    <tr>\n      <th>finance_who</th>\n      <td>0.26104</td>\n      <td>-2.04776</td>\n      <td>0.02107</td>\n      <td>-0.35747</td>\n      <td>1.32815</td>\n      <td>-3.72527</td>\n      <td>2.03122</td>\n      <td>1.85372</td>\n      <td>1.26333</td>\n      <td>-1.34924</td>\n      <td>1.54110</td>\n      <td>-4.95878</td>\n      <td>-0.89521</td>\n    </tr>\n    <tr>\n      <th>ld</th>\n      <td>-0.27879</td>\n      <td>2.18701</td>\n      <td>-0.02250</td>\n      <td>0.38177</td>\n      <td>-1.41847</td>\n      <td>3.97859</td>\n      <td>-2.16934</td>\n      <td>-1.97977</td>\n      <td>-1.34924</td>\n      <td>1.44099</td>\n      <td>-1.64589</td>\n      <td>5.29597</td>\n      <td>0.95608</td>\n    </tr>\n    <tr>\n      <th>legal</th>\n      <td>0.31843</td>\n      <td>-2.49800</td>\n      <td>0.02570</td>\n      <td>-0.43606</td>\n      <td>1.62017</td>\n      <td>-4.54434</td>\n      <td>2.47782</td>\n      <td>2.26129</td>\n      <td>1.54110</td>\n      <td>-1.64589</td>\n      <td>1.87993</td>\n      <td>-6.04905</td>\n      <td>-1.09203</td>\n    </tr>\n    <tr>\n      <th>mrv</th>\n      <td>-1.02461</td>\n      <td>8.03780</td>\n      <td>-0.08271</td>\n      <td>1.40311</td>\n      <td>-5.21321</td>\n      <td>14.62229</td>\n      <td>-7.97286</td>\n      <td>-7.27614</td>\n      <td>-4.95878</td>\n      <td>5.29597</td>\n      <td>-6.04905</td>\n      <td>19.46399</td>\n      <td>3.51382</td>\n    </tr>\n    <tr>\n      <th>progress</th>\n      <td>-0.18497</td>\n      <td>1.45106</td>\n      <td>-0.01493</td>\n      <td>0.25330</td>\n      <td>-0.94114</td>\n      <td>2.63975</td>\n      <td>-1.43934</td>\n      <td>-1.31356</td>\n      <td>-0.89521</td>\n      <td>0.95608</td>\n      <td>-1.09203</td>\n      <td>3.51382</td>\n      <td>0.63435</td>\n    </tr>\n  </tbody>\n</table>\n</div>"
     },
     "metadata": {},
     "output_type": "display_data"
    }
   ],
   "source": [
    "for p in sorted(set(df.index)):\n",
    "    x = df.loc[p].pivot(index='pointer', columns='issue', values='nbs').cov().round(5)\n",
    "    display(HTML('<h1>p={}</h1>'.format(str(p))))\n",
    "    display(x)\n"
   ]
  }
 ],
 "metadata": {
  "kernelspec": {
   "display_name": "Python 3",
   "language": "python",
   "name": "python3"
  },
  "language_info": {
   "codemirror_mode": {
    "name": "ipython",
    "version": 3
   },
   "file_extension": ".py",
   "mimetype": "text/x-python",
   "name": "python",
   "nbconvert_exporter": "python",
   "pygments_lexer": "ipython3",
   "version": "3.5.2"
  },
  "widgets": {
   "application/vnd.jupyter.widget-state+json": {
    "state": {
     "0106c8e19d714070add39ce8c6d73b83": {
      "model_module": "@jupyter-widgets/controls",
      "model_module_version": "1.0.0",
      "model_name": "DescriptionStyleModel",
      "state": {
       "_model_module_version": "1.0.0",
       "description_width": ""
      }
     },
     "05ffd955194744c0931e197349bda24f": {
      "model_module": "@jupyter-widgets/controls",
      "model_module_version": "1.0.0",
      "model_name": "DropdownModel",
      "state": {
       "_model_module_version": "1.0.0",
       "_options_labels": [
        "sample_data"
       ],
       "_view_module_version": "1.0.0",
       "description": "Select issue to analyze:",
       "index": 0,
       "layout": "IPY_MODEL_da298dc1df5e4f37b66ee3ccc5207925",
       "style": "IPY_MODEL_55e5ac3ffc044f14ba3b84c02cc8871b"
      }
     },
     "0690aa319f674bcebabbe7fd26745c8c": {
      "model_module": "@jupyter-widgets/controls",
      "model_module_version": "1.0.0",
      "model_name": "DropdownModel",
      "state": {
       "_model_module_version": "1.0.0",
       "_options_labels": [
        "sample_data"
       ],
       "_view_module_version": "1.0.0",
       "description": "Select issue to analyze:",
       "index": 0,
       "layout": "IPY_MODEL_124abcde0a444e8a9f518d82f8273c79",
       "style": "IPY_MODEL_7ab7143893ed413ca5d3f8c49749a7aa"
      }
     },
     "078b1bc0862e440ebee776e7cc6f2ca1": {
      "model_module": "@jupyter-widgets/controls",
      "model_module_version": "1.0.0",
      "model_name": "DropdownModel",
      "state": {
       "_model_module_version": "1.0.0",
       "_view_module_version": "1.0.0",
       "description": "Select issue to analyze:",
       "index": null,
       "layout": "IPY_MODEL_aaa070ab3e4b43e3bb8ad5c819cac38c",
       "style": "IPY_MODEL_3d50bc3e39fc434db6c260e86da08c41"
      }
     },
     "0a2cc3cab12d48db8c1c17e93e60995c": {
      "model_module": "@jupyter-widgets/base",
      "model_module_version": "1.0.0",
      "model_name": "LayoutModel",
      "state": {}
     },
     "0ab57299fd0f43ada8a7a252e70a5edf": {
      "model_module": "@jupyter-widgets/controls",
      "model_module_version": "1.0.0",
      "model_name": "DescriptionStyleModel",
      "state": {
       "_model_module_version": "1.0.0",
       "description_width": ""
      }
     },
     "0ca6d24c7b6a4b6ea0edf957368b0663": {
      "model_module": "@jupyter-widgets/base",
      "model_module_version": "1.0.0",
      "model_name": "LayoutModel",
      "state": {}
     },
     "0d987e90ff7c49898248c93fe4517bad": {
      "model_module": "@jupyter-widgets/controls",
      "model_module_version": "1.0.0",
      "model_name": "DropdownModel",
      "state": {
       "_model_module_version": "1.0.0",
       "_options_labels": [
        "0.1",
        "0.2",
        "0.3"
       ],
       "_view_module_version": "1.0.0",
       "description": "Select run:",
       "index": 2,
       "layout": "IPY_MODEL_4f4a8afc467a4ae6afc610c8f48e3306",
       "style": "IPY_MODEL_4c8bbaa2e79a4121833bbb0f29517d6c"
      }
     },
     "0f4d1c3da1d44cafab21de52277ce867": {
      "model_module": "@jupyter-widgets/controls",
      "model_module_version": "1.0.0",
      "model_name": "DescriptionStyleModel",
      "state": {
       "_model_module_version": "1.0.0",
       "description_width": ""
      }
     },
     "107743c285324bbdb88ddede4d318a02": {
      "model_module": "@jupyter-widgets/controls",
      "model_module_version": "1.0.0",
      "model_name": "DropdownModel",
      "state": {
       "_model_module_version": "1.0.0",
       "_options_labels": [
        "sample_data"
       ],
       "_view_module_version": "1.0.0",
       "description": "Select issue to analyze:",
       "index": 0,
       "layout": "IPY_MODEL_977b546ae6b74f9ab297675c203b0194",
       "style": "IPY_MODEL_0ab57299fd0f43ada8a7a252e70a5edf"
      }
     },
     "124abcde0a444e8a9f518d82f8273c79": {
      "model_module": "@jupyter-widgets/base",
      "model_module_version": "1.0.0",
      "model_name": "LayoutModel",
      "state": {}
     },
     "15d1bad56b81403fba9ff137717ff7bf": {
      "model_module": "@jupyter-widgets/controls",
      "model_module_version": "1.0.0",
      "model_name": "DescriptionStyleModel",
      "state": {
       "_model_module_version": "1.0.0",
       "description_width": ""
      }
     },
     "1652d0fbd6f147c899fbbb1f00254606": {
      "model_module": "@jupyter-widgets/base",
      "model_module_version": "1.0.0",
      "model_name": "LayoutModel",
      "state": {}
     },
     "1aa61d142aa24d90bf8fd37252c037e5": {
      "model_module": "@jupyter-widgets/controls",
      "model_module_version": "1.0.0",
      "model_name": "DropdownModel",
      "state": {
       "_model_module_version": "1.0.0",
       "_view_module_version": "1.0.0",
       "description": "Select dataset:",
       "index": null,
       "layout": "IPY_MODEL_2dd1298dfdda465790c55b05dd55f832",
       "style": "IPY_MODEL_d57a7c688b01494590d03abcc98d16ad"
      }
     },
     "1d3c88c3f9144bf3902709f17343eecb": {
      "model_module": "@jupyter-widgets/base",
      "model_module_version": "1.0.0",
      "model_name": "LayoutModel",
      "state": {}
     },
     "1dd2992ac3644fddaa7f723bd87568ee": {
      "model_module": "@jupyter-widgets/base",
      "model_module_version": "1.0.0",
      "model_name": "LayoutModel",
      "state": {}
     },
     "21451bdbd1b14f2bba0ed14f279bc375": {
      "model_module": "@jupyter-widgets/controls",
      "model_module_version": "1.0.0",
      "model_name": "DropdownModel",
      "state": {
       "_model_module_version": "1.0.0",
       "_options_labels": [
        "0.1",
        "0.2",
        "0.3"
       ],
       "_view_module_version": "1.0.0",
       "description": "Select run:",
       "index": 0,
       "layout": "IPY_MODEL_a2d1aeed6e1b4a1fabc71e5a27ef872e",
       "style": "IPY_MODEL_3319572e841e4ef28805dc407495bc42"
      }
     },
     "21dd35190f0342e8a7681c6d9167b49e": {
      "model_module": "@jupyter-widgets/controls",
      "model_module_version": "1.0.0",
      "model_name": "DescriptionStyleModel",
      "state": {
       "_model_module_version": "1.0.0",
       "description_width": ""
      }
     },
     "249a851e18df4f3883bc5dee8b162f2b": {
      "model_module": "@jupyter-widgets/controls",
      "model_module_version": "1.0.0",
      "model_name": "DropdownModel",
      "state": {
       "_model_module_version": "1.0.0",
       "_options_labels": [
        "0.1",
        "0.2",
        "0.3"
       ],
       "_view_module_version": "1.0.0",
       "description": "Select run:",
       "index": 0,
       "layout": "IPY_MODEL_c2d364ec438944e4b4f64f39d8d999bf",
       "style": "IPY_MODEL_8de84a3800f84174876233ae13266698"
      }
     },
     "283758d2ac7f4717ad22331a664b6b43": {
      "model_module": "@jupyter-widgets/controls",
      "model_module_version": "1.0.0",
      "model_name": "DropdownModel",
      "state": {
       "_model_module_version": "1.0.0",
       "_options_labels": [
        "sample_data"
       ],
       "_view_module_version": "1.0.0",
       "description": "Select dataset:",
       "index": 0,
       "layout": "IPY_MODEL_0a2cc3cab12d48db8c1c17e93e60995c",
       "style": "IPY_MODEL_7b8633c702d6438ea3bb31515ce9620e"
      }
     },
     "29386762f0704e4daaf9e341557aa058": {
      "model_module": "@jupyter-widgets/controls",
      "model_module_version": "1.0.0",
      "model_name": "DescriptionStyleModel",
      "state": {
       "_model_module_version": "1.0.0",
       "description_width": ""
      }
     },
     "2bfb3a1234d441c88260fa3f26acdf84": {
      "model_module": "@jupyter-widgets/controls",
      "model_module_version": "1.0.0",
      "model_name": "DropdownModel",
      "state": {
       "_model_module_version": "1.0.0",
       "_options_labels": [
        "0.2",
        "0.1",
        "0.3"
       ],
       "_view_module_version": "1.0.0",
       "description": "Select run:",
       "index": 2,
       "layout": "IPY_MODEL_d9ea472045434d0597ae657cb774a867",
       "style": "IPY_MODEL_6701605bc1c84d299d629ebdd9b3dc30"
      }
     },
     "2dd1298dfdda465790c55b05dd55f832": {
      "model_module": "@jupyter-widgets/base",
      "model_module_version": "1.0.0",
      "model_name": "LayoutModel",
      "state": {}
     },
     "2f4c7e67fa3d4a7cb0cdc53c2a07951b": {
      "model_module": "@jupyter-widgets/controls",
      "model_module_version": "1.0.0",
      "model_name": "DescriptionStyleModel",
      "state": {
       "_model_module_version": "1.0.0",
       "description_width": ""
      }
     },
     "3319572e841e4ef28805dc407495bc42": {
      "model_module": "@jupyter-widgets/controls",
      "model_module_version": "1.0.0",
      "model_name": "DescriptionStyleModel",
      "state": {
       "_model_module_version": "1.0.0",
       "description_width": ""
      }
     },
     "333dd7d63a7e4de2a9bf29cdd18239a6": {
      "model_module": "@jupyter-widgets/base",
      "model_module_version": "1.0.0",
      "model_name": "LayoutModel",
      "state": {}
     },
     "342765ce373f4e959850528ca701255b": {
      "model_module": "@jupyter-widgets/base",
      "model_module_version": "1.0.0",
      "model_name": "LayoutModel",
      "state": {}
     },
     "35688b5062f949aeb61767c7e8c91237": {
      "model_module": "@jupyter-widgets/controls",
      "model_module_version": "1.0.0",
      "model_name": "DropdownModel",
      "state": {
       "_model_module_version": "1.0.0",
       "_options_labels": [
        "0.1",
        "0.2",
        "0.3"
       ],
       "_view_module_version": "1.0.0",
       "description": "Select run:",
       "index": 2,
       "layout": "IPY_MODEL_c1c41ba92ccb4a7aa070a18379bb8b54",
       "style": "IPY_MODEL_5b0b436c6848492eb819e24c4cc5b64d"
      }
     },
     "37cf316a4cce427aa41a056f4e05fc38": {
      "model_module": "@jupyter-widgets/base",
      "model_module_version": "1.0.0",
      "model_name": "LayoutModel",
      "state": {}
     },
     "3ae524dd45cd409096b3152405a24780": {
      "model_module": "@jupyter-widgets/base",
      "model_module_version": "1.0.0",
      "model_name": "LayoutModel",
      "state": {}
     },
     "3cea50c2e1e64b98918d63075e18e1cd": {
      "model_module": "@jupyter-widgets/controls",
      "model_module_version": "1.0.0",
      "model_name": "DropdownModel",
      "state": {
       "_model_module_version": "1.0.0",
       "_options_labels": [
        "sample_data"
       ],
       "_view_module_version": "1.0.0",
       "description": "Select dataset:",
       "index": 0,
       "layout": "IPY_MODEL_77db4041b206492582801e866a501856",
       "style": "IPY_MODEL_594fee376c094cee972f665d89416c1a"
      }
     },
     "3d50bc3e39fc434db6c260e86da08c41": {
      "model_module": "@jupyter-widgets/controls",
      "model_module_version": "1.0.0",
      "model_name": "DescriptionStyleModel",
      "state": {
       "_model_module_version": "1.0.0",
       "description_width": ""
      }
     },
     "442861bf08d341d4a7c693a347eb6d93": {
      "model_module": "@jupyter-widgets/controls",
      "model_module_version": "1.0.0",
      "model_name": "DescriptionStyleModel",
      "state": {
       "_model_module_version": "1.0.0",
       "description_width": ""
      }
     },
     "4c8bbaa2e79a4121833bbb0f29517d6c": {
      "model_module": "@jupyter-widgets/controls",
      "model_module_version": "1.0.0",
      "model_name": "DescriptionStyleModel",
      "state": {
       "_model_module_version": "1.0.0",
       "description_width": ""
      }
     },
     "4cc898a656e74bc5b5cbf73b0555ce05": {
      "model_module": "@jupyter-widgets/base",
      "model_module_version": "1.0.0",
      "model_name": "LayoutModel",
      "state": {}
     },
     "4ce859bdba3f490b99cad4defab030de": {
      "model_module": "@jupyter-widgets/base",
      "model_module_version": "1.0.0",
      "model_name": "LayoutModel",
      "state": {}
     },
     "4f4a8afc467a4ae6afc610c8f48e3306": {
      "model_module": "@jupyter-widgets/base",
      "model_module_version": "1.0.0",
      "model_name": "LayoutModel",
      "state": {}
     },
     "513adcb8dcfc4815958253d0dff162b8": {
      "model_module": "@jupyter-widgets/base",
      "model_module_version": "1.0.0",
      "model_name": "LayoutModel",
      "state": {}
     },
     "52cc08d324914e448f57254e109598db": {
      "model_module": "@jupyter-widgets/controls",
      "model_module_version": "1.0.0",
      "model_name": "DropdownModel",
      "state": {
       "_model_module_version": "1.0.0",
       "_options_labels": [
        "0.1",
        "0.2",
        "0.3"
       ],
       "_view_module_version": "1.0.0",
       "description": "Select run:",
       "index": 1,
       "layout": "IPY_MODEL_1652d0fbd6f147c899fbbb1f00254606",
       "style": "IPY_MODEL_75e12fee95044378926c075997e78fdc"
      }
     },
     "55e5ac3ffc044f14ba3b84c02cc8871b": {
      "model_module": "@jupyter-widgets/controls",
      "model_module_version": "1.0.0",
      "model_name": "DescriptionStyleModel",
      "state": {
       "_model_module_version": "1.0.0",
       "description_width": ""
      }
     },
     "56306b79c967455386522906ac691bfa": {
      "model_module": "@jupyter-widgets/base",
      "model_module_version": "1.0.0",
      "model_name": "LayoutModel",
      "state": {}
     },
     "594fee376c094cee972f665d89416c1a": {
      "model_module": "@jupyter-widgets/controls",
      "model_module_version": "1.0.0",
      "model_name": "DescriptionStyleModel",
      "state": {
       "_model_module_version": "1.0.0",
       "description_width": ""
      }
     },
     "5b0b436c6848492eb819e24c4cc5b64d": {
      "model_module": "@jupyter-widgets/controls",
      "model_module_version": "1.0.0",
      "model_name": "DescriptionStyleModel",
      "state": {
       "_model_module_version": "1.0.0",
       "description_width": ""
      }
     },
     "5d286befe1904019824ac36fa5eb7191": {
      "model_module": "@jupyter-widgets/controls",
      "model_module_version": "1.0.0",
      "model_name": "DescriptionStyleModel",
      "state": {
       "_model_module_version": "1.0.0",
       "description_width": ""
      }
     },
     "629802ad002446fc88180cc49a7ddde7": {
      "model_module": "@jupyter-widgets/controls",
      "model_module_version": "1.0.0",
      "model_name": "DescriptionStyleModel",
      "state": {
       "_model_module_version": "1.0.0",
       "description_width": ""
      }
     },
     "6701605bc1c84d299d629ebdd9b3dc30": {
      "model_module": "@jupyter-widgets/controls",
      "model_module_version": "1.0.0",
      "model_name": "DescriptionStyleModel",
      "state": {
       "_model_module_version": "1.0.0",
       "description_width": ""
      }
     },
     "6a7d975636b043feaac4d405b289f134": {
      "model_module": "@jupyter-widgets/base",
      "model_module_version": "1.0.0",
      "model_name": "LayoutModel",
      "state": {}
     },
     "6c49b7be01894973a27358371814cbed": {
      "model_module": "@jupyter-widgets/base",
      "model_module_version": "1.0.0",
      "model_name": "LayoutModel",
      "state": {}
     },
     "72ffc40ea2574b06967f298557a07e14": {
      "model_module": "@jupyter-widgets/controls",
      "model_module_version": "1.0.0",
      "model_name": "DropdownModel",
      "state": {
       "_model_module_version": "1.0.0",
       "_options_labels": [
        "sample_data"
       ],
       "_view_module_version": "1.0.0",
       "description": "Select dataset:",
       "index": 0,
       "layout": "IPY_MODEL_aad6c8e63d274c5d952eda64345e36ff",
       "style": "IPY_MODEL_a22458a6739d41deabea201d5a3f0cde"
      }
     },
     "7357ca54c03c43a8afce6f8964123f85": {
      "model_module": "@jupyter-widgets/controls",
      "model_module_version": "1.0.0",
      "model_name": "DropdownModel",
      "state": {
       "_model_module_version": "1.0.0",
       "_options_labels": [
        "sample_data"
       ],
       "_view_module_version": "1.0.0",
       "description": "Select run:",
       "index": 0,
       "layout": "IPY_MODEL_caf8ce746d3c45f8b3d5c9c6c49c3fa4",
       "style": "IPY_MODEL_2f4c7e67fa3d4a7cb0cdc53c2a07951b"
      }
     },
     "75e12fee95044378926c075997e78fdc": {
      "model_module": "@jupyter-widgets/controls",
      "model_module_version": "1.0.0",
      "model_name": "DescriptionStyleModel",
      "state": {
       "_model_module_version": "1.0.0",
       "description_width": ""
      }
     },
     "76547b317ae149b8bfdf53e5ad5aa059": {
      "model_module": "@jupyter-widgets/controls",
      "model_module_version": "1.0.0",
      "model_name": "DescriptionStyleModel",
      "state": {
       "_model_module_version": "1.0.0",
       "description_width": ""
      }
     },
     "77db4041b206492582801e866a501856": {
      "model_module": "@jupyter-widgets/base",
      "model_module_version": "1.0.0",
      "model_name": "LayoutModel",
      "state": {}
     },
     "796d5227473947b1afeca6db2fe8b877": {
      "model_module": "@jupyter-widgets/controls",
      "model_module_version": "1.0.0",
      "model_name": "DropdownModel",
      "state": {
       "_model_module_version": "1.0.0",
       "_options_labels": [
        "0.1",
        "0.2",
        "0.3"
       ],
       "_view_module_version": "1.0.0",
       "description": "Select run:",
       "index": 1,
       "layout": "IPY_MODEL_0ca6d24c7b6a4b6ea0edf957368b0663",
       "style": "IPY_MODEL_da91ab2b1eae4581aae8a76e09c47da8"
      }
     },
     "7ab7143893ed413ca5d3f8c49749a7aa": {
      "model_module": "@jupyter-widgets/controls",
      "model_module_version": "1.0.0",
      "model_name": "DescriptionStyleModel",
      "state": {
       "_model_module_version": "1.0.0",
       "description_width": ""
      }
     },
     "7b791c33d5a5452b90597099968bc3bc": {
      "model_module": "@jupyter-widgets/controls",
      "model_module_version": "1.0.0",
      "model_name": "DropdownModel",
      "state": {
       "_model_module_version": "1.0.0",
       "_options_labels": [
        "sample_data"
       ],
       "_view_module_version": "1.0.0",
       "description": "Select run:",
       "index": 0,
       "layout": "IPY_MODEL_56306b79c967455386522906ac691bfa",
       "style": "IPY_MODEL_29386762f0704e4daaf9e341557aa058"
      }
     },
     "7b8633c702d6438ea3bb31515ce9620e": {
      "model_module": "@jupyter-widgets/controls",
      "model_module_version": "1.0.0",
      "model_name": "DescriptionStyleModel",
      "state": {
       "_model_module_version": "1.0.0",
       "description_width": ""
      }
     },
     "7ba3834ca0e14f9eb7f518bc600aa58c": {
      "model_module": "@jupyter-widgets/controls",
      "model_module_version": "1.0.0",
      "model_name": "DescriptionStyleModel",
      "state": {
       "_model_module_version": "1.0.0",
       "description_width": ""
      }
     },
     "7c49f8a34fe643949df8140e618aa51b": {
      "model_module": "@jupyter-widgets/controls",
      "model_module_version": "1.0.0",
      "model_name": "DescriptionStyleModel",
      "state": {
       "_model_module_version": "1.0.0",
       "description_width": ""
      }
     },
     "805f57cae2174f208228db1d94e33dca": {
      "model_module": "@jupyter-widgets/controls",
      "model_module_version": "1.0.0",
      "model_name": "DropdownModel",
      "state": {
       "_model_module_version": "1.0.0",
       "_options_labels": [
        "0.1",
        "0.2",
        "0.3"
       ],
       "_view_module_version": "1.0.0",
       "description": "Select run:",
       "index": 1,
       "layout": "IPY_MODEL_4ce859bdba3f490b99cad4defab030de",
       "style": "IPY_MODEL_0f4d1c3da1d44cafab21de52277ce867"
      }
     },
     "834faaba9c1249faa5454399b126cf3d": {
      "model_module": "@jupyter-widgets/controls",
      "model_module_version": "1.0.0",
      "model_name": "DropdownModel",
      "state": {
       "_model_module_version": "1.0.0",
       "_options_labels": [
        "0.1",
        "0.2",
        "0.3"
       ],
       "_view_module_version": "1.0.0",
       "description": "Select run:",
       "index": 2,
       "layout": "IPY_MODEL_a3def36ee2514aafa0d99cc1f744228d",
       "style": "IPY_MODEL_88c0f88622b342abbe1588026500b6db"
      }
     },
     "86e74f59a2484ab0915657d1af126fcf": {
      "model_module": "@jupyter-widgets/controls",
      "model_module_version": "1.0.0",
      "model_name": "DescriptionStyleModel",
      "state": {
       "_model_module_version": "1.0.0",
       "description_width": ""
      }
     },
     "88c0f88622b342abbe1588026500b6db": {
      "model_module": "@jupyter-widgets/controls",
      "model_module_version": "1.0.0",
      "model_name": "DescriptionStyleModel",
      "state": {
       "_model_module_version": "1.0.0",
       "description_width": ""
      }
     },
     "89955f83fb72421191ed80cef44ff278": {
      "model_module": "@jupyter-widgets/controls",
      "model_module_version": "1.0.0",
      "model_name": "DescriptionStyleModel",
      "state": {
       "_model_module_version": "1.0.0",
       "description_width": ""
      }
     },
     "8de84a3800f84174876233ae13266698": {
      "model_module": "@jupyter-widgets/controls",
      "model_module_version": "1.0.0",
      "model_name": "DescriptionStyleModel",
      "state": {
       "_model_module_version": "1.0.0",
       "description_width": ""
      }
     },
     "8e50d8fe437249bfba86e4bfd13a9395": {
      "model_module": "@jupyter-widgets/base",
      "model_module_version": "1.0.0",
      "model_name": "LayoutModel",
      "state": {}
     },
     "8ec5952b2824482d94d6c3788e434aa3": {
      "model_module": "@jupyter-widgets/base",
      "model_module_version": "1.0.0",
      "model_name": "LayoutModel",
      "state": {}
     },
     "975bd430f60548bd9872d438743666b5": {
      "model_module": "@jupyter-widgets/controls",
      "model_module_version": "1.0.0",
      "model_name": "DescriptionStyleModel",
      "state": {
       "_model_module_version": "1.0.0",
       "description_width": ""
      }
     },
     "977b546ae6b74f9ab297675c203b0194": {
      "model_module": "@jupyter-widgets/base",
      "model_module_version": "1.0.0",
      "model_name": "LayoutModel",
      "state": {}
     },
     "9d5525406bad48b883d779bec7baaf58": {
      "model_module": "@jupyter-widgets/controls",
      "model_module_version": "1.0.0",
      "model_name": "DescriptionStyleModel",
      "state": {
       "_model_module_version": "1.0.0",
       "description_width": ""
      }
     },
     "a22458a6739d41deabea201d5a3f0cde": {
      "model_module": "@jupyter-widgets/controls",
      "model_module_version": "1.0.0",
      "model_name": "DescriptionStyleModel",
      "state": {
       "_model_module_version": "1.0.0",
       "description_width": ""
      }
     },
     "a2d1aeed6e1b4a1fabc71e5a27ef872e": {
      "model_module": "@jupyter-widgets/base",
      "model_module_version": "1.0.0",
      "model_name": "LayoutModel",
      "state": {}
     },
     "a3def36ee2514aafa0d99cc1f744228d": {
      "model_module": "@jupyter-widgets/base",
      "model_module_version": "1.0.0",
      "model_name": "LayoutModel",
      "state": {}
     },
     "a6f63f432cd546eda5d2f8a532fc6492": {
      "model_module": "@jupyter-widgets/base",
      "model_module_version": "1.0.0",
      "model_name": "LayoutModel",
      "state": {}
     },
     "aaa070ab3e4b43e3bb8ad5c819cac38c": {
      "model_module": "@jupyter-widgets/base",
      "model_module_version": "1.0.0",
      "model_name": "LayoutModel",
      "state": {}
     },
     "aad6c8e63d274c5d952eda64345e36ff": {
      "model_module": "@jupyter-widgets/base",
      "model_module_version": "1.0.0",
      "model_name": "LayoutModel",
      "state": {}
     },
     "adddc69584df4086a2587d64ad06c1ff": {
      "model_module": "@jupyter-widgets/controls",
      "model_module_version": "1.0.0",
      "model_name": "DropdownModel",
      "state": {
       "_model_module_version": "1.0.0",
       "_options_labels": [
        "0.1",
        "0.2",
        "0.3"
       ],
       "_view_module_version": "1.0.0",
       "description": "Select run:",
       "index": 0,
       "layout": "IPY_MODEL_afd75a2aae6b49dfaf20241a7b13a606",
       "style": "IPY_MODEL_975bd430f60548bd9872d438743666b5"
      }
     },
     "afd75a2aae6b49dfaf20241a7b13a606": {
      "model_module": "@jupyter-widgets/base",
      "model_module_version": "1.0.0",
      "model_name": "LayoutModel",
      "state": {}
     },
     "c0b13973daf844f5b929fb7d4b6b08af": {
      "model_module": "@jupyter-widgets/controls",
      "model_module_version": "1.0.0",
      "model_name": "DropdownModel",
      "state": {
       "_model_module_version": "1.0.0",
       "_options_labels": [
        "sample_data"
       ],
       "_view_module_version": "1.0.0",
       "description": "Select dataset:",
       "index": 0,
       "layout": "IPY_MODEL_8ec5952b2824482d94d6c3788e434aa3",
       "style": "IPY_MODEL_76547b317ae149b8bfdf53e5ad5aa059"
      }
     },
     "c10ae543a4d940d7bd8d35d1813aa21f": {
      "model_module": "@jupyter-widgets/controls",
      "model_module_version": "1.0.0",
      "model_name": "DropdownModel",
      "state": {
       "_model_module_version": "1.0.0",
       "_options_labels": [
        "0.1",
        "0.2",
        "0.3"
       ],
       "_view_module_version": "1.0.0",
       "description": "Select run:",
       "index": 1,
       "layout": "IPY_MODEL_333dd7d63a7e4de2a9bf29cdd18239a6",
       "style": "IPY_MODEL_7c49f8a34fe643949df8140e618aa51b"
      }
     },
     "c150219ec0114c3fbe4a6d30d490ee10": {
      "model_module": "@jupyter-widgets/controls",
      "model_module_version": "1.0.0",
      "model_name": "DescriptionStyleModel",
      "state": {
       "_model_module_version": "1.0.0",
       "description_width": ""
      }
     },
     "c1c41ba92ccb4a7aa070a18379bb8b54": {
      "model_module": "@jupyter-widgets/base",
      "model_module_version": "1.0.0",
      "model_name": "LayoutModel",
      "state": {}
     },
     "c2d364ec438944e4b4f64f39d8d999bf": {
      "model_module": "@jupyter-widgets/base",
      "model_module_version": "1.0.0",
      "model_name": "LayoutModel",
      "state": {}
     },
     "c54011c2975a4cf5930e0d02b3718167": {
      "model_module": "@jupyter-widgets/controls",
      "model_module_version": "1.0.0",
      "model_name": "DropdownModel",
      "state": {
       "_model_module_version": "1.0.0",
       "_options_labels": [
        "sample_data"
       ],
       "_view_module_version": "1.0.0",
       "description": "Select dataset:",
       "index": 0,
       "layout": "IPY_MODEL_4cc898a656e74bc5b5cbf73b0555ce05",
       "style": "IPY_MODEL_c57c4ff0e7234db594f9959c8bc33113"
      }
     },
     "c57c4ff0e7234db594f9959c8bc33113": {
      "model_module": "@jupyter-widgets/controls",
      "model_module_version": "1.0.0",
      "model_name": "DescriptionStyleModel",
      "state": {
       "_model_module_version": "1.0.0",
       "description_width": ""
      }
     },
     "c80a30d437d8454d8fdbe11978ac0778": {
      "model_module": "@jupyter-widgets/controls",
      "model_module_version": "1.0.0",
      "model_name": "DescriptionStyleModel",
      "state": {
       "_model_module_version": "1.0.0",
       "description_width": ""
      }
     },
     "caf8ce746d3c45f8b3d5c9c6c49c3fa4": {
      "model_module": "@jupyter-widgets/base",
      "model_module_version": "1.0.0",
      "model_name": "LayoutModel",
      "state": {}
     },
     "ce113d102ae64ec690faa61e1fbb5696": {
      "model_module": "@jupyter-widgets/controls",
      "model_module_version": "1.0.0",
      "model_name": "DropdownModel",
      "state": {
       "_model_module_version": "1.0.0",
       "_options_labels": [
        "0.1",
        "0.2",
        "0.3"
       ],
       "_view_module_version": "1.0.0",
       "description": "Select run:",
       "index": 0,
       "layout": "IPY_MODEL_37cf316a4cce427aa41a056f4e05fc38",
       "style": "IPY_MODEL_89955f83fb72421191ed80cef44ff278"
      }
     },
     "cff86e5af9ef4675af58115cfe8845ce": {
      "model_module": "@jupyter-widgets/controls",
      "model_module_version": "1.0.0",
      "model_name": "DropdownModel",
      "state": {
       "_model_module_version": "1.0.0",
       "_options_labels": [
        "sample_data"
       ],
       "_view_module_version": "1.0.0",
       "description": "Select dataset:",
       "index": 0,
       "layout": "IPY_MODEL_342765ce373f4e959850528ca701255b",
       "style": "IPY_MODEL_c80a30d437d8454d8fdbe11978ac0778"
      }
     },
     "d09eb1968e9e45aaa3b20dbb0183097f": {
      "model_module": "@jupyter-widgets/base",
      "model_module_version": "1.0.0",
      "model_name": "LayoutModel",
      "state": {}
     },
     "d266536d10534ef2bcb927630fa12c39": {
      "model_module": "@jupyter-widgets/controls",
      "model_module_version": "1.0.0",
      "model_name": "DropdownModel",
      "state": {
       "_model_module_version": "1.0.0",
       "_options_labels": [
        "0.1",
        "0.2",
        "0.3"
       ],
       "_view_module_version": "1.0.0",
       "description": "Select run:",
       "index": 1,
       "layout": "IPY_MODEL_3ae524dd45cd409096b3152405a24780",
       "style": "IPY_MODEL_21dd35190f0342e8a7681c6d9167b49e"
      }
     },
     "d57a7c688b01494590d03abcc98d16ad": {
      "model_module": "@jupyter-widgets/controls",
      "model_module_version": "1.0.0",
      "model_name": "DescriptionStyleModel",
      "state": {
       "_model_module_version": "1.0.0",
       "description_width": ""
      }
     },
     "d6107a85081b4318bfc64abbe7084f25": {
      "model_module": "@jupyter-widgets/controls",
      "model_module_version": "1.0.0",
      "model_name": "DropdownModel",
      "state": {
       "_model_module_version": "1.0.0",
       "_options_labels": [
        "0.1",
        "0.2",
        "0.3"
       ],
       "_view_module_version": "1.0.0",
       "description": "Select run:",
       "index": 0,
       "layout": "IPY_MODEL_6c49b7be01894973a27358371814cbed",
       "style": "IPY_MODEL_442861bf08d341d4a7c693a347eb6d93"
      }
     },
     "d9cbcd6c60cf41689900185fc710c942": {
      "model_module": "@jupyter-widgets/controls",
      "model_module_version": "1.0.0",
      "model_name": "DropdownModel",
      "state": {
       "_model_module_version": "1.0.0",
       "_options_labels": [
        "0.1",
        "0.2",
        "0.3"
       ],
       "_view_module_version": "1.0.0",
       "description": "Select run:",
       "index": 0,
       "layout": "IPY_MODEL_8e50d8fe437249bfba86e4bfd13a9395",
       "style": "IPY_MODEL_629802ad002446fc88180cc49a7ddde7"
      }
     },
     "d9ea472045434d0597ae657cb774a867": {
      "model_module": "@jupyter-widgets/base",
      "model_module_version": "1.0.0",
      "model_name": "LayoutModel",
      "state": {}
     },
     "da298dc1df5e4f37b66ee3ccc5207925": {
      "model_module": "@jupyter-widgets/base",
      "model_module_version": "1.0.0",
      "model_name": "LayoutModel",
      "state": {}
     },
     "da91ab2b1eae4581aae8a76e09c47da8": {
      "model_module": "@jupyter-widgets/controls",
      "model_module_version": "1.0.0",
      "model_name": "DescriptionStyleModel",
      "state": {
       "_model_module_version": "1.0.0",
       "description_width": ""
      }
     },
     "dbfc90f70f1e491e832029633a4136de": {
      "model_module": "@jupyter-widgets/controls",
      "model_module_version": "1.0.0",
      "model_name": "DropdownModel",
      "state": {
       "_model_module_version": "1.0.0",
       "_options_labels": [
        "0.1",
        "0.2",
        "0.3"
       ],
       "_view_module_version": "1.0.0",
       "description": "Select run:",
       "index": 1,
       "layout": "IPY_MODEL_1d3c88c3f9144bf3902709f17343eecb",
       "style": "IPY_MODEL_c150219ec0114c3fbe4a6d30d490ee10"
      }
     },
     "e0cf1711ca744fdb875198ea9d362c7b": {
      "model_module": "@jupyter-widgets/controls",
      "model_module_version": "1.0.0",
      "model_name": "DropdownModel",
      "state": {
       "_model_module_version": "1.0.0",
       "_options_labels": [
        "0.1",
        "0.2",
        "0.3"
       ],
       "_view_module_version": "1.0.0",
       "description": "Select run:",
       "index": 0,
       "layout": "IPY_MODEL_a6f63f432cd546eda5d2f8a532fc6492",
       "style": "IPY_MODEL_0106c8e19d714070add39ce8c6d73b83"
      }
     },
     "e14db258bc534592a1629d4c4bddb325": {
      "model_module": "@jupyter-widgets/controls",
      "model_module_version": "1.0.0",
      "model_name": "DropdownModel",
      "state": {
       "_model_module_version": "1.0.0",
       "_options_labels": [
        "sample_data"
       ],
       "_view_module_version": "1.0.0",
       "description": "Select dataset:",
       "index": 0,
       "layout": "IPY_MODEL_d09eb1968e9e45aaa3b20dbb0183097f",
       "style": "IPY_MODEL_9d5525406bad48b883d779bec7baaf58"
      }
     },
     "ef2576fc06f24749a39578baa357e6d9": {
      "model_module": "@jupyter-widgets/base",
      "model_module_version": "1.0.0",
      "model_name": "LayoutModel",
      "state": {}
     },
     "f2ed9ad9b8c54dc0b0adfc949583770a": {
      "model_module": "@jupyter-widgets/controls",
      "model_module_version": "1.0.0",
      "model_name": "DropdownModel",
      "state": {
       "_model_module_version": "1.0.0",
       "_options_labels": [
        "sample_data"
       ],
       "_view_module_version": "1.0.0",
       "description": "Select dataset:",
       "index": 0,
       "layout": "IPY_MODEL_1dd2992ac3644fddaa7f723bd87568ee",
       "style": "IPY_MODEL_7ba3834ca0e14f9eb7f518bc600aa58c"
      }
     },
     "f4068b4164324ed7810c09e498fb2474": {
      "model_module": "@jupyter-widgets/controls",
      "model_module_version": "1.0.0",
      "model_name": "DropdownModel",
      "state": {
       "_model_module_version": "1.0.0",
       "_options_labels": [
        "0.1",
        "0.2",
        "0.3"
       ],
       "_view_module_version": "1.0.0",
       "description": "Select run:",
       "index": 2,
       "layout": "IPY_MODEL_ef2576fc06f24749a39578baa357e6d9",
       "style": "IPY_MODEL_5d286befe1904019824ac36fa5eb7191"
      }
     },
     "fb0bbbc5ed6e4082b82a72a3d8a26978": {
      "model_module": "@jupyter-widgets/controls",
      "model_module_version": "1.0.0",
      "model_name": "DropdownModel",
      "state": {
       "_model_module_version": "1.0.0",
       "_options_labels": [
        "sample_data"
       ],
       "_view_module_version": "1.0.0",
       "description": "Select dataset:",
       "index": 0,
       "layout": "IPY_MODEL_513adcb8dcfc4815958253d0dff162b8",
       "style": "IPY_MODEL_15d1bad56b81403fba9ff137717ff7bf"
      }
     },
     "fe51d25424bb45f49e633a859be38020": {
      "model_module": "@jupyter-widgets/controls",
      "model_module_version": "1.0.0",
      "model_name": "DropdownModel",
      "state": {
       "_model_module_version": "1.0.0",
       "_options_labels": [
        "sample_data"
       ],
       "_view_module_version": "1.0.0",
       "description": "Select dataset:",
       "index": 0,
       "layout": "IPY_MODEL_6a7d975636b043feaac4d405b289f134",
       "style": "IPY_MODEL_86e74f59a2484ab0915657d1af126fcf"
      }
     }
    },
    "version_major": 2,
    "version_minor": 0
   }
  },
  "pycharm": {
   "stem_cell": {
    "cell_type": "raw",
    "source": [],
    "metadata": {
     "collapsed": false
    }
   }
  }
 },
 "nbformat": 4,
 "nbformat_minor": 2
}